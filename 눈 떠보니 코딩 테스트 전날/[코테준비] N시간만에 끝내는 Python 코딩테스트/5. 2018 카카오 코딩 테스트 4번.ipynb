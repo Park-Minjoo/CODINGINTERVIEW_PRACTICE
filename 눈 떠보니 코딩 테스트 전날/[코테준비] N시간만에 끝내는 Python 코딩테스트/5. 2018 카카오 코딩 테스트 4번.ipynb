{
 "cells": [
  {
   "cell_type": "code",
   "outputs": [],
   "source": [],
   "metadata": {
    "collapsed": false
   },
   "id": "3602679aa5b0385f"
  },
  {
   "cell_type": "code",
   "execution_count": 17,
   "id": "initial_id",
   "metadata": {
    "collapsed": true,
    "ExecuteTime": {
     "end_time": "2025-02-04T05:38:03.609768Z",
     "start_time": "2025-02-04T05:38:03.608681Z"
    }
   },
   "outputs": [
    {
     "name": "stdout",
     "output_type": "stream",
     "text": [
      "09:00\n",
      "09:09\n",
      "08:59\n"
     ]
    }
   ],
   "source": [
    "def solution(n, t, m, timetable):\n",
    "    timetable = sorted([int(i[:2]) * 60 + int(i[3:]) for i in timetable])# 분으로 변환\n",
    "    \n",
    "    콘의출근시간 = 540\n",
    "    # 출근한사람들 = []\n",
    "    셔틀버스시간 = 540\n",
    "    \n",
    "    for i in range(n):\n",
    "        for j in range(m):\n",
    "            if timetable and timetable[0] <= 셔틀버스시간:\n",
    "                콘의출근시간 = timetable.pop(0) - 1\n",
    "                # 출근한사람들.append(timetable.pop(0))\n",
    "            else: 콘의출근시간 = 셔틀버스시간\n",
    "        셔틀버스시간 += t\n",
    "    return f'{str(콘의출근시간//60).zfill(2)}:{str(콘의출근시간%60).zfill(2)}'\n",
    "\n",
    "testcase = [\n",
    "    (1, 1, 5, ['08:00', '08:01', '08:02', '08:02']),\n",
    "    (2, 10, 2, ['09:10','09:09','08:00']),\n",
    "    (1, 2, 1, ['09:00', '09:00', '09:00', '09:00'])\n",
    "]\n",
    "\n",
    "for n, t, m, timetable in testcase:\n",
    "    print(solution(n, t, m, timetable))"
   ]
  },
  {
   "cell_type": "code",
   "outputs": [],
   "source": [],
   "metadata": {
    "collapsed": false
   },
   "id": "a3cc7bfc4bc75558"
  }
 ],
 "metadata": {
  "kernelspec": {
   "display_name": "Python 3",
   "language": "python",
   "name": "python3"
  },
  "language_info": {
   "codemirror_mode": {
    "name": "ipython",
    "version": 2
   },
   "file_extension": ".py",
   "mimetype": "text/x-python",
   "name": "python",
   "nbconvert_exporter": "python",
   "pygments_lexer": "ipython2",
   "version": "2.7.6"
  }
 },
 "nbformat": 4,
 "nbformat_minor": 5
}
