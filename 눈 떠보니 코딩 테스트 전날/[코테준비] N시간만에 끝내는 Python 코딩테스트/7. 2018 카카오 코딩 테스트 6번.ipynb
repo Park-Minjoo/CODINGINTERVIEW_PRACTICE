{
 "cells": [
  {
   "cell_type": "code",
   "execution_count": 3,
   "id": "initial_id",
   "metadata": {
    "collapsed": true,
    "ExecuteTime": {
     "end_time": "2025-02-04T08:34:18.988876Z",
     "start_time": "2025-02-04T08:34:18.987023Z"
    }
   },
   "outputs": [
    {
     "data": {
      "text/plain": "[['C', 'C', 'B', 'D', 'E'],\n ['A', 'A', 'A', 'D', 'E'],\n ['A', 'A', 'A', 'B', 'F'],\n ['C', 'C', 'B', 'B', 'F']]"
     },
     "execution_count": 3,
     "metadata": {},
     "output_type": "execute_result"
    }
   ],
   "source": [
    "[list(i) for i in ['CCBDE', 'AAADE', 'AAABF', 'CCBBF']]"
   ]
  },
  {
   "cell_type": "code",
   "outputs": [],
   "source": [
    "[[_, _, _, 'D', 'E'],\n",
    " [_, _, _, 'D', 'E'],\n",
    " ['C','C', 'B', 'B', 'F'],\n",
    " ['C','C', 'B', 'B', 'F']]"
   ],
   "metadata": {
    "collapsed": false
   },
   "id": "973e86d2b290d9bf"
  },
  {
   "cell_type": "code",
   "outputs": [],
   "source": [
    "import numpy as np\n",
    "\n",
    "행 = 4\n",
    "열 = 5\n",
    "\n",
    "s = [list(i) for i in ['CCBDE', 'AAADE', 'AAABF', 'CCBBF']]\n",
    "s = np.array(s)\n",
    "\n",
    "for i in range(열 - 1):\n",
    " "
   ],
   "metadata": {
    "collapsed": false,
    "ExecuteTime": {
     "end_time": "2025-02-04T08:37:10.737797Z",
     "start_time": "2025-02-04T08:37:10.562373Z"
    }
   },
   "id": "ba6acd743a90dae5",
   "execution_count": 4
  },
  {
   "cell_type": "code",
   "outputs": [],
   "source": [],
   "metadata": {
    "collapsed": false,
    "ExecuteTime": {
     "end_time": "2025-02-04T08:37:10.742212Z",
     "start_time": "2025-02-04T08:37:10.739375Z"
    }
   },
   "id": "83da9c6ae9746647",
   "execution_count": 4
  },
  {
   "cell_type": "code",
   "outputs": [],
   "source": [],
   "metadata": {
    "collapsed": false
   },
   "id": "4692e7ccb8b4babf"
  }
 ],
 "metadata": {
  "kernelspec": {
   "display_name": "Python 3",
   "language": "python",
   "name": "python3"
  },
  "language_info": {
   "codemirror_mode": {
    "name": "ipython",
    "version": 2
   },
   "file_extension": ".py",
   "mimetype": "text/x-python",
   "name": "python",
   "nbconvert_exporter": "python",
   "pygments_lexer": "ipython2",
   "version": "2.7.6"
  }
 },
 "nbformat": 4,
 "nbformat_minor": 5
}
