{
 "cells": [
  {
   "cell_type": "markdown",
   "source": [],
   "metadata": {
    "collapsed": false
   },
   "id": "77283c46deee2bb5"
  },
  {
   "cell_type": "code",
   "execution_count": 12,
   "id": "initial_id",
   "metadata": {
    "collapsed": true,
    "ExecuteTime": {
     "end_time": "2025-02-04T06:01:20.680774Z",
     "start_time": "2025-02-04T06:01:20.673239Z"
    }
   },
   "outputs": [
    {
     "name": "stdout",
     "output_type": "stream",
     "text": [
      "['fr', 'ra', 'an', 'nc', 'ce'] ['fr', 're', 'en', 'nc', 'ch']\n",
      "16384.0\n",
      "['ha', 'an', 'nd', 'ds', 'sh', 'ha', 'ak', 'ke'] ['sh', 'ha', 'ak', 'ke', 'ha', 'an', 'nd', 'ds']\n",
      "65536.0\n",
      "['aa', 'aa'] ['aa', 'aa', 'aa']\n",
      "65536.0\n"
     ]
    }
   ],
   "source": [
    "import re\n",
    "\n",
    "def solution(str1, str2):\n",
    "    str1 = str1.lower()\n",
    "    str2 = str2.lower()\n",
    "    \n",
    "    str1List = []\n",
    "    str2List = []\n",
    "    \n",
    "    패턴 = re.compile(r'[a-z]{2}')\n",
    "    \n",
    "    for i in range(len(str1)-1):\n",
    "        문자열 = str1[i]+str1[i+1]\n",
    "        if 패턴.findall(문자열):\n",
    "             str1List.append(문자열)\n",
    "    for i in range(len(str2)-1):\n",
    "        문자열 = str2[i]+str2[i+1]\n",
    "        if 패턴.findall(문자열):\n",
    "             str2List.append(문자열)\n",
    "        \n",
    "    print(str1List, str2List)\n",
    "    교집합 = set(str1List) & set(str2List)\n",
    "    합집합 = set(str1List) | set(str2List)\n",
    "        \n",
    "    \n",
    "    # print(패턴.findall(str1))\n",
    "    # print(패턴.findall(str2))\n",
    "    return len(교집합) / len(합집합) * 65536\n",
    "\n",
    "testcase = [\n",
    "    ('FRANCE', 'french'),\n",
    "    ('handshake', 'shake hands'),\n",
    "    ('aa1+aa2', 'AAAA12')\n",
    "]\n",
    "\n",
    "for str1, str2 in testcase:\n",
    "    print(solution(str1, str2))\n",
    "    \n",
    "# 다중집합 아닐 때 -> set으로"
   ]
  },
  {
   "cell_type": "code",
   "outputs": [
    {
     "name": "stdout",
     "output_type": "stream",
     "text": [
      "['fr', 'ra', 'an', 'nc', 'ce'] ['fr', 're', 'en', 'nc', 'ch']\n",
      "0\n",
      "0\n",
      "16384\n",
      "['ha', 'an', 'nd', 'ds', 'sh', 'ha', 'ak', 'ke'] ['sh', 'ha', 'ak', 'ke', 'ha', 'an', 'nd', 'ds']\n",
      "1\n",
      "1\n",
      "65536\n",
      "['aa', 'aa'] ['aa', 'aa', 'aa']\n",
      "1\n",
      "2\n",
      "43690\n"
     ]
    }
   ],
   "source": [
    "# 다중집합일 때 (collections counter를 사용하면 편리하게 풀 수 있음)\n",
    "\n",
    "import re\n",
    "\n",
    "def solution(str1, str2):\n",
    "    str1 = str1.lower()\n",
    "    str2 = str2.lower()\n",
    "    \n",
    "    str1List = []\n",
    "    str2List = []\n",
    "    \n",
    "    패턴 = re.compile(r'[a-z]{2}')\n",
    "    \n",
    "    for i in range(len(str1)-1):\n",
    "        문자열 = str1[i]+str1[i+1]\n",
    "        if 패턴.findall(문자열):\n",
    "             str1List.append(문자열)\n",
    "    for i in range(len(str2)-1):\n",
    "        문자열 = str2[i]+str2[i+1]\n",
    "        if 패턴.findall(문자열):\n",
    "             str2List.append(문자열)\n",
    "        \n",
    "    print(str1List, str2List)\n",
    "    교집합 = set(str1List) & set(str2List)\n",
    "    합집합 = set(str1List) | set(str2List)\n",
    "        \n",
    "    교집합추가수 = 0\n",
    "    합집합추가수 = 0\n",
    "    for i in 교집합:\n",
    "        if str1List.count(i) > 1 and str2List.count(i) > 1:\n",
    "            if str1List.count(i) > str2List.count(i):\n",
    "                교집합추가수 += str2List.count(i) - 1\n",
    "            else:\n",
    "                교집합추가수 += str1List.count(i) - 1\n",
    "    print(교집합추가수)          \n",
    "    for i in 합집합:\n",
    "        if str1List.count(i) > 1 or str2List.count(i) > 1:\n",
    "            if str1List.count(i) > str2List.count(i):\n",
    "                합집합추가수 += str1List.count(i) - 1\n",
    "            else:\n",
    "                합집합추가수 += str2List.count(i) - 1\n",
    "    print(합집합추가수)\n",
    "    return int((len(교집합) + 교집합추가수)/ (len(합집합) + 합집합추가수) * 65536)\n",
    "\n",
    "testcase = [\n",
    "    ('FRANCE', 'french'),\n",
    "    ('handshake', 'shake hands'),\n",
    "    ('aa1+aa2', 'AAAA12')\n",
    "]\n",
    " # 올림은 ceil, 반올림은 round\n",
    "for str1, str2 in testcase:\n",
    "    print(solution(str1, str2))"
   ],
   "metadata": {
    "collapsed": false,
    "ExecuteTime": {
     "end_time": "2025-02-04T06:14:18.782124Z",
     "start_time": "2025-02-04T06:14:18.778843Z"
    }
   },
   "id": "55ac0474865a5e0c",
   "execution_count": 23
  },
  {
   "cell_type": "code",
   "outputs": [
    {
     "ename": "SyntaxError",
     "evalue": "'return' outside function (2404313008.py, line 3)",
     "output_type": "error",
     "traceback": [
      "\u001B[0;36m  Cell \u001B[0;32mIn[25], line 3\u001B[0;36m\u001B[0m\n\u001B[0;31m    return 65536\u001B[0m\n\u001B[0m    ^\u001B[0m\n\u001B[0;31mSyntaxError\u001B[0m\u001B[0;31m:\u001B[0m 'return' outside function\n"
     ]
    }
   ],
   "source": [
    "# 예외처리 추가\n",
    "if len(str) <= 1 and len(str2) <= 1:\n",
    "    return 65536"
   ],
   "metadata": {
    "collapsed": false,
    "ExecuteTime": {
     "end_time": "2025-02-04T06:16:11.030606Z",
     "start_time": "2025-02-04T06:16:11.011832Z"
    }
   },
   "id": "1a1898f6d1200472",
   "execution_count": 25
  },
  {
   "cell_type": "code",
   "outputs": [],
   "source": [
    "# 마지막에 추가\n",
    "if (len(합집합) + 합집합추가수) == 0:\n",
    "    return 65536\n",
    "if (len(교집합) + 교집합추가수) == 0:\n",
    "    return 0"
   ],
   "metadata": {
    "collapsed": false
   },
   "id": "c81c716e880d3574"
  }
 ],
 "metadata": {
  "kernelspec": {
   "display_name": "Python 3",
   "language": "python",
   "name": "python3"
  },
  "language_info": {
   "codemirror_mode": {
    "name": "ipython",
    "version": 2
   },
   "file_extension": ".py",
   "mimetype": "text/x-python",
   "name": "python",
   "nbconvert_exporter": "python",
   "pygments_lexer": "ipython2",
   "version": "2.7.6"
  }
 },
 "nbformat": 4,
 "nbformat_minor": 5
}
