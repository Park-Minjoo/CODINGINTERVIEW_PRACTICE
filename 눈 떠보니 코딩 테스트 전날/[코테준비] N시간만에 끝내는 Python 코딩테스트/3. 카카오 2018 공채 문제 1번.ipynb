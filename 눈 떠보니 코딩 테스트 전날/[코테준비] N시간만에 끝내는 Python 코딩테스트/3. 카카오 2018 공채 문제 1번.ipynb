{
 "cells": [
  {
   "cell_type": "code",
   "execution_count": 1,
   "id": "initial_id",
   "metadata": {
    "collapsed": true,
    "ExecuteTime": {
     "end_time": "2025-02-04T03:59:22.721630Z",
     "start_time": "2025-02-04T03:59:22.718763Z"
    }
   },
   "outputs": [
    {
     "data": {
      "text/plain": "'0b1001'"
     },
     "execution_count": 1,
     "metadata": {},
     "output_type": "execute_result"
    }
   ],
   "source": [
    "bin(9) # oct hex"
   ]
  },
  {
   "cell_type": "code",
   "outputs": [
    {
     "data": {
      "text/plain": "'0b11110'"
     },
     "execution_count": 2,
     "metadata": {},
     "output_type": "execute_result"
    }
   ],
   "source": [
    "bin(30)"
   ],
   "metadata": {
    "collapsed": false,
    "ExecuteTime": {
     "end_time": "2025-02-04T03:59:25.987646Z",
     "start_time": "2025-02-04T03:59:25.985826Z"
    }
   },
   "id": "a2f281e456bb9c0b",
   "execution_count": 2
  },
  {
   "cell_type": "code",
   "outputs": [],
   "source": [
    "#  1001\n",
    "# 11110\n",
    "# -----\n",
    "# 11111"
   ],
   "metadata": {
    "collapsed": false,
    "ExecuteTime": {
     "end_time": "2025-02-04T04:00:29.978646Z",
     "start_time": "2025-02-04T04:00:29.978256Z"
    }
   },
   "id": "fe931573805b3e36",
   "execution_count": 3
  },
  {
   "cell_type": "code",
   "outputs": [
    {
     "data": {
      "text/plain": "'#####'"
     },
     "execution_count": 7,
     "metadata": {},
     "output_type": "execute_result"
    }
   ],
   "source": [
    "bin(9 | 30)[2:].replace('1', \"#\").replace('0', \" \")"
   ],
   "metadata": {
    "collapsed": false,
    "ExecuteTime": {
     "end_time": "2025-02-04T04:01:06.654542Z",
     "start_time": "2025-02-04T04:01:06.652765Z"
    }
   },
   "id": "5d0f678d77ecb29c",
   "execution_count": 7
  },
  {
   "cell_type": "code",
   "outputs": [
    {
     "data": {
      "text/plain": "['#####', '# # #', '### #', '#  ##', '#####']"
     },
     "execution_count": 10,
     "metadata": {},
     "output_type": "execute_result"
    }
   ],
   "source": [
    "arr1 = [9, 20, 28, 18, 11]\n",
    "arr2 = [30, 1, 21, 17, 28]\n",
    "n = 5\n",
    "\n",
    "answer = [bin(arr1[i]|arr2[i])[2:].replace('1', '#').replace('0', ' ') for i in range(n)]\n",
    "\n",
    "answer"
   ],
   "metadata": {
    "collapsed": false,
    "ExecuteTime": {
     "end_time": "2025-02-04T04:03:26.091767Z",
     "start_time": "2025-02-04T04:03:26.089996Z"
    }
   },
   "id": "8c9978d43b047871",
   "execution_count": 10
  },
  {
   "cell_type": "code",
   "outputs": [
    {
     "name": "stdout",
     "output_type": "stream",
     "text": [
      "(9, 30)\n",
      "(20, 1)\n",
      "(28, 21)\n",
      "(18, 17)\n",
      "(11, 28)\n"
     ]
    }
   ],
   "source": [
    "arr1 = [9, 20, 28, 18, 11]\n",
    "arr2 = [30, 1, 21, 17, 28]\n",
    "n = 5\n",
    "\n",
    "for i in zip(arr1, arr2):\n",
    "    print(i)"
   ],
   "metadata": {
    "collapsed": false,
    "ExecuteTime": {
     "end_time": "2025-02-04T04:06:28.560122Z",
     "start_time": "2025-02-04T04:06:28.547916Z"
    }
   },
   "id": "ea203d73c8537981",
   "execution_count": 17
  },
  {
   "cell_type": "code",
   "outputs": [
    {
     "name": "stdout",
     "output_type": "stream",
     "text": [
      "9 30\n",
      "20 1\n",
      "28 21\n",
      "18 17\n",
      "11 28\n"
     ]
    }
   ],
   "source": [
    "for i, j in zip(arr1, arr2):\n",
    "    print(i, j)"
   ],
   "metadata": {
    "collapsed": false,
    "ExecuteTime": {
     "end_time": "2025-02-04T04:06:30.159108Z",
     "start_time": "2025-02-04T04:06:30.156096Z"
    }
   },
   "id": "a8a4c8958f5ad39b",
   "execution_count": 18
  },
  {
   "cell_type": "code",
   "outputs": [
    {
     "name": "stdout",
     "output_type": "stream",
     "text": [
      "#####\n",
      "# # #\n",
      "### #\n",
      "#  ##\n",
      "#####\n"
     ]
    }
   ],
   "source": [
    "for i, j in zip(arr1, arr2):\n",
    "    print(bin(i | j)[2:].replace('1', '#').replace('0', ' '))"
   ],
   "metadata": {
    "collapsed": false,
    "ExecuteTime": {
     "end_time": "2025-02-04T04:07:09.789693Z",
     "start_time": "2025-02-04T04:07:09.789199Z"
    }
   },
   "id": "611d4a23e8b967ef",
   "execution_count": 22
  },
  {
   "cell_type": "code",
   "outputs": [
    {
     "name": "stdout",
     "output_type": "stream",
     "text": [
      "  ###\n",
      "# # #\n",
      "### #\n",
      "#  ##\n",
      "#####\n"
     ]
    }
   ],
   "source": [
    "arr1 = [3, 20, 28, 18, 11]\n",
    "arr2 = [5, 1, 21, 17, 28]\n",
    "n = 5\n",
    "\n",
    "for i, j in zip(arr1, arr2):\n",
    "    print(bin(i | j)[2:].zfill(n).replace('1', '#').replace('0', ' '))"
   ],
   "metadata": {
    "collapsed": false,
    "ExecuteTime": {
     "end_time": "2025-02-04T04:08:56.843058Z",
     "start_time": "2025-02-04T04:08:56.837342Z"
    }
   },
   "id": "b8344ce6182f42ed",
   "execution_count": 25
  },
  {
   "cell_type": "code",
   "outputs": [],
   "source": [
    "# 자리수를 맞춰줘야 함!"
   ],
   "metadata": {
    "collapsed": false,
    "ExecuteTime": {
     "end_time": "2025-02-04T04:09:15.522708Z",
     "start_time": "2025-02-04T04:09:15.521860Z"
    }
   },
   "id": "78dff0a5ae254892",
   "execution_count": 26
  },
  {
   "cell_type": "code",
   "outputs": [
    {
     "name": "stdout",
     "output_type": "stream",
     "text": [
      "['#####', '# # #', '### #', '#  ##', '#####']\n"
     ]
    }
   ],
   "source": [
    "def solution(n, arr1, arr2):\n",
    "    answer = []\n",
    "    for i, j in zip(arr1, arr2):\n",
    "        answer.append(bin(i | j)[2:].zfill(n).replace('1', '#').replace('0', ' '))\n",
    "    return answer\n",
    "\n",
    "testcase = [(5, [9, 20, 28, 18, 11], [30, 1, 21, 17, 28])]\n",
    "\n",
    "for i, j, k in testcase:\n",
    "    print(solution(i, j, k))"
   ],
   "metadata": {
    "collapsed": false,
    "ExecuteTime": {
     "end_time": "2025-02-04T04:11:12.275084Z",
     "start_time": "2025-02-04T04:11:12.274405Z"
    }
   },
   "id": "35a0b6f604edd16b",
   "execution_count": 27
  },
  {
   "cell_type": "code",
   "outputs": [],
   "source": [],
   "metadata": {
    "collapsed": false
   },
   "id": "e3a6c48c470a6b63"
  }
 ],
 "metadata": {
  "kernelspec": {
   "display_name": "Python 3",
   "language": "python",
   "name": "python3"
  },
  "language_info": {
   "codemirror_mode": {
    "name": "ipython",
    "version": 2
   },
   "file_extension": ".py",
   "mimetype": "text/x-python",
   "name": "python",
   "nbconvert_exporter": "python",
   "pygments_lexer": "ipython2",
   "version": "2.7.6"
  }
 },
 "nbformat": 4,
 "nbformat_minor": 5
}
