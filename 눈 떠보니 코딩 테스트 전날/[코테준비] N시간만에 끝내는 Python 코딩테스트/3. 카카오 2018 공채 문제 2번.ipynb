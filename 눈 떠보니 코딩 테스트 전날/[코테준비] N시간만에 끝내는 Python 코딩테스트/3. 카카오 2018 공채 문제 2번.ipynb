{
 "cells": [
  {
   "cell_type": "code",
   "execution_count": 33,
   "id": "initial_id",
   "metadata": {
    "collapsed": true,
    "ExecuteTime": {
     "end_time": "2025-02-04T04:45:17.705433Z",
     "start_time": "2025-02-04T04:45:17.701981Z"
    }
   },
   "outputs": [
    {
     "name": "stdout",
     "output_type": "stream",
     "text": [
      "[2, 8, 27]\n"
     ]
    }
   ],
   "source": [
    "def solution(dartResult):\n",
    "    answer = []\n",
    "    for num, i in enumerate(dartResult, 1):\n",
    "        if i == 'S':\n",
    "            answer[-1] **= 1\n",
    "        elif i == 'D':\n",
    "            answer[-1] **= 2\n",
    "        elif i == 'T':\n",
    "            answer[-1] **= 3\n",
    "        elif i == '*':\n",
    "            answer[-1] *= 2\n",
    "            if len(answer) >= 2:\n",
    "                answer[-2] *= 2\n",
    "        elif i == '#':\n",
    "            answer[-1] += -1\n",
    "        else:\n",
    "            if dartResult[num-1:num+1] == '10':\n",
    "                answer.append(10)\n",
    "            elif dartResult[num-2:num] != '10':\n",
    "                answer.append(int(i))\n",
    "    return answer\n",
    "\n",
    "print(solution('1S2D*3T'))"
   ]
  },
  {
   "cell_type": "code",
   "outputs": [
    {
     "data": {
      "text/plain": "[('1', 'D', ''), ('2', 'S', '#'), ('10', 'S', '')]"
     },
     "execution_count": 29,
     "metadata": {},
     "output_type": "execute_result"
    }
   ],
   "source": [
    "import re\n",
    "\n",
    "testcase = ['1S2D*3T', '1D2S#10S']\n",
    "패턴 = re.compile(r'([0-9]|10)([SDT])([\\*\\#]?)')\n",
    "패턴.findall(testcase[1])"
   ],
   "metadata": {
    "collapsed": false,
    "ExecuteTime": {
     "end_time": "2025-02-04T04:39:25.342319Z",
     "start_time": "2025-02-04T04:39:25.340111Z"
    }
   },
   "id": "d449bdfe1ab75ab",
   "execution_count": 29
  },
  {
   "cell_type": "code",
   "outputs": [
    {
     "name": "stdout",
     "output_type": "stream",
     "text": [
      "1 S \n",
      "2 D *\n",
      "3 T \n",
      "37\n"
     ]
    }
   ],
   "source": [
    " import re\n",
    "\n",
    "def solution(dartResult):\n",
    "    패턴 = re.compile(r'([0-9]|10)([SDT])([\\*\\#]?)')\n",
    "    answer = []\n",
    "    계산식 = {\n",
    "        'S': lambda 값:값,\n",
    "        'D': lambda 값:값**2,\n",
    "        'T': lambda 값:값**3,\n",
    "        \n",
    "    }\n",
    "    for 숫자, 승수, 상 in 패턴.findall(dartResult):\n",
    "        print(숫자, 승수, 상)\n",
    "        if 승수 == 'S':\n",
    "            점수 = 계산식['S'](int(숫자))\n",
    "        elif 승수 == 'D':\n",
    "            점수 = 계산식['D'](int(숫자))\n",
    "        elif 승수 == 'T':\n",
    "            점수 = 계산식['T'](int(숫자))\n",
    "        if 상 == '*':\n",
    "            점수 *= 2\n",
    "            if answer:\n",
    "                answer[-1] *= 2\n",
    "        elif 상 == '#':\n",
    "            점수 *= -1\n",
    "        answer.append(점수)\n",
    "    return sum(answer)\n",
    "\n",
    "print(solution('1S2D*3T'))"
   ],
   "metadata": {
    "collapsed": false,
    "ExecuteTime": {
     "end_time": "2025-02-04T04:49:39.835554Z",
     "start_time": "2025-02-04T04:49:39.832972Z"
    }
   },
   "id": "23366fafce6aa312",
   "execution_count": 37
  },
  {
   "cell_type": "code",
   "outputs": [],
   "source": [],
   "metadata": {
    "collapsed": false
   },
   "id": "c0957b635e8d23d"
  }
 ],
 "metadata": {
  "kernelspec": {
   "display_name": "Python 3",
   "language": "python",
   "name": "python3"
  },
  "language_info": {
   "codemirror_mode": {
    "name": "ipython",
    "version": 2
   },
   "file_extension": ".py",
   "mimetype": "text/x-python",
   "name": "python",
   "nbconvert_exporter": "python",
   "pygments_lexer": "ipython2",
   "version": "2.7.6"
  }
 },
 "nbformat": 4,
 "nbformat_minor": 5
}
