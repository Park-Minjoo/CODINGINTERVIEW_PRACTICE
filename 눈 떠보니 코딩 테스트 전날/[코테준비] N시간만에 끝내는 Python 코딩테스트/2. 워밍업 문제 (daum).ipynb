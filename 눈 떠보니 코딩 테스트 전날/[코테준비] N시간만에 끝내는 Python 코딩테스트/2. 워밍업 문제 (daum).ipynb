{
 "cells": [
  {
   "cell_type": "code",
   "execution_count": 2,
   "id": "initial_id",
   "metadata": {
    "collapsed": true,
    "ExecuteTime": {
     "end_time": "2025-02-04T03:47:39.321247Z",
     "start_time": "2025-02-04T03:47:39.318533Z"
    }
   },
   "outputs": [
    {
     "data": {
      "text/plain": "20"
     },
     "execution_count": 2,
     "metadata": {},
     "output_type": "execute_result"
    }
   ],
   "source": [
    "s = [1, 3, 4, 8, 13, 17, 20]\n",
    "m = max(s)\n",
    "m"
   ]
  },
  {
   "cell_type": "code",
   "outputs": [
    {
     "data": {
      "text/plain": "(3, 4)"
     },
     "execution_count": 6,
     "metadata": {},
     "output_type": "execute_result"
    }
   ],
   "source": [
    "s = [1, 3, 4, 8, 13, 17, 20]\n",
    "m = max(s)\n",
    "\n",
    "index = 0\n",
    "for i in range(len(s) - 1):\n",
    "    if m > s[i+1] - s[i]:\n",
    "        index = i\n",
    "        m = s[i+1] - s[i]\n",
    "s[index], s[index+1]"
   ],
   "metadata": {
    "collapsed": false,
    "ExecuteTime": {
     "end_time": "2025-02-04T03:49:53.108651Z",
     "start_time": "2025-02-04T03:49:53.106096Z"
    }
   },
   "id": "28bd7f5d37baeade",
   "execution_count": 6
  },
  {
   "cell_type": "code",
   "outputs": [
    {
     "data": {
      "text/plain": "[(1, 3), (3, 4), (4, 8), (8, 13), (13, 17), (17, 20)]"
     },
     "execution_count": 7,
     "metadata": {},
     "output_type": "execute_result"
    }
   ],
   "source": [
    "s = [1, 3, 4, 8, 13, 17, 20]\n",
    "ss = [ 3, 4, 8, 13, 17, 20]\n",
    "# 짝의 값의 차가 가장 작은 순으로 정렬\n",
    "list(zip(s, ss))"
   ],
   "metadata": {
    "collapsed": false,
    "ExecuteTime": {
     "end_time": "2025-02-04T03:51:37.957815Z",
     "start_time": "2025-02-04T03:51:37.953476Z"
    }
   },
   "id": "c100a49c0bdb017",
   "execution_count": 7
  },
  {
   "cell_type": "code",
   "outputs": [
    {
     "data": {
      "text/plain": "(3, 4)"
     },
     "execution_count": 13,
     "metadata": {},
     "output_type": "execute_result"
    }
   ],
   "source": [
    "s = [1, 3, 4, 8, 13, 17, 20]\n",
    "ss = [ 3, 4, 8, 13, 17, 20]\n",
    "\n",
    "sorted(list(zip(s, ss)), key=lambda i: i[1]-i[0])[0]"
   ],
   "metadata": {
    "collapsed": false,
    "ExecuteTime": {
     "end_time": "2025-02-04T03:53:53.926422Z",
     "start_time": "2025-02-04T03:53:53.923044Z"
    }
   },
   "id": "f579a6c05726539f",
   "execution_count": 13
  },
  {
   "cell_type": "code",
   "outputs": [
    {
     "data": {
      "text/plain": "[(3, 4), (1, 3), (17, 20), (4, 8), (13, 17), (8, 13)]"
     },
     "execution_count": 15,
     "metadata": {},
     "output_type": "execute_result"
    }
   ],
   "source": [
    "def 두수의차(i):\n",
    "    return i[1] - i[0]\n",
    "\n",
    "sorted(list(zip(s, ss)), key=두수의차)\n"
   ],
   "metadata": {
    "collapsed": false,
    "ExecuteTime": {
     "end_time": "2025-02-04T03:55:13.907723Z",
     "start_time": "2025-02-04T03:55:13.900710Z"
    }
   },
   "id": "d55949fffffd785c",
   "execution_count": 15
  },
  {
   "cell_type": "code",
   "outputs": [],
   "source": [],
   "metadata": {
    "collapsed": false
   },
   "id": "417b4be5c1965dc8"
  }
 ],
 "metadata": {
  "kernelspec": {
   "display_name": "Python 3",
   "language": "python",
   "name": "python3"
  },
  "language_info": {
   "codemirror_mode": {
    "name": "ipython",
    "version": 2
   },
   "file_extension": ".py",
   "mimetype": "text/x-python",
   "name": "python",
   "nbconvert_exporter": "python",
   "pygments_lexer": "ipython2",
   "version": "2.7.6"
  }
 },
 "nbformat": 4,
 "nbformat_minor": 5
}
