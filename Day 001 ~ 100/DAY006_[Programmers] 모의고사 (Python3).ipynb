1 Day 1 Commit 챌린지

그 동안 시험 공부한다는 핑계로 미뤄놨던 챌린지를 다시 이어가보도록 한다. 

생각보다 어려워서 somjang님의 풀이를 참고하여 답안을 완성하였다. 

```
def solution(answers):
    answer = []
    
    tester_1 = [1,2,3,4,5]
    tester_2 = [2,1,2,3,2,4,2,5]
    tester_3 = [3,3,1,1,2,2,4,4,5,5]
    
    len_tester_1 = len(tester_1)
    len_tester_2 = len(tester_2)
    len_tester_3 = len(tester_3)
    
    check_1 = 0
    check_2 = 0
    check_3 = 0
    
    for i in range(len(answers)):
        if tester_1[i%len_tester_1] == answers[i]:
            check_1 = check_1 + 1
        if tester_2[i%len_tester_2] == answers[i]:
            check_2 = check_2 + 1
        if tester_3[i%len_tester_3] == answers[i]:
            check_3 = check_3 + 1
            
    max_right = max(check_1, check_2, check_3)
    
    if max_right == check_1: 
        answer.append(1)
    if max_right == check_2: 
        answer.append(2)
    if max_right == check_3: 
        answer.append(3)
        
    answer = sorted(answer)

            
    return answer
```

막상 풀고 나면 이해하기는 어렵지 않은 코드. 

하지만 반복하여 답을 맞춰나가는 과정이 어려운 부분이었다. 
