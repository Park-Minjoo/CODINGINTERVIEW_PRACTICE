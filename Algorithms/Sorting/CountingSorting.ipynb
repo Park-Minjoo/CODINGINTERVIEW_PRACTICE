{
 "cells": [
  {
   "cell_type": "markdown",
   "source": [
    "# 계수 정렬 알고리즘"
   ],
   "metadata": {
    "collapsed": false
   },
   "id": "1efae8c43b2d1f0b"
  },
  {
   "cell_type": "code",
   "execution_count": 18,
   "id": "initial_id",
   "metadata": {
    "collapsed": true,
    "ExecuteTime": {
     "end_time": "2024-02-13T12:40:17.959753Z",
     "start_time": "2024-02-13T12:40:17.955974Z"
    }
   },
   "outputs": [
    {
     "name": "stdout",
     "output_type": "stream",
     "text": [
      "10\n",
      "0 0 1 2 2 3 4 5 5 6 7 8 9 "
     ]
    }
   ],
   "source": [
    "# 모든 원소의 값이 0보다 크거나 같다고 가정\n",
    "array = [7, 5, 9, 0, 3, 1, 6, 2, 4, 8, 0, 5, 2]\n",
    "# 모든 범위를 포함하는 리스트 선언(모든 값은 0으로 초기화)\n",
    "count = [0] * (max(array) + 1)\n",
    "\n",
    "for i in range(len(array)):\n",
    "    count[array[i]] += 1 # 각 데이터에 해당하는 인덱스의 값 증가\n",
    "\n",
    "for i in range(len(count)): # 리스트에 기록된 정렬 정보 확인\n",
    "    for j in range(count[i]):\n",
    "        print(i, end=' ') # 띄어쓰기를 구분으로 등장한 횟수만큼 인덱스 출력\n"
   ]
  }
 ],
 "metadata": {
  "kernelspec": {
   "display_name": "Python 3",
   "language": "python",
   "name": "python3"
  },
  "language_info": {
   "codemirror_mode": {
    "name": "ipython",
    "version": 2
   },
   "file_extension": ".py",
   "mimetype": "text/x-python",
   "name": "python",
   "nbconvert_exporter": "python",
   "pygments_lexer": "ipython2",
   "version": "2.7.6"
  }
 },
 "nbformat": 4,
 "nbformat_minor": 5
}
