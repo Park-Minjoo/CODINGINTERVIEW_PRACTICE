{
 "cells": [
  {
   "cell_type": "markdown",
   "source": [
    "# <문제> 두 배열의 원소 교체"
   ],
   "metadata": {
    "collapsed": false
   },
   "id": "cd2f2ddf18d0f665"
  },
  {
   "cell_type": "code",
   "execution_count": 4,
   "id": "initial_id",
   "metadata": {
    "collapsed": true,
    "ExecuteTime": {
     "end_time": "2024-02-13T12:59:26.530433Z",
     "start_time": "2024-02-13T12:59:20.454696Z"
    }
   },
   "outputs": [
    {
     "name": "stdout",
     "output_type": "stream",
     "text": [
      "6\n"
     ]
    }
   ],
   "source": [
    "n, k = map(int, input().split())\n",
    "listA = list(map(int, input().split()))\n",
    "listB = list(map(int, input().split()))\n",
    "sortedA = sorted(listA)\n",
    "sortedB = sorted(listB)\n",
    "\n",
    "for i in range(k):   \n",
    "    if sortedA[n-1] < sortedB[n-1]:\n",
    "        sortedA[0] = sortedB[n-1]\n",
    "\n",
    "sum_list = sum(sortedA)\n",
    "print(sum_list)"
   ]
  },
  {
   "cell_type": "markdown",
   "source": [
    "* B의 가장 큰 값과 A의 가장 큰 값을 비교해서 B가 더 크면 바꿈, 아니면 바로 덧셈 진행\n",
    "* 근데 이런 식으로 계속 if 문을 사용하면 -> k가 엄청 큰 수일 때 어떻게 처리할 것인지? "
   ],
   "metadata": {
    "collapsed": false
   },
   "id": "7a98c6c38c5bfe43"
  },
  {
   "cell_type": "markdown",
   "source": [
    "## 풀이"
   ],
   "metadata": {
    "collapsed": false
   },
   "id": "6694a56c0ec35340"
  },
  {
   "cell_type": "code",
   "execution_count": 2,
   "outputs": [
    {
     "name": "stdout",
     "output_type": "stream",
     "text": [
      "8\n"
     ]
    }
   ],
   "source": [
    "n, k = map(int, input().split())\n",
    "a = list(map(int, input().split()))\n",
    "b = list(map(int, input().split()))\n",
    "a.sort() # 배열 A는 오름차순 정렬 수행\n",
    "b.sort(reverse=True) # 배열 B는 내림차순 정렬 수행\n",
    "\n",
    "# 첫 번재 인덱스부터 확인하며, 두 배열의 원소를 최대 k번 비교\n",
    "for i in range(k):\n",
    "    if a[i] < b[i]:\n",
    "        a[i], b[i] = b[i], a[i]\n",
    "    else:\n",
    "        break\n",
    "\n",
    "print(sum(a))"
   ],
   "metadata": {
    "collapsed": false,
    "ExecuteTime": {
     "end_time": "2024-02-13T13:05:19.559546Z",
     "start_time": "2024-02-13T13:05:12.724611Z"
    }
   },
   "id": "6514ba4fd01ecc30"
  },
  {
   "cell_type": "markdown",
   "source": [
    "* 코드가 거의 동일한데 다른 것이라고 하면, b를 내림차순으로 정렬한 다음에 \n",
    "* a[i]와 b[i]를 비교해서 바꾼 것이다. \n",
    "* 나는 둘다 오름차순으로 한 다음에 앞과 뒤를 바꾸려고 생각해서 꼬여버렸다. "
   ],
   "metadata": {
    "collapsed": false
   },
   "id": "7e198a30570a5c73"
  }
 ],
 "metadata": {
  "kernelspec": {
   "display_name": "Python 3",
   "language": "python",
   "name": "python3"
  },
  "language_info": {
   "codemirror_mode": {
    "name": "ipython",
    "version": 2
   },
   "file_extension": ".py",
   "mimetype": "text/x-python",
   "name": "python",
   "nbconvert_exporter": "python",
   "pygments_lexer": "ipython2",
   "version": "2.7.6"
  }
 },
 "nbformat": 4,
 "nbformat_minor": 5
}
