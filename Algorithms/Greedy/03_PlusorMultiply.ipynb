{
 "cells": [
  {
   "cell_type": "markdown",
   "source": [
    "# <문제> 더하기 혹은 곱하기"
   ],
   "metadata": {
    "collapsed": false
   },
   "id": "30fa9b272e451a5c"
  },
  {
   "cell_type": "code",
   "execution_count": 134,
   "outputs": [
    {
     "name": "stdout",
     "output_type": "stream",
     "text": [
      "24\n"
     ]
    }
   ],
   "source": [
    "n = input()\n",
    "list = [int(char) for char in n]\n",
    "number = 1\n",
    "cnt = 0\n",
    "\n",
    "# 1. 0이 없을 때\n",
    "# 2. 처음에 0이 있을 때\n",
    "# 3. 중간에 0이 있을 때\n",
    "# 4. 마지막에 0이 있을 때\n",
    "\n",
    "for num in list: \n",
    "    # print(num)\n",
    "    cnt += 1\n",
    "    if num == 0:\n",
    "        pass\n",
    "    elif num == 1:\n",
    "        number += num\n",
    "    else: \n",
    "        number *= num\n",
    "\n",
    "print(number)"
   ],
   "metadata": {
    "collapsed": false,
    "ExecuteTime": {
     "end_time": "2024-01-30T11:55:56.853386Z",
     "start_time": "2024-01-30T11:55:53.937755Z"
    }
   },
   "id": "502ad470c66081cf"
  },
  {
   "cell_type": "markdown",
   "source": [
    "* 처음에는 위와 같이 4가지 방법으로 풀어야 한다고 생각했는데, 그게 아니라 0의 유무만 파악하면 될 일이었다. \n",
    "* 어차피 0은 아무 의미없는 수이므로 패스하면 되고, 1이 나오는 경우에는 더해주면 된다. "
   ],
   "metadata": {
    "collapsed": false
   },
   "id": "4b37e6e508b35faf"
  },
  {
   "cell_type": "markdown",
   "source": [
    "## 풀이"
   ],
   "metadata": {
    "collapsed": false
   },
   "id": "7f87bc76c3d8ad80"
  },
  {
   "cell_type": "code",
   "execution_count": 136,
   "outputs": [
    {
     "ename": "TypeError",
     "evalue": "'int' object is not callable",
     "output_type": "error",
     "traceback": [
      "\u001B[0;31m---------------------------------------------------------------------------\u001B[0m",
      "\u001B[0;31mTypeError\u001B[0m                                 Traceback (most recent call last)",
      "Cell \u001B[0;32mIn[136], line 6\u001B[0m\n\u001B[1;32m      3\u001B[0m \u001B[38;5;66;03m# 첫 번째 문자를 숫자로 변경하여 대입\u001B[39;00m\n\u001B[1;32m      4\u001B[0m result \u001B[38;5;241m=\u001B[39m \u001B[38;5;28mint\u001B[39m(data[\u001B[38;5;241m0\u001B[39m])\n\u001B[0;32m----> 6\u001B[0m \u001B[38;5;28;01mfor\u001B[39;00m i \u001B[38;5;129;01min\u001B[39;00m \u001B[38;5;28mrange\u001B[39m(\u001B[38;5;241m1\u001B[39m, \u001B[38;5;28mlen\u001B[39m(data)):\n\u001B[1;32m      7\u001B[0m     \u001B[38;5;66;03m# 두 수 중에서 하나라도 1이거나 0인 경우에 곱하기 보다는 더하기 수행\u001B[39;00m\n\u001B[1;32m      8\u001B[0m     num \u001B[38;5;241m=\u001B[39m \u001B[38;5;28mint\u001B[39m(data[i])\n\u001B[1;32m      9\u001B[0m     \u001B[38;5;28;01mif\u001B[39;00m num \u001B[38;5;241m<\u001B[39m\u001B[38;5;241m=\u001B[39m \u001B[38;5;241m1\u001B[39m \u001B[38;5;129;01mor\u001B[39;00m result \u001B[38;5;241m<\u001B[39m\u001B[38;5;241m=\u001B[39m \u001B[38;5;241m1\u001B[39m:\n",
      "\u001B[0;31mTypeError\u001B[0m: 'int' object is not callable"
     ]
    }
   ],
   "source": [
    "data = input()\n",
    "\n",
    "# 첫 번째 문자를 숫자로 변경하여 대입\n",
    "result = int(data[0])\n",
    "\n",
    "for i in range(1, len(data)):\n",
    "    # 두 수 중에서 하나라도 1이거나 0인 경우에 곱하기 보다는 더하기 수행\n",
    "    num = int(data[i])\n",
    "    if num <= 1 or result <= 1:\n",
    "        result += num\n",
    "    else:\n",
    "        result *= num\n",
    "print(num)"
   ],
   "metadata": {
    "collapsed": false,
    "ExecuteTime": {
     "end_time": "2024-01-30T11:56:23.401711Z",
     "start_time": "2024-01-30T11:56:21.511670Z"
    }
   },
   "id": "a0f58b4106da817c"
  },
  {
   "cell_type": "markdown",
   "source": [
    "* 왜 에러가 나는지는 잘 모르겠지만,, 어쨌든 다른 파이썬 파일을 확인해보니 잘 돌아간다. \n",
    "* 첫 번째 문자를 숫자로 변경하여 첫 문자로 설정하고\n",
    "* 범위 내에 1이나 0이 있는 경우 혹은 첫 번째 수가 1이거나 0인 경우에 더하기\n",
    "* 아닌 경우에 대해서 곱하기를 수행한다."
   ],
   "metadata": {
    "collapsed": false
   },
   "id": "da55b1471e81d3bf"
  }
 ],
 "metadata": {
  "kernelspec": {
   "display_name": "Python 3",
   "language": "python",
   "name": "python3"
  },
  "language_info": {
   "codemirror_mode": {
    "name": "ipython",
    "version": 2
   },
   "file_extension": ".py",
   "mimetype": "text/x-python",
   "name": "python",
   "nbconvert_exporter": "python",
   "pygments_lexer": "ipython2",
   "version": "2.7.6"
  }
 },
 "nbformat": 4,
 "nbformat_minor": 5
}
