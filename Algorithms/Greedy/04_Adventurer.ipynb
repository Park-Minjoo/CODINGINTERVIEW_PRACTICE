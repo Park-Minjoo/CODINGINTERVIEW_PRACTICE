{
 "cells": [
  {
   "cell_type": "markdown",
   "source": [
    "# <문제> 모험가 길드 (그룹의 최댓값)"
   ],
   "metadata": {
    "collapsed": false
   },
   "id": "30fa9b272e451a5c"
  },
  {
   "cell_type": "code",
   "execution_count": 9,
   "outputs": [
    {
     "name": "stdout",
     "output_type": "stream",
     "text": [
      "[1, 2, 2, 2, 3]\n"
     ]
    }
   ],
   "source": [
    "n = input()\n",
    "values = list(map(int, input().split()))\n",
    "# print(values)\n",
    "values.sort()\n",
    "print(values)"
   ],
   "metadata": {
    "collapsed": false,
    "ExecuteTime": {
     "end_time": "2024-02-05T08:50:30.657890Z",
     "start_time": "2024-02-05T08:50:24.745242Z"
    }
   },
   "id": "502ad470c66081cf"
  },
  {
   "cell_type": "markdown",
   "source": [
    "* 오 이번 문제는 뭔가 감이 오지 않는다. \n",
    "* 최대 공약수도 아니고 최소 공배수도 아닌.. 이걸 컴퓨터로 풀 수 있는 문제인가? 하는 생각이 들었다. \n",
    "* 여행을 떠날 수 있는 그룹의 최대수라고 하면, 가장 큰 수를 기준으로 다 넣은 다음에 개수를 구해야 하나? \n",
    "* 정렬한 다음에 어떻게 풀어야 할지 감이 오지 않는다.."
   ],
   "metadata": {
    "collapsed": false
   },
   "id": "4b37e6e508b35faf"
  },
  {
   "cell_type": "markdown",
   "source": [
    "## 풀이"
   ],
   "metadata": {
    "collapsed": false
   },
   "id": "7f87bc76c3d8ad80"
  },
  {
   "cell_type": "code",
   "execution_count": 11,
   "outputs": [
    {
     "name": "stdout",
     "output_type": "stream",
     "text": [
      "2\n"
     ]
    }
   ],
   "source": [
    "n = int(input())\n",
    "data = list(map(int, input().split()))\n",
    "data.sort()\n",
    "\n",
    "result = 0 # 총 그룹의 수\n",
    "count = 0 # 현재 그룹의 포함된 모험가의 수\n",
    "\n",
    "for i in data: # 공포도를 낮은 것부터 하나씩 확인: 1->2->2->2->3\n",
    "    count += 1 # 현재 그룹의 모험가를 하나씩 포함시키기: 1->1->2->1->2\n",
    "    if count >= i: # 현재 그룹에 포함된 모험가의 수가 현재의 공포도 이상이라면, 그룹 결성: 1, 1 -> 1, 2 -> 2, 2 -> 1, 2 -> 2, 3\n",
    "        result += 1 # 총 그룹의 수 증가시키기: 1->2\n",
    "        count = 0 # 현재 그룹에 포함된 모험가의 수 초기화\n",
    "print(result) # 총 그룹의 수 출력"
   ],
   "metadata": {
    "collapsed": false,
    "ExecuteTime": {
     "end_time": "2024-02-05T09:18:01.212821Z",
     "start_time": "2024-02-05T09:17:56.454138Z"
    }
   },
   "id": "a0f58b4106da817c"
  },
  {
   "cell_type": "markdown",
   "source": [
    "* 하나씩 코드를 뜯어보면 어떻게 동작하는지 알 수 있었음. \n",
    "* 하지만 이걸 생각해서 풀어야 된다? 당체 어떻게 할지를 모르겠음. \n",
    "* 코드가 어려운 코드는 아닌데.. \n",
    "* 여기서 중요한 건 result(총 그룹의 수), count(현재 그룹에 포함된 모헙가의 수)를 각각 선언하고 이를 활용하는 것이다\n",
    "* 그리고 count가 i(공포도)보다 크면 result의 수를 증가시킨 뒤, count = 0으로 바꾸고 다시 처음부터 시작\n",
    "* 만약에 count가 i보다 작으면 그냥 count를 키워가는 것\n",
    "* 이거 코드는 쉬운데 말이여~~~ 내가 푸려고 하면 이게 안된다 이 말이여~~\n",
    "* 연습이 답이다~!"
   ],
   "metadata": {
    "collapsed": false
   },
   "id": "da55b1471e81d3bf"
  }
 ],
 "metadata": {
  "kernelspec": {
   "display_name": "Python 3",
   "language": "python",
   "name": "python3"
  },
  "language_info": {
   "codemirror_mode": {
    "name": "ipython",
    "version": 2
   },
   "file_extension": ".py",
   "mimetype": "text/x-python",
   "name": "python",
   "nbconvert_exporter": "python",
   "pygments_lexer": "ipython2",
   "version": "2.7.6"
  }
 },
 "nbformat": 4,
 "nbformat_minor": 5
}
