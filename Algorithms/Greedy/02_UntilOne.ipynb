{
 "cells": [
  {
   "cell_type": "markdown",
   "source": [
    "# <문제> 1이 될 때까지"
   ],
   "metadata": {
    "collapsed": false
   },
   "id": "64bf6a5f2db6b1f1"
  },
  {
   "cell_type": "code",
   "execution_count": 62,
   "outputs": [
    {
     "name": "stdout",
     "output_type": "stream",
     "text": [
      "4\n",
      "1\n"
     ]
    }
   ],
   "source": [
    "n = 17\n",
    "k = 4\n",
    "\n",
    "while n != 1:\n",
    "    if n % k != 0:\n",
    "        n -= 1\n",
    "    n //= k\n",
    "    print(n)"
   ],
   "metadata": {
    "collapsed": false,
    "ExecuteTime": {
     "end_time": "2024-01-30T10:47:50.402339Z",
     "start_time": "2024-01-30T10:47:50.355449Z"
    }
   },
   "id": "initial_id"
  },
  {
   "cell_type": "markdown",
   "source": [
    "* 나는 이렇게 간단하게 풀었음\n",
    "* 다른 숫자가 들어가면 무한 루프에 빠지게 됨... why?"
   ],
   "metadata": {
    "collapsed": false
   },
   "id": "fa21b44fee07b1d1"
  },
  {
   "cell_type": "code",
   "execution_count": 63,
   "outputs": [
    {
     "name": "stdout",
     "output_type": "stream",
     "text": [
      "6\n"
     ]
    }
   ],
   "source": [
    "n, k = map(int, input().split())\n",
    "result = 0\n",
    "\n",
    "while True:\n",
    "    # N이 K로 나누어 떨어지는 수가 될 때까지 빼기\n",
    "    target = (n // k) * k\n",
    "    result += (n - target)\n",
    "    n = target\n",
    "    # N이 K보다 작을 때 (더 이상 나눌 수 없을 때) 반복문 탈출\n",
    "    if n < k:\n",
    "        break\n",
    "    # K로 나누기\n",
    "    result += 1\n",
    "    n //= k\n",
    "\n",
    "# 마지막으로 남은 수에 대해서 1씩 빼기\n",
    "result += (n - 1)\n",
    "print(result)\n",
    "    \n",
    "    "
   ],
   "metadata": {
    "collapsed": false,
    "ExecuteTime": {
     "end_time": "2024-01-30T10:47:52.430919Z",
     "start_time": "2024-01-30T10:47:50.372252Z"
    }
   },
   "id": "528361c971fe17ad"
  },
  {
   "cell_type": "markdown",
   "source": [
    "* 정답 보고 나서 내 코드 버그 수정하기...\n",
    "* 내 코드는 다시 1을 빼야 하는 순간에 돌아가지 못해서 에러가 발생했던 것임. "
   ],
   "metadata": {
    "collapsed": false
   },
   "id": "b93546e4d380e055"
  },
  {
   "cell_type": "code",
   "execution_count": 64,
   "outputs": [
    {
     "name": "stdout",
     "output_type": "stream",
     "text": [
      "24\n",
      "8\n"
     ]
    }
   ],
   "source": [
    "n, k = map(int, input().split())\n",
    "result = 0\n",
    "\n",
    "while n % k != 0:\n",
    "    n -= 1\n",
    "    print(n)\n",
    "\n",
    "while n % k == 0:\n",
    "    n //= k\n",
    "    print(n)\n"
   ],
   "metadata": {
    "collapsed": false,
    "ExecuteTime": {
     "end_time": "2024-01-30T10:47:54.859515Z",
     "start_time": "2024-01-30T10:47:52.381730Z"
    }
   },
   "id": "70bc1e2221641d6"
  },
  {
   "cell_type": "markdown",
   "source": [
    "* 다시 뒤로 돌아가려면 어떻게 해야 하는가?\n",
    "* 해답으로 돌아가보자"
   ],
   "metadata": {
    "collapsed": false
   },
   "id": "4a420374aa6f3ac6"
  },
  {
   "cell_type": "code",
   "execution_count": 75,
   "outputs": [
    {
     "name": "stdout",
     "output_type": "stream",
     "text": [
      "6\n"
     ]
    }
   ],
   "source": [
    "n, k = map(int, input().split()) # n = 25, k = 3이라고 가정\n",
    "result = 0\n",
    "\n",
    "while True:\n",
    "    # N이 K로 나누어 떨어지는 수가 될 때까지 빼기\n",
    "    # 먼저 정수 몫을 구한 다음에 다시 k를 곱한다 -> 몇 번 나눠 떨어질 수 있는지 구하기 \n",
    "    # target = (25 // 3) * 3 = 24\n",
    "    # target = (8 // 3) * 3 = 6\n",
    "    # target = (2 // 3) * 3 = 0\n",
    "    target = (n // k) * k\n",
    "    \n",
    "    # 그 다음에 n에서 target을 빼면 몇 번 뺴야 하는지가 나옴. \n",
    "    # result = 25 - 24 = 1\n",
    "    # result += 8 - 6 = 2 -> 2+2 = 4\n",
    "    # result += (2 - 0) -> 5+2 = 7\n",
    "    result += (n - target)\n",
    "    \n",
    "    # n = 24\n",
    "    # n = 6\n",
    "    # n = 0\n",
    "    n = target\n",
    "    \n",
    "    # N이 K보다 작을 때 (더 이상 나눌 수 없을 때) 반복문 탈출\n",
    "    # 처음엔 n이 더 크다\n",
    "    # n 이 2이므로 while문 탈출\n",
    "    if n < k:\n",
    "        break\n",
    "        \n",
    "    # K로 나누기\n",
    "    result += 1 # result = 2, 4+1 = 5\n",
    "    n //= k # 24 // 3 = 8, 6 // 3 = 2\n",
    "\n",
    "# 마지막으로 남은 수에 대해서 1씩 빼기\n",
    "# result += (7 - 1) -> 6\n",
    "result += (n - 1)\n",
    "print(result)\n",
    "    \n",
    "    "
   ],
   "metadata": {
    "collapsed": false,
    "ExecuteTime": {
     "end_time": "2024-01-30T10:57:24.907302Z",
     "start_time": "2024-01-30T10:57:23.499076Z"
    }
   },
   "id": "c82318399e5b4946"
  },
  {
   "cell_type": "markdown",
   "source": [
    "* 로그 시간 복잡도로 문제를 풀기 위해서 위와 같은 코드를 가져옴\n",
    "* 일일이 n과 k를 확인한 다음에 문제를 풀어도 되지만, 그렇게 되면 시간 복잡도가 늘어남. "
   ],
   "metadata": {
    "collapsed": false
   },
   "id": "90ccca616de0a87c"
  }
 ],
 "metadata": {
  "kernelspec": {
   "display_name": "Python 3",
   "language": "python",
   "name": "python3"
  },
  "language_info": {
   "codemirror_mode": {
    "name": "ipython",
    "version": 2
   },
   "file_extension": ".py",
   "mimetype": "text/x-python",
   "name": "python",
   "nbconvert_exporter": "python",
   "pygments_lexer": "ipython2",
   "version": "2.7.6"
  }
 },
 "nbformat": 4,
 "nbformat_minor": 5
}
