{
 "cells": [
  {
   "cell_type": "markdown",
   "source": [
    "# 주유소 문제\n",
    "* 주유소 - 실버3 \n",
    "* https://www.acmicpc.net/problem/13305"
   ],
   "metadata": {
    "collapsed": false
   },
   "id": "51fb906a80145c8a"
  },
  {
   "cell_type": "code",
   "execution_count": 10,
   "id": "initial_id",
   "metadata": {
    "collapsed": true,
    "ExecuteTime": {
     "end_time": "2024-02-14T07:49:31.347805Z",
     "start_time": "2024-02-14T07:49:23.995811Z"
    }
   },
   "outputs": [
    {
     "name": "stdout",
     "output_type": "stream",
     "text": [
      "1 10 0\n",
      "2 18 2\n",
      "18\n"
     ]
    }
   ],
   "source": [
    "n = int(input())\n",
    "len = list(map(int, input().split()))\n",
    "costs = list(map(int, input().split()))\n",
    "total = costs[0] * len[0]\n",
    "min = costs[0]\n",
    "dist = 0\n",
    "\n",
    "for i in range(1, n-1):\n",
    "    if costs[i] < min: # 비용이 최솟값보다 작을 때 \n",
    "        total += min * dist # 그 전 최솟값과 길이를 곱해줌 \n",
    "        dist = len[i] # i번째 길이로 초기화\n",
    "        min = costs[i] # 최솟값으로 교체\n",
    "    else:\n",
    "        dist += len[i] # 최솟값일때, dist에 거리 더해줌\n",
    "    if i == n-2:\n",
    "        total += min * dist # 계속 최솟값일때 거리 곱해주기\n",
    "    \n",
    "print(total)"
   ]
  },
  {
   "cell_type": "code",
   "outputs": [],
   "source": [
    "n = int(input())\n",
    "roads = list(map(int, input().split()))\n",
    "costs = list(map(int, input().split()))\n",
    "\n",
    "res = roads[0] * costs[0]\n",
    "m = costs[0]\n",
    "dist = 0\n",
    "for i in range(1, n-1):\n",
    "    if costs[i] < m:\n",
    "        res += m*dist\n",
    "        dist = roads[i]\n",
    "        m = costs[i]\n",
    "    else:\n",
    "        dist += roads[i]\n",
    "    if i == n-2:\n",
    "        res += m*dist\n",
    "print(res)"
   ],
   "metadata": {
    "collapsed": false
   },
   "id": "2c1e08bb56355321"
  }
 ],
 "metadata": {
  "kernelspec": {
   "display_name": "Python 3",
   "language": "python",
   "name": "python3"
  },
  "language_info": {
   "codemirror_mode": {
    "name": "ipython",
    "version": 2
   },
   "file_extension": ".py",
   "mimetype": "text/x-python",
   "name": "python",
   "nbconvert_exporter": "python",
   "pygments_lexer": "ipython2",
   "version": "2.7.6"
  }
 },
 "nbformat": 4,
 "nbformat_minor": 5
}
