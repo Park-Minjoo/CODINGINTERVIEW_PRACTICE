{
 "cells": [
  {
   "cell_type": "markdown",
   "source": [
    "# <문제> 거스름돈"
   ],
   "metadata": {
    "collapsed": false
   },
   "id": "f566dc6d935560ce"
  },
  {
   "cell_type": "code",
   "execution_count": 2,
   "outputs": [
    {
     "name": "stdout",
     "output_type": "stream",
     "text": [
      "6\n"
     ]
    }
   ],
   "source": [
    "n = 1260\n",
    "count = 0\n",
    "# 큰 단위부터 차례로\n",
    "array = [500, 100, 50, 10]\n",
    "\n",
    "for coin in array:\n",
    "    count += n // coin  # 해당 화폐로 거슬러줄 수 있는 동전 개수\n",
    "    n %= coin\n",
    "\n",
    "print(count)  # 전체 동전의 개수"
   ],
   "metadata": {
    "collapsed": false,
    "ExecuteTime": {
     "end_time": "2024-01-30T09:46:45.300955Z",
     "start_time": "2024-01-30T09:46:45.292459Z"
    }
   },
   "id": "705ec53686cd6339"
  },
  {
   "cell_type": "markdown",
   "source": [
    "* 동빈나님 유투브에 풀어주신 코드\n",
    "* 좀 더 직관적인 코드를 위해서 chatgpt로 리팩토링을 시행했다."
   ],
   "metadata": {
    "collapsed": false
   },
   "id": "f6278ca0b24dc001"
  },
  {
   "cell_type": "code",
   "execution_count": 23,
   "outputs": [
    {
     "name": "stdout",
     "output_type": "stream",
     "text": [
      "6\n"
     ]
    }
   ],
   "source": [
    "amount = 1260\n",
    "coins = [500, 100, 50, 10]\n",
    "total = 0 \n",
    "count = 0\n",
    "\n",
    "for coin in coins:\n",
    "    count, amount = divmod(amount, coin)\n",
    "    total += count\n",
    "\n",
    "print(total)\n"
   ],
   "metadata": {
    "collapsed": false,
    "ExecuteTime": {
     "end_time": "2024-01-30T09:50:33.069147Z",
     "start_time": "2024-01-30T09:50:33.064206Z"
    }
   },
   "id": "be75999c8b32245e"
  },
  {
   "cell_type": "markdown",
   "source": [
    "* 이런 식으로 divmod를 사용할 수는 있는데 어차피 total 코드를 불러와야 하는 거면 비슷해보이긴 한다. \n",
    "* 그래도 8ms -> 4ms로 초가 줄었으니 조금은 더 나은 코드일지도?\n",
    "* divmod라는 함수 예전에 배운 것 같은데 한 번 더 알아간다.."
   ],
   "metadata": {
    "collapsed": false
   },
   "id": "1ef5073bcf778c3d"
  },
  {
   "cell_type": "markdown",
   "source": [],
   "metadata": {
    "collapsed": false
   },
   "id": "93fcda0620bfd0a7"
  }
 ],
 "metadata": {
  "kernelspec": {
   "display_name": "Python 3",
   "language": "python",
   "name": "python3"
  },
  "language_info": {
   "codemirror_mode": {
    "name": "ipython",
    "version": 2
   },
   "file_extension": ".py",
   "mimetype": "text/x-python",
   "name": "python",
   "nbconvert_exporter": "python",
   "pygments_lexer": "ipython2",
   "version": "2.7.6"
  }
 },
 "nbformat": 4,
 "nbformat_minor": 5
}
