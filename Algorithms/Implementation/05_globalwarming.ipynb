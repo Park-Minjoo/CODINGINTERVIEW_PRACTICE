{
 "cells": [
  {
   "cell_type": "code",
   "execution_count": 77,
   "id": "initial_id",
   "metadata": {
    "collapsed": true,
    "ExecuteTime": {
     "end_time": "2024-02-14T10:06:35.636572Z",
     "start_time": "2024-02-14T10:06:30.061731Z"
    }
   },
   "outputs": [
    {
     "name": "stdout",
     "output_type": "stream",
     "text": [
      "arr\n",
      "['.', '.', '.']\n",
      "['.', 'X', '.']\n",
      "['.', 'X', '.']\n",
      "['.', 'X', '.']\n",
      "['.', '.', '.']\n",
      "new\n",
      "['.', '.', '.']\n",
      "['.', '.', '.']\n",
      "['.', 'X', '.']\n",
      "['.', '.', '.']\n",
      "['.', '.', '.']\n",
      "0 0\n",
      "0 1\n",
      "0 2\n",
      "1 0\n",
      "1 1\n",
      "1 2\n",
      "2 0\n",
      "2 2\n",
      "3 0\n",
      "3 1\n",
      "3 2\n",
      "4 0\n",
      "4 1\n",
      "4 2\n"
     ]
    }
   ],
   "source": [
    "row, col = map(int, input().split())\n",
    "# new = [ ['.' for i in range(col)] for j in range(row)]\n",
    "arr = [list(input()) for _ in range(row)]  # input 지도\n",
    "\n",
    "steps = [(-1, 0), (0, -1), (1,0), (0, 1)]\n",
    "\n",
    "for i in range(row):\n",
    "    for j in range(col):\n",
    "        if arr[i][j] == 'X':\n",
    "            # print(i, j, arr[i][j])\n",
    "            count = 0\n",
    "            for step in steps:\n",
    "                next_row = i + step[0]\n",
    "                next_col = j + step[1]\n",
    "                # print(next_row, next_col)\n",
    "                if  next_row < 0 or next_col < 0 or \\\n",
    "                    next_row >= row or next_col >= col:\n",
    "                    count += 1\n",
    "                elif arr[next_row][next_col] == '.':\n",
    "                    count += 1\n",
    "            # print(count)\n",
    "            if count < 3:\n",
    "                # print(new[i][j], arr[i][j])\n",
    "                new[i][j] = 'X'\n",
    "            \n",
    "print('arr')\n",
    "for i in range(row):\n",
    "    print(arr[i])\n",
    "\n",
    "print('new')    \n",
    "for i in range(row):\n",
    "    print(new[i])\n",
    "\n",
    "\n",
    "row_count = 0\n",
    "col_count = 0\n",
    "for i in range(row):\n",
    "    for j in range(col):\n",
    "        if new[i][j] == '.':\n",
    "            print(i, j)\n",
    "            col_count += 1"
   ]
  },
  {
   "cell_type": "code",
   "outputs": [
    {
     "name": "stdout",
     "output_type": "stream",
     "text": [
      "[1, 3, 3, 4] [1, 2, 3, 4]\n"
     ]
    }
   ],
   "source": [
    "list1 = [1, 2, 3, 4]\n",
    "list2 = list1.copy()\n",
    "\n",
    "list2[1] = 3\n",
    "\n",
    "print(list2, list1)"
   ],
   "metadata": {
    "collapsed": false,
    "ExecuteTime": {
     "end_time": "2024-02-14T09:19:52.813830Z",
     "start_time": "2024-02-14T09:19:52.811266Z"
    }
   },
   "id": "42fff898ad0484ea",
   "execution_count": 40
  },
  {
   "cell_type": "code",
   "outputs": [
    {
     "name": "stdout",
     "output_type": "stream",
     "text": [
      "[['.', '.', '.'], ['.', '.', '.'], ['.', '.', '.'], ['.', '.', '.'], ['.', '.', '.']]\n"
     ]
    }
   ],
   "source": [
    "new = [ ['.' for i in range(3)] for j in range(5)]\n",
    "print(new)"
   ],
   "metadata": {
    "collapsed": false,
    "ExecuteTime": {
     "end_time": "2024-02-14T09:34:42.063275Z",
     "start_time": "2024-02-14T09:34:42.060904Z"
    }
   },
   "id": "a18a21702619c21d",
   "execution_count": 59
  },
  {
   "cell_type": "code",
   "outputs": [
    {
     "ename": "ValueError",
     "evalue": "not enough values to unpack (expected 2, got 0)",
     "output_type": "error",
     "traceback": [
      "\u001B[0;31m---------------------------------------------------------------------------\u001B[0m",
      "\u001B[0;31mValueError\u001B[0m                                Traceback (most recent call last)",
      "Cell \u001B[0;32mIn[78], line 1\u001B[0m\n\u001B[0;32m----> 1\u001B[0m row, col \u001B[38;5;241m=\u001B[39m \u001B[38;5;28mmap\u001B[39m(\u001B[38;5;28mint\u001B[39m, \u001B[38;5;28minput\u001B[39m()\u001B[38;5;241m.\u001B[39msplit())\n\u001B[1;32m      2\u001B[0m arr \u001B[38;5;241m=\u001B[39m [\u001B[38;5;28mlist\u001B[39m(\u001B[38;5;28minput\u001B[39m()) \u001B[38;5;28;01mfor\u001B[39;00m _ \u001B[38;5;129;01min\u001B[39;00m \u001B[38;5;28mrange\u001B[39m(row)] \u001B[38;5;66;03m# input\u001B[39;00m\n\u001B[1;32m      3\u001B[0m new \u001B[38;5;241m=\u001B[39m [] \u001B[38;5;66;03m# new array \u001B[39;00m\n",
      "\u001B[0;31mValueError\u001B[0m: not enough values to unpack (expected 2, got 0)"
     ]
    }
   ],
   "source": [
    "row, col = map(int, input().split())\n",
    "arr = [list(input()) for _ in range(row)] # input\n",
    "new = [] # new array\n",
    "\n",
    "# 방항 벡터\n",
    "dx = [-1, 1, 0, 0]\n",
    "dy = [0, 0, -1, 1]\n",
    "\n",
    "for i in range(row):\n",
    "    for j in range(col):\n",
    "        if arr[i][j] == 'X': # 땅이면 인접한 세 칸이상이 바다인지 확인\n",
    "            count = 0 # 카운트는 X를 만날 때마다 초기화 되어야 함\n",
    "            for k in range(4): # 4개 다 확인하기\n",
    "                nx = i + dx[k]\n",
    "                ny = j + dy[k]\n",
    "                if 0 <= nx < row and 0 <= ny < col:\n",
    "                    if arr[nx][ny] == '.':\n",
    "                        count += 1\n",
    "                else:\n",
    "                    count += 1 # 범위를 벗어날 때\n",
    "                    continue\n",
    "            if count >= 3:\n",
    "                new.append((i, j))\n",
    "\n",
    "# . 으로 바꾸기\n",
    "if len(new) > 0:\n",
    "    for x, y in new:\n",
    "        arr[x][y] = '.'\n",
    "\n",
    "x1 = 0\n",
    "y1 = col - 1\n",
    "x2 = 0\n",
    "y2 = 0\n",
    "\n",
    "# 지도 범위 구하기\n",
    "\n",
    "# x의 시작값\n",
    "for i in range(row):\n",
    "    if 'X' in arr[i]:\n",
    "        x1 = i\n",
    "        break\n",
    "\n",
    "# x의 마지막 값\n",
    "for i in range(row-1, -1, -1):\n",
    "    if 'X' in arr[i]:\n",
    "        x2 = i\n",
    "        break\n",
    "\n",
    "# y값 ----> ***이게 너무 어려움\n",
    "for i in range(x1, x2 + 1): # 1 -> .X.\n",
    "    for j in range(col): # 3\n",
    "        if arr[i][j] == 'X': # arr[2][1]\n",
    "            y1 = min(y1, j) # min(2, 1) = 1\n",
    "            y2 = max(y2, j) # max(0, 1) = 1"
   ],
   "metadata": {
    "collapsed": false,
    "ExecuteTime": {
     "end_time": "2024-02-15T04:45:53.722780Z",
     "start_time": "2024-02-15T04:45:51.925863Z"
    }
   },
   "id": "7d91e561c8e8eb",
   "execution_count": 78
  }
 ],
 "metadata": {
  "kernelspec": {
   "display_name": "Python 3",
   "language": "python",
   "name": "python3"
  },
  "language_info": {
   "codemirror_mode": {
    "name": "ipython",
    "version": 2
   },
   "file_extension": ".py",
   "mimetype": "text/x-python",
   "name": "python",
   "nbconvert_exporter": "python",
   "pygments_lexer": "ipython2",
   "version": "2.7.6"
  }
 },
 "nbformat": 4,
 "nbformat_minor": 5
}
