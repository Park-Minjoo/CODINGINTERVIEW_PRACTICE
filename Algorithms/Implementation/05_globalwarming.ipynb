{
 "cells": [
  {
   "cell_type": "code",
   "execution_count": 77,
   "id": "initial_id",
   "metadata": {
    "collapsed": true,
    "ExecuteTime": {
     "end_time": "2024-02-14T10:06:35.636572Z",
     "start_time": "2024-02-14T10:06:30.061731Z"
    }
   },
   "outputs": [
    {
     "name": "stdout",
     "output_type": "stream",
     "text": [
      "arr\n",
      "['.', '.', '.']\n",
      "['.', 'X', '.']\n",
      "['.', 'X', '.']\n",
      "['.', 'X', '.']\n",
      "['.', '.', '.']\n",
      "new\n",
      "['.', '.', '.']\n",
      "['.', '.', '.']\n",
      "['.', 'X', '.']\n",
      "['.', '.', '.']\n",
      "['.', '.', '.']\n",
      "0 0\n",
      "0 1\n",
      "0 2\n",
      "1 0\n",
      "1 1\n",
      "1 2\n",
      "2 0\n",
      "2 2\n",
      "3 0\n",
      "3 1\n",
      "3 2\n",
      "4 0\n",
      "4 1\n",
      "4 2\n"
     ]
    }
   ],
   "source": [
    "row, col = map(int, input().split())\n",
    "arr = [list(input().split()) for _ in range(row)]\n",
    "new = [ ['.' for i in range(col)] for j in range(row)]\n",
    "# print(new)\n",
    "\n",
    "steps = [(-1, 0), (0, -1), (1,0), (0, 1)]\n",
    "\n",
    "\n",
    "\n",
    "for i in range(row):\n",
    "    for j in range(col):\n",
    "        if arr[i][j] == 'X':\n",
    "            # print(i, j, arr[i][j])\n",
    "            count = 0\n",
    "            for step in steps:\n",
    "                next_row = i + step[0]\n",
    "                next_col = j + step[1]\n",
    "                # print(next_row, next_col)\n",
    "                if  next_row < 0 or next_col < 0 or \\\n",
    "                    next_row >= row or next_col >= col:\n",
    "                    count += 1\n",
    "                elif arr[next_row][next_col] == '.':\n",
    "                    count += 1\n",
    "            # print(count)\n",
    "            if count < 3:\n",
    "                # print(new[i][j], arr[i][j])\n",
    "                new[i][j] = 'X'\n",
    "            \n",
    "print('arr')\n",
    "for i in range(row):\n",
    "    print(arr[i])\n",
    "\n",
    "print('new')    \n",
    "for i in range(row):\n",
    "    print(new[i])\n",
    "\n",
    "\n",
    "row_count = 0\n",
    "col_count = 0\n",
    "for i in range(row):\n",
    "    for j in range(col):\n",
    "        if new[i][j] == '.':\n",
    "            print(i, j)\n",
    "            col_count += 1"
   ]
  },
  {
   "cell_type": "code",
   "outputs": [
    {
     "name": "stdout",
     "output_type": "stream",
     "text": [
      "[1, 3, 3, 4] [1, 2, 3, 4]\n"
     ]
    }
   ],
   "source": [
    "list1 = [1, 2, 3, 4]\n",
    "list2 = list1.copy()\n",
    "\n",
    "list2[1] = 3\n",
    "\n",
    "print(list2, list1)"
   ],
   "metadata": {
    "collapsed": false,
    "ExecuteTime": {
     "end_time": "2024-02-14T09:19:52.813830Z",
     "start_time": "2024-02-14T09:19:52.811266Z"
    }
   },
   "id": "42fff898ad0484ea",
   "execution_count": 40
  },
  {
   "cell_type": "code",
   "outputs": [
    {
     "name": "stdout",
     "output_type": "stream",
     "text": [
      "[['.', '.', '.'], ['.', '.', '.'], ['.', '.', '.'], ['.', '.', '.'], ['.', '.', '.']]\n"
     ]
    }
   ],
   "source": [
    "new = [ ['.' for i in range(3)] for j in range(5)]\n",
    "print(new)"
   ],
   "metadata": {
    "collapsed": false,
    "ExecuteTime": {
     "end_time": "2024-02-14T09:34:42.063275Z",
     "start_time": "2024-02-14T09:34:42.060904Z"
    }
   },
   "id": "a18a21702619c21d",
   "execution_count": 59
  }
 ],
 "metadata": {
  "kernelspec": {
   "display_name": "Python 3",
   "language": "python",
   "name": "python3"
  },
  "language_info": {
   "codemirror_mode": {
    "name": "ipython",
    "version": 2
   },
   "file_extension": ".py",
   "mimetype": "text/x-python",
   "name": "python",
   "nbconvert_exporter": "python",
   "pygments_lexer": "ipython2",
   "version": "2.7.6"
  }
 },
 "nbformat": 4,
 "nbformat_minor": 5
}
