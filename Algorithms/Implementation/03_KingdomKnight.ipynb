{
 "cells": [
  {
   "cell_type": "markdown",
   "source": [
    "# <문제> 왕실의 나이트"
   ],
   "metadata": {
    "collapsed": false
   },
   "id": "f566dc6d935560ce"
  },
  {
   "cell_type": "markdown",
   "source": [
    "* 음.. LRUD문제랑 관련이 있는 것 같긴 한데..\n",
    "* 8 * 8 matrix이니까 나올 수 있는 경우의 수가 한정적이긴 한 것 같다. \n",
    "* (1, 1) -> (3, 2), (2, 3) 2개: +2, +1 or +1, +2\n",
    "* (1, 2) -> (2, 4), (3, 3), (3, 1): 여기서는 +2, -1이 추가 됨\n",
    "* 그러니까 정리해보면 \n",
    "    * (+1, +2), (+2, +1) \n",
    "    * (+2, -1), (-1, +2)\n",
    "    * (-2, +1), (+1, -2)\n",
    "    * (-1, -2), (-2, -1)\n",
    "        * 이렇게 8가지가 나올 수 있는데 이게 범위안에 있어야 한다는 것..\n",
    "1. x, y 선언 하는 방법. \n",
    "2. 위의 내용대로 어떻게 빼는지? \n",
    "3. 범위 안에 있는지 확인하기 if, continue?\n",
    "4. 문자로 입력받는 거 숫자로 처리해서 다시 문자로 넘겨줄 건지, 아니면 그냥 문자로 처리할 건지?"
   ],
   "metadata": {
    "collapsed": false
   },
   "id": "1097b5e8f4ea56dd"
  },
  {
   "cell_type": "code",
   "outputs": [],
   "source": [
    "init = list(input())\n",
    "x = ord(init[0]) - 96\n",
    "y = int(init[1])\n",
    "count = 0\n",
    "# print(x, y)\n",
    "\n",
    "dx = [0, 0, -1, 1]\n",
    "dy = [-1, 1, 0, 0]\n",
    "\n",
    "for i in range(4):\n",
    "    nx = x + 2*dx[i]\n",
    "    ny = y + dy[i]\n",
    "    print(nx, ny)\n",
    "    if nx < 1 or nx > 8 or ny < 1 or ny > 8:\n",
    "        continue\n",
    "    count += 1\n",
    "    print(count)\n"
   ],
   "metadata": {
    "collapsed": false
   },
   "id": "626a95b694ec8dd4",
   "execution_count": null
  },
  {
   "cell_type": "markdown",
   "source": [
    "* 이렇게 풀면 무조건 한칸씩?? 만 움직이게 되는 데 \n",
    "* 수평2 수직 1 or 수직1 수평2 이런식으로 연속적으로 움직이는 걸 어떻게 표현하는 지가 어렵다. "
   ],
   "metadata": {
    "collapsed": false
   },
   "id": "184abd5585ac3267"
  },
  {
   "cell_type": "markdown",
   "source": [
    "## 풀이"
   ],
   "metadata": {
    "collapsed": false
   },
   "id": "9f1e447b5d709e8b"
  },
  {
   "cell_type": "code",
   "outputs": [
    {
     "name": "stdout",
     "output_type": "stream",
     "text": [
      "6\n"
     ]
    }
   ],
   "source": [
    "# 현재 나이트의 위치 입력받기\n",
    "input_data = input()\n",
    "row = int(input_data[1])\n",
    "column = int(ord(input_data[0])) - int(ord('a')) + 1\n",
    "\n",
    "# 나이트가 이동할 수 있는 8가지 방향 정의\n",
    "steps = [(-2, -1), (-1, -2), (1, -2), (-2, 1), (-1, 2), (2, -1), (1, 2), (2, 1)]\n",
    "\n",
    "# 8가지 방향에 대하여 각 위치로 이동이 가능한지 확인\n",
    "result = 0\n",
    "for step in steps:\n",
    "    # 이동하고자 하는 위치 확인\n",
    "    next_row = row + step[0]\n",
    "    next_column = column + step[1]\n",
    "    # 해당 위치로 이동이 가능하다면 카운트 증가\n",
    "    if next_row >= 1 and next_row <= 8 and next_column >= 1 and next_column <=8:\n",
    "        result += 1\n",
    "print(result)"
   ],
   "metadata": {
    "collapsed": false,
    "ExecuteTime": {
     "end_time": "2024-02-13T06:54:17.513860Z",
     "start_time": "2024-02-13T06:54:15.857597Z"
    }
   },
   "id": "776b9432e216ba2",
   "execution_count": 28
  },
  {
   "cell_type": "markdown",
   "source": [
    "* 아..! 거의 다 했는데 \n",
    "* steps = [(-2, -1), (-1, -2), (1, -2), (-2, 1), (-1, 2), (2, -1), (1, 2), (2, 1)]\n",
    "    * 이 부분 리스트로 선언하는 거랑, 그걸로 반복문 돌리는 걸 생각못했다. \n",
    "    * 문제 해결 과정은 다 맞춘 것 같은데... 아쉽다. "
   ],
   "metadata": {
    "collapsed": false
   },
   "id": "38590d83f5a8a9a1"
  }
 ],
 "metadata": {
  "kernelspec": {
   "display_name": "Python 3",
   "language": "python",
   "name": "python3"
  },
  "language_info": {
   "codemirror_mode": {
    "name": "ipython",
    "version": 2
   },
   "file_extension": ".py",
   "mimetype": "text/x-python",
   "name": "python",
   "nbconvert_exporter": "python",
   "pygments_lexer": "ipython2",
   "version": "2.7.6"
  }
 },
 "nbformat": 4,
 "nbformat_minor": 5
}
