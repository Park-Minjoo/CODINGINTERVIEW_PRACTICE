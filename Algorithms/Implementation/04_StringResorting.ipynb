{
 "cells": [
  {
   "cell_type": "markdown",
   "source": [
    "# <문제> 문자열 재정렬"
   ],
   "metadata": {
    "collapsed": false
   },
   "id": "f566dc6d935560ce"
  },
  {
   "cell_type": "code",
   "outputs": [],
   "source": [
    "input_data = input() # K1KA5CB7\n",
    "sorted_data = sorted(input_data)\n",
    "num = 0\n",
    "result = ''\n",
    "# print(ord('0')) # 48\n",
    "# print(ord('9')) # 57\n",
    "for s in sorted_data:\n",
    "    if 48 <= ord(s) <= 57:\n",
    "        num += int(s)\n",
    "        # print(num)\n",
    "    else:\n",
    "        result += s\n",
    "result += str(num)    \n",
    "print(result)"
   ],
   "metadata": {
    "collapsed": false
   },
   "id": "626a95b694ec8dd4",
   "execution_count": null
  },
  {
   "cell_type": "markdown",
   "source": [
    "* 일단 문자열 입력 받아서 리스트에 넣어서 정렬하고..\n",
    "* 그 다음에 문자랑 숫자가 몇개가 들어오는지 모르니까 아스키코드 사용해서 더해주면 좋을 듯? \n",
    "* 답이 나왔다! 얏호\n",
    "* str을 사용하니까 에러가 뜨는데 파이썬 파일로 실행하니까 잘 된다.. \n",
    "* 주피터 노트북과 str이 뭔가 충돌하는게 있는듯..???"
   ],
   "metadata": {
    "collapsed": false
   },
   "id": "184abd5585ac3267"
  },
  {
   "cell_type": "markdown",
   "source": [
    "## 풀이"
   ],
   "metadata": {
    "collapsed": false
   },
   "id": "9f1e447b5d709e8b"
  },
  {
   "cell_type": "code",
   "outputs": [
    {
     "ename": "TypeError",
     "evalue": "'str' object is not callable",
     "output_type": "error",
     "traceback": [
      "\u001B[0;31m---------------------------------------------------------------------------\u001B[0m",
      "\u001B[0;31mTypeError\u001B[0m                                 Traceback (most recent call last)",
      "Cell \u001B[0;32mIn[22], line 19\u001B[0m\n\u001B[1;32m     17\u001B[0m \u001B[38;5;66;03m# 숫자가 하나라도 존재하는 경우 가장 뒤에 삽입\u001B[39;00m\n\u001B[1;32m     18\u001B[0m \u001B[38;5;28;01mif\u001B[39;00m value \u001B[38;5;241m!=\u001B[39m \u001B[38;5;241m0\u001B[39m:\n\u001B[0;32m---> 19\u001B[0m     result\u001B[38;5;241m.\u001B[39mappend(\u001B[38;5;28mstr\u001B[39m(value))\n\u001B[1;32m     21\u001B[0m \u001B[38;5;66;03m# 최종 결과 출력 (리스트를 문자열로 변환하여 출력)\u001B[39;00m\n\u001B[1;32m     22\u001B[0m \u001B[38;5;28mprint\u001B[39m(\u001B[38;5;124m'\u001B[39m\u001B[38;5;124m'\u001B[39m\u001B[38;5;241m.\u001B[39mjoin(result))\n",
      "\u001B[0;31mTypeError\u001B[0m: 'str' object is not callable"
     ]
    }
   ],
   "source": [
    "data = input()\n",
    "result = []\n",
    "value = 0\n",
    "\n",
    "# 문자를 하나씩 확인하며\n",
    "for x in data:\n",
    "    # 알파벳인 경우 결과 리스트에 삽입\n",
    "    if x.isalpha():\n",
    "        result.append(x)\n",
    "    # 숫자는 따로 더하기\n",
    "    else:\n",
    "        value += int(x)\n",
    "\n",
    "# 알파벳을 오름차순으로 정렬\n",
    "result.sort()\n",
    "\n",
    "# 숫자가 하나라도 존재하는 경우 가장 뒤에 삽입\n",
    "if value != 0:\n",
    "    result.append(str(value))\n",
    "\n",
    "# 최종 결과 출력 (리스트를 문자열로 변환하여 출력)\n",
    "print(''.join(result))"
   ],
   "metadata": {
    "collapsed": false,
    "ExecuteTime": {
     "end_time": "2024-02-13T07:31:30.878192Z",
     "start_time": "2024-02-13T07:31:29.894848Z"
    }
   },
   "id": "776b9432e216ba2",
   "execution_count": 22
  },
  {
   "cell_type": "markdown",
   "source": [
    "* 여기서도 비슷한데, isalpha()라는 파이썬 메소드를 사용해서 좀 더 깔끔하게 진행했다. \n",
    "* 아마 C로 짜던 버릇이 아직 남아있는 것 같다.//"
   ],
   "metadata": {
    "collapsed": false
   },
   "id": "38590d83f5a8a9a1"
  }
 ],
 "metadata": {
  "kernelspec": {
   "display_name": "Python 3",
   "language": "python",
   "name": "python3"
  },
  "language_info": {
   "codemirror_mode": {
    "name": "ipython",
    "version": 2
   },
   "file_extension": ".py",
   "mimetype": "text/x-python",
   "name": "python",
   "nbconvert_exporter": "python",
   "pygments_lexer": "ipython2",
   "version": "2.7.6"
  }
 },
 "nbformat": 4,
 "nbformat_minor": 5
}
