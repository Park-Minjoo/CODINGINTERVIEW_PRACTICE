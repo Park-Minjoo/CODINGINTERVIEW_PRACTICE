{
 "cells": [
  {
   "cell_type": "markdown",
   "source": [
    "# <문제> 문자열 재정렬"
   ],
   "metadata": {
    "collapsed": false
   },
   "id": "f566dc6d935560ce"
  },
  {
   "cell_type": "code",
   "outputs": [
    {
     "ename": "TypeError",
     "evalue": "'str' object is not callable",
     "output_type": "error",
     "traceback": [
      "\u001B[0;31m---------------------------------------------------------------------------\u001B[0m",
      "\u001B[0;31mTypeError\u001B[0m                                 Traceback (most recent call last)",
      "Cell \u001B[0;32mIn[20], line 13\u001B[0m\n\u001B[1;32m     10\u001B[0m         \u001B[38;5;66;03m# print(num)\u001B[39;00m\n\u001B[1;32m     11\u001B[0m     \u001B[38;5;28;01melse\u001B[39;00m:\n\u001B[1;32m     12\u001B[0m         result \u001B[38;5;241m+\u001B[39m\u001B[38;5;241m=\u001B[39m s\n\u001B[0;32m---> 13\u001B[0m result \u001B[38;5;241m+\u001B[39m\u001B[38;5;241m=\u001B[39m \u001B[38;5;28mstr\u001B[39m(num)    \n\u001B[1;32m     14\u001B[0m \u001B[38;5;28mprint\u001B[39m(result)\n",
      "\u001B[0;31mTypeError\u001B[0m: 'str' object is not callable"
     ]
    }
   ],
   "source": [
    "input_data = input() # K1KA5CB7\n",
    "sorted_data = sorted(input_data)\n",
    "num = 0\n",
    "result = ''\n",
    "# print(ord('0')) # 48\n",
    "# print(ord('9')) # 57\n",
    "for s in sorted_data:\n",
    "    if 48 <= ord(s) <= 57:\n",
    "        num += int(s)\n",
    "        # print(num)\n",
    "    else:\n",
    "        result += s\n",
    "result += str(num)    \n",
    "print(result)"
   ],
   "metadata": {
    "collapsed": false,
    "ExecuteTime": {
     "end_time": "2024-02-13T07:25:35.870700Z",
     "start_time": "2024-02-13T07:25:34.741052Z"
    }
   },
   "id": "626a95b694ec8dd4",
   "execution_count": 20
  },
  {
   "cell_type": "markdown",
   "source": [
    "* 일단 문자열 입력 받아서 리스트에 넣어서 정렬하고..\n",
    "* 그 다음에 문자랑 숫자가 몇개가 들어오는지 모르니까 아스키코드 사용해서 더해주면 좋을 듯? "
   ],
   "metadata": {
    "collapsed": false
   },
   "id": "184abd5585ac3267"
  },
  {
   "cell_type": "markdown",
   "source": [
    "## 풀이"
   ],
   "metadata": {
    "collapsed": false
   },
   "id": "9f1e447b5d709e8b"
  },
  {
   "cell_type": "code",
   "outputs": [
    {
     "name": "stdout",
     "output_type": "stream",
     "text": [
      "6\n"
     ]
    }
   ],
   "source": [
    "# 현재 나이트의 위치 입력받기\n",
    "input_data = input()\n",
    "row = int(input_data[1])\n",
    "column = int(ord(input_data[0])) - int(ord('a')) + 1\n",
    "\n",
    "# 나이트가 이동할 수 있는 8가지 방향 정의\n",
    "steps = [(-2, -1), (-1, -2), (1, -2), (-2, 1), (-1, 2), (2, -1), (1, 2), (2, 1)]\n",
    "\n",
    "# 8가지 방향에 대하여 각 위치로 이동이 가능한지 확인\n",
    "result = 0\n",
    "for step in steps:\n",
    "    # 이동하고자 하는 위치 확인\n",
    "    next_row = row + step[0]\n",
    "    next_column = column + step[1]\n",
    "    # 해당 위치로 이동이 가능하다면 카운트 증가\n",
    "    if next_row >= 1 and next_row <= 8 and next_column >= 1 and next_column <=8:\n",
    "        result += 1\n",
    "print(result)"
   ],
   "metadata": {
    "collapsed": false,
    "ExecuteTime": {
     "end_time": "2024-02-13T06:54:17.513860Z",
     "start_time": "2024-02-13T06:54:15.857597Z"
    }
   },
   "id": "776b9432e216ba2",
   "execution_count": 28
  },
  {
   "cell_type": "markdown",
   "source": [
    "* 아..! 거의 다 했는데 \n",
    "* steps = [(-2, -1), (-1, -2), (1, -2), (-2, 1), (-1, 2), (2, -1), (1, 2), (2, 1)]\n",
    "    * 이 부분 리스트로 선언하는 거랑, 그걸로 반복문 돌리는 걸 생각못했다. \n",
    "    * 문제 해결 과정은 다 맞춘 것 같은데... 아쉽다. "
   ],
   "metadata": {
    "collapsed": false
   },
   "id": "38590d83f5a8a9a1"
  }
 ],
 "metadata": {
  "kernelspec": {
   "display_name": "Python 3",
   "language": "python",
   "name": "python3"
  },
  "language_info": {
   "codemirror_mode": {
    "name": "ipython",
    "version": 2
   },
   "file_extension": ".py",
   "mimetype": "text/x-python",
   "name": "python",
   "nbconvert_exporter": "python",
   "pygments_lexer": "ipython2",
   "version": "2.7.6"
  }
 },
 "nbformat": 4,
 "nbformat_minor": 5
}
