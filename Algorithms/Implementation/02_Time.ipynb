{
 "cells": [
  {
   "cell_type": "markdown",
   "source": [
    "# <문제> 시각"
   ],
   "metadata": {
    "collapsed": false
   },
   "id": "f566dc6d935560ce"
  },
  {
   "cell_type": "markdown",
   "source": [
    "* 처음에 문제 듣자마자 들은 생각.. 띠용? \n",
    "* 이걸 어떻게 풀어야 하나...\n",
    "* 다행인건 N이 숫자 하나라는 건데..\n",
    "* 그러면 1인 경우에 1 -> 01:59:59이니까 1보다 큰 숫자들은 곱하기를 하면 되는 것인가? \n",
    "* 00:00:00 ~ 01:59:59\n",
    "    * 00:00:03\n",
    "    * 00:00:13\n",
    "    * 00:00:23 -> 이런식으로 6번 (0~5)\n",
    "        * 00:01:03 -> 이런식으로 6번 * 59번(00~59) = 354번\n",
    "* 5를 입력하면... 354 * 6 는 아님 왜?? "
   ],
   "metadata": {
    "collapsed": false
   },
   "id": "1097b5e8f4ea56dd"
  },
  {
   "cell_type": "markdown",
   "source": [
    "* 처음에 문자열 입력을 잘못했다. split() 까먹지 말자. \n",
    "* x, y의 방향이 헷갈린다. 방향 좌표이기 때문에 좌표축이랑은 다르다. 오른쪽으로 가면 y가 증가하는 것이다. \n",
    "* 대충 이런식으로 풀었는데 풀이를 한 번 봐보자.."
   ],
   "metadata": {
    "collapsed": false
   },
   "id": "1ef5073bcf778c3d"
  },
  {
   "cell_type": "markdown",
   "source": [
    "## 풀이"
   ],
   "metadata": {
    "collapsed": false
   },
   "id": "9f1e447b5d709e8b"
  },
  {
   "cell_type": "code",
   "outputs": [
    {
     "name": "stdout",
     "output_type": "stream",
     "text": [
      "11475\n"
     ]
    }
   ],
   "source": [
    "# H 입력받기\n",
    "h = int(input())\n",
    "\n",
    "count = 0\n",
    "for i in range(h+1):\n",
    "    for j in range(60):\n",
    "        for k in range(60):\n",
    "            # 매 시각안에 3이 있으면 카운트 증가\n",
    "            if '3' in str(i) + str(j) + str(k):\n",
    "                count += 1\n",
    "print(count)"
   ],
   "metadata": {
    "collapsed": false,
    "ExecuteTime": {
     "end_time": "2024-02-13T05:49:23.922473Z",
     "start_time": "2024-02-13T05:49:22.805727Z"
    }
   },
   "id": "776b9432e216ba2",
   "execution_count": 2
  },
  {
   "cell_type": "markdown",
   "source": [
    "* 그냥 직관대로 짜는 건 맞는데, 반복문 3번 넣어서 h+1까지 하는 거랑 60, 60인거. \n",
    "* if '3' in str(i) + str(j) + str(k): 이 부분이 되게 클린하다. \n",
    "* 단순히 or로 짜면 되나? 생각했는데 겹치는 부분이 있을 수도 있으니까 파이썬에서는 단순히 '+'로 처리해버렸다. "
   ],
   "metadata": {
    "collapsed": false
   },
   "id": "38590d83f5a8a9a1"
  }
 ],
 "metadata": {
  "kernelspec": {
   "display_name": "Python 3",
   "language": "python",
   "name": "python3"
  },
  "language_info": {
   "codemirror_mode": {
    "name": "ipython",
    "version": 2
   },
   "file_extension": ".py",
   "mimetype": "text/x-python",
   "name": "python",
   "nbconvert_exporter": "python",
   "pygments_lexer": "ipython2",
   "version": "2.7.6"
  }
 },
 "nbformat": 4,
 "nbformat_minor": 5
}
