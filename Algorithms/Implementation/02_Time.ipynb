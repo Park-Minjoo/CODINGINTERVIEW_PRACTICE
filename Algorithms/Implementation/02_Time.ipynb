{
 "cells": [
  {
   "cell_type": "markdown",
   "source": [
    "# <문제> 시각"
   ],
   "metadata": {
    "collapsed": false
   },
   "id": "f566dc6d935560ce"
  },
  {
   "cell_type": "code",
   "execution_count": null,
   "outputs": [],
   "source": [
    "# 행렬 예시\n",
    "for i in range(5):\n",
    "    for j in range(5):\n",
    "        print('(', i, ',', j, ')')\n",
    "    print()"
   ],
   "metadata": {
    "collapsed": false
   },
   "id": "705ec53686cd6339"
  },
  {
   "cell_type": "code",
   "outputs": [],
   "source": [
    "#동, 북, 서, 남\n",
    "dx = [0, -1, 0, 1]\n",
    "dy = [1, 0, -1, 0]\n",
    "\n",
    "# 현재 위치\n",
    "x, y = 1, 1\n",
    "\n",
    "for i in range(4):\n",
    "    # 다음 위치\n",
    "    nx = x + dx[i]\n",
    "    ny = y + dy[i]\n",
    "    print(nx, ny)"
   ],
   "metadata": {
    "collapsed": false
   },
   "id": "c63fc1a4aa09bd96"
  },
  {
   "cell_type": "markdown",
   "source": [
    "* 문제를 풀기전에 구현에 대해서 배울 때 사용했던 짧은 코드를 가져왔다. \n",
    "* 처음 위치는 1,1이고 for 반복문을 통해서 움직일 수 있다. "
   ],
   "metadata": {
    "collapsed": false
   },
   "id": "f6278ca0b24dc001"
  },
  {
   "cell_type": "code",
   "execution_count": 17,
   "outputs": [
    {
     "name": "stdout",
     "output_type": "stream",
     "text": [
      "R x =  1 ,  y =  2\n",
      "R x =  1 ,  y =  3\n",
      "R x =  1 ,  y =  4\n",
      "U x =  1 ,  y =  4\n",
      "D x =  2 ,  y =  4\n",
      "D x =  3 ,  y =  4\n"
     ]
    }
   ],
   "source": [
    "num = int(input())\n",
    "list1 = input().split()\n",
    "x, y = 1, 1\n",
    "# print(list1)\n",
    "for i in list1:\n",
    "    # if 문자열이 R이라면 이동\n",
    "    if i == 'R' and y < num:\n",
    "        y += 1\n",
    "    elif i == 'L' and y > 1:\n",
    "        y -= 1\n",
    "    elif i == 'U' and x > 1:\n",
    "        x -= 1\n",
    "    elif i == 'D' and x < num:\n",
    "        x += 1\n",
    "    print(i, 'x = ', x, ', ', 'y = ', y)"
   ],
   "metadata": {
    "collapsed": false,
    "ExecuteTime": {
     "end_time": "2024-02-12T08:53:24.596087Z",
     "start_time": "2024-02-12T08:53:19.244440Z"
    }
   },
   "id": "be75999c8b32245e"
  },
  {
   "cell_type": "markdown",
   "source": [
    "* 처음에 문자열 입력을 잘못했다. split() 까먹지 말자. \n",
    "* x, y의 방향이 헷갈린다. 방향 좌표이기 때문에 좌표축이랑은 다르다. 오른쪽으로 가면 y가 증가하는 것이다. \n",
    "* 대충 이런식으로 풀었는데 풀이를 한 번 봐보자.."
   ],
   "metadata": {
    "collapsed": false
   },
   "id": "1ef5073bcf778c3d"
  },
  {
   "cell_type": "markdown",
   "source": [
    "## 풀이"
   ],
   "metadata": {
    "collapsed": false
   },
   "id": "9f1e447b5d709e8b"
  },
  {
   "cell_type": "code",
   "outputs": [
    {
     "name": "stdout",
     "output_type": "stream",
     "text": [
      "3 4\n"
     ]
    }
   ],
   "source": [
    "# N 입력 받기\n",
    "n = int(input())\n",
    "x, y = 1, 1\n",
    "plans = input().split()\n",
    "\n",
    "# L, R, U, D에 따른 이동 방향\n",
    "dx = [0, 0, -1, 1]\n",
    "dy = [-1, 1, 0, 0]\n",
    "move_types = ['L', 'R', 'U', 'D']\n",
    "\n",
    "# 이동 계획을 하나씩 확인하기\n",
    "for plan in plans:\n",
    "    # 이동 후 좌표 구하기\n",
    "    for i in range(len(move_types)):\n",
    "        if plan == move_types[i]:\n",
    "            nx = x + dx[i]\n",
    "            ny = y + dy[i]\n",
    "    # 공간을 벗어나는 경우 무시\n",
    "    if nx < 1 or ny < 1 or nx > n or nx > n:\n",
    "        continue\n",
    "    # 이동 수행\n",
    "    x, y = nx, ny\n",
    "print(x, y)"
   ],
   "metadata": {
    "collapsed": false,
    "ExecuteTime": {
     "end_time": "2024-02-12T09:06:32.962279Z",
     "start_time": "2024-02-12T09:06:24.528273Z"
    }
   },
   "id": "776b9432e216ba2",
   "execution_count": 18
  },
  {
   "cell_type": "markdown",
   "source": [
    "* 내 직관적인 생각과는 상반되는 너무나도 깔끔한 코드~~~\n",
    "* 언제쯤 나도 이런 코드를 짤 수 있을까\n",
    "* 다음주에 다시 짜봐야지 ㅋㅋㅋ 너무 깔끔하당"
   ],
   "metadata": {
    "collapsed": false
   },
   "id": "38590d83f5a8a9a1"
  }
 ],
 "metadata": {
  "kernelspec": {
   "display_name": "Python 3",
   "language": "python",
   "name": "python3"
  },
  "language_info": {
   "codemirror_mode": {
    "name": "ipython",
    "version": 2
   },
   "file_extension": ".py",
   "mimetype": "text/x-python",
   "name": "python",
   "nbconvert_exporter": "python",
   "pygments_lexer": "ipython2",
   "version": "2.7.6"
  }
 },
 "nbformat": 4,
 "nbformat_minor": 5
}
