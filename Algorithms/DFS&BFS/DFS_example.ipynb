{
 "cells": [
  {
   "cell_type": "markdown",
   "source": [
    "# DFS 소스코드 예제"
   ],
   "metadata": {
    "collapsed": false
   },
   "id": "2c9575f48e92e6c5"
  },
  {
   "cell_type": "code",
   "outputs": [
    {
     "name": "stdout",
     "output_type": "stream",
     "text": [
      "1 2 7 6 8 3 4 5 "
     ]
    }
   ],
   "source": [
    "# DFS 메서드 정의\n",
    "def dfs(graph, v, visited):\n",
    "    # 현재 노드를 방문 처리\n",
    "    visited[v] = True\n",
    "    print(v, end=' ')\n",
    "    # 현재 노드와 연결된 다른 노드를 재귀적으로 방문\n",
    "    for i in graph[v]:\n",
    "        if not visited[i]:\n",
    "            dfs(graph, i, visited)\n",
    "\n",
    "graph = [\n",
    "    [],\n",
    "    [2, 3, 8], \n",
    "    [1, 7],\n",
    "    [1, 4, 5], \n",
    "    [3, 5], \n",
    "    [3, 4], \n",
    "    [7], \n",
    "    [2, 6, 8], \n",
    "    [1, 7]\n",
    "]\n",
    "\n",
    "# 각 노드가 방문한 정보를 표현 (1차원 리스트)\n",
    "visited = [False] * 9\n",
    "\n",
    "# 정의된 DFS 함수 호출\n",
    "dfs(graph, 1, visited)"
   ],
   "metadata": {
    "collapsed": false,
    "ExecuteTime": {
     "end_time": "2024-02-13T09:00:15.310852Z",
     "start_time": "2024-02-13T09:00:15.307507Z"
    }
   },
   "id": "494e9c8aa87fd99f",
   "execution_count": 2
  }
 ],
 "metadata": {
  "kernelspec": {
   "display_name": "Python 3",
   "language": "python",
   "name": "python3"
  },
  "language_info": {
   "codemirror_mode": {
    "name": "ipython",
    "version": 2
   },
   "file_extension": ".py",
   "mimetype": "text/x-python",
   "name": "python",
   "nbconvert_exporter": "python",
   "pygments_lexer": "ipython2",
   "version": "2.7.6"
  }
 },
 "nbformat": 4,
 "nbformat_minor": 5
}
