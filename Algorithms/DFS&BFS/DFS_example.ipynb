{
 "cells": [
  {
   "cell_type": "markdown",
   "source": [
    "# DFS 소스코드 예제"
   ],
   "metadata": {
    "collapsed": false
   },
   "id": "2c9575f48e92e6c5"
  },
  {
   "cell_type": "code",
   "outputs": [],
   "source": [
    "# DFS 메서드 정의\n"
   ],
   "metadata": {
    "collapsed": false
   },
   "id": "494e9c8aa87fd99f",
   "execution_count": null
  }
 ],
 "metadata": {
  "kernelspec": {
   "display_name": "Python 3",
   "language": "python",
   "name": "python3"
  },
  "language_info": {
   "codemirror_mode": {
    "name": "ipython",
    "version": 2
   },
   "file_extension": ".py",
   "mimetype": "text/x-python",
   "name": "python",
   "nbconvert_exporter": "python",
   "pygments_lexer": "ipython2",
   "version": "2.7.6"
  }
 },
 "nbformat": 4,
 "nbformat_minor": 5
}
