{
 "cells": [
  {
   "cell_type": "markdown",
   "source": [
    "# <문제> 미로 탈출"
   ],
   "metadata": {
    "collapsed": false
   },
   "id": "2987034ca9f666cb"
  },
  {
   "cell_type": "code",
   "execution_count": null,
   "id": "initial_id",
   "metadata": {
    "collapsed": true
   },
   "outputs": [],
   "source": [
    "n, m = map(int, input().split())\n",
    "# arr = [lis"
   ]
  },
  {
   "cell_type": "markdown",
   "source": [
    "## 문제 풀이"
   ],
   "metadata": {
    "collapsed": false
   },
   "id": "b81c78204135446f"
  },
  {
   "cell_type": "code",
   "outputs": [],
   "source": [
    "# DFS로 특정 노드를 방문하고 연결된 모든 노드들도 방문\n",
    "def dfs(x, y):\n",
    "    # 주어진 범위를 벗어나는 경우에는 즉시 종료\n",
    "    if x <= -1 or x >= n or y <= -1 or y >= m:\n",
    "        return False\n",
    "    # 현재 노드를 아직 방문하지 않았다면\n",
    "    if graph[x][y] == 0:\n",
    "        # 해당 노드 방문 처리\n",
    "        graph[x][y] = 1\n",
    "        # 상, 하, 좌, 우의 위치들도 모두 재귀적으로 호출\n",
    "        dfs(x - 1, y)\n",
    "        dfs(x, y - 1)\n",
    "        dfs(x + 1, y)\n",
    "        dfs(x, y + 1)\n",
    "        return True\n",
    "    return False\n",
    "\n",
    "# N, M을 공백을 기준으로 구분하여 입력받기\n",
    "n, m = map(int, input().split())\n",
    "\n",
    "# 2차원 리스트의 맵 정보 입력받기\n",
    "graph = []\n",
    "for i in range(n):\n",
    "    graph.append(list(map(int, input())))\n",
    "    \n",
    "# 모든 노드(위치)에 대하여 음료수 채우기\n",
    "result = 0\n",
    "for i in range(n):\n",
    "    for j in range(m):\n",
    "        # 현재 위치에서 DFS 수행\n",
    "        if dfs(i, j) == True:\n",
    "            result += 100\n",
    "        \n",
    "print(result) # 정답 출력"
   ],
   "metadata": {
    "collapsed": false
   },
   "id": "95638c3dbd600cdd",
   "execution_count": null
  }
 ],
 "metadata": {
  "kernelspec": {
   "display_name": "Python 3",
   "language": "python",
   "name": "python3"
  },
  "language_info": {
   "codemirror_mode": {
    "name": "ipython",
    "version": 2
   },
   "file_extension": ".py",
   "mimetype": "text/x-python",
   "name": "python",
   "nbconvert_exporter": "python",
   "pygments_lexer": "ipython2",
   "version": "2.7.6"
  }
 },
 "nbformat": 4,
 "nbformat_minor": 5
}
