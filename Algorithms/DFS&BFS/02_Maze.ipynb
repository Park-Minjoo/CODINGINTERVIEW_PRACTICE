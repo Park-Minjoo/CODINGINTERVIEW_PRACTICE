{
 "cells": [
  {
   "cell_type": "markdown",
   "source": [
    "# <문제> 미로 탈출"
   ],
   "metadata": {
    "collapsed": false
   },
   "id": "2987034ca9f666cb"
  },
  {
   "cell_type": "code",
   "execution_count": 1,
   "id": "initial_id",
   "metadata": {
    "collapsed": true,
    "ExecuteTime": {
     "end_time": "2024-02-13T09:54:23.764095Z",
     "start_time": "2024-02-13T09:54:09.411562Z"
    }
   },
   "outputs": [
    {
     "ename": "TypeError",
     "evalue": "'function' object is not subscriptable",
     "output_type": "error",
     "traceback": [
      "\u001B[0;31m---------------------------------------------------------------------------\u001B[0m",
      "\u001B[0;31mTypeError\u001B[0m                                 Traceback (most recent call last)",
      "Cell \u001B[0;32mIn[1], line 28\u001B[0m\n\u001B[1;32m     26\u001B[0m \u001B[38;5;28;01mfor\u001B[39;00m i \u001B[38;5;129;01min\u001B[39;00m \u001B[38;5;28mrange\u001B[39m(n):\n\u001B[1;32m     27\u001B[0m     \u001B[38;5;28;01mfor\u001B[39;00m j \u001B[38;5;129;01min\u001B[39;00m \u001B[38;5;28mrange\u001B[39m(m):\n\u001B[0;32m---> 28\u001B[0m         \u001B[38;5;28;01mif\u001B[39;00m bfs[i][j]:\n\u001B[1;32m     29\u001B[0m             result \u001B[38;5;241m+\u001B[39m\u001B[38;5;241m=\u001B[39m \u001B[38;5;241m1\u001B[39m\n",
      "\u001B[0;31mTypeError\u001B[0m: 'function' object is not subscriptable"
     ]
    }
   ],
   "source": [
    "from collections import deque\n",
    "\n",
    "def bfs(graph, start, visited):\n",
    "    # 큐(Queue) 구현을 위해 deque 라이브러리 사용\n",
    "    queue = deque([start])\n",
    "    # 현재 노드를 방문 처리\n",
    "    visited[start] = True\n",
    "    # 큐가 빌 때까지 반복\n",
    "    while queue:\n",
    "        # 큐에서 하나의 원소를 뽑아 출력하기\n",
    "        v = queue.popleft()\n",
    "        print(v, end=' ')\n",
    "        # 아직 방문하지 않은 인접한 원소들을 큐에 삽입\n",
    "        for i in graph[v]:\n",
    "            if not visited[i]:\n",
    "                queue.append(i)\n",
    "                visited[i] = True\n",
    "                \n",
    "                \n",
    "n, m = map(int, input().split())\n",
    "graph = []\n",
    "for i in range(n):\n",
    "    graph.append(list(map(int, input())))\n",
    "    \n",
    "result = 0\n",
    "for i in range(n):\n",
    "    for j in range(m):\n",
    "        if bfs[i][j]:\n",
    "            result += 1"
   ]
  },
  {
   "cell_type": "markdown",
   "source": [
    "## 문제 풀이"
   ],
   "metadata": {
    "collapsed": false
   },
   "id": "b81c78204135446f"
  },
  {
   "cell_type": "code",
   "outputs": [
    {
     "ename": "TypeError",
     "evalue": "deque.append() takes exactly one argument (2 given)",
     "output_type": "error",
     "traceback": [
      "\u001B[0;31m---------------------------------------------------------------------------\u001B[0m",
      "\u001B[0;31mTypeError\u001B[0m                                 Traceback (most recent call last)",
      "Cell \u001B[0;32mIn[4], line 40\u001B[0m\n\u001B[1;32m     37\u001B[0m         \u001B[38;5;28;01mreturn\u001B[39;00m graph[n \u001B[38;5;241m-\u001B[39m \u001B[38;5;241m1\u001B[39m][m \u001B[38;5;241m-\u001B[39m \u001B[38;5;241m1\u001B[39m]\n\u001B[1;32m     39\u001B[0m \u001B[38;5;66;03m# BFS를 수행한 결과 출력\u001B[39;00m\n\u001B[0;32m---> 40\u001B[0m \u001B[38;5;28mprint\u001B[39m(bfs(\u001B[38;5;241m0\u001B[39m, \u001B[38;5;241m0\u001B[39m))\n",
      "Cell \u001B[0;32mIn[4], line 18\u001B[0m, in \u001B[0;36mbfs\u001B[0;34m(x, y)\u001B[0m\n\u001B[1;32m     15\u001B[0m \u001B[38;5;28;01mdef\u001B[39;00m \u001B[38;5;21mbfs\u001B[39m(x, y):\n\u001B[1;32m     16\u001B[0m     \u001B[38;5;66;03m# 큐 (QUEUE) 구현을 위해 deque 라이브러리 사용\u001B[39;00m\n\u001B[1;32m     17\u001B[0m     queue \u001B[38;5;241m=\u001B[39m deque()\n\u001B[0;32m---> 18\u001B[0m     queue\u001B[38;5;241m.\u001B[39mappend(x, y)\n\u001B[1;32m     19\u001B[0m     \u001B[38;5;66;03m# 큐가 빌 때까지 반복하기\u001B[39;00m\n\u001B[1;32m     20\u001B[0m     \u001B[38;5;28;01mwhile\u001B[39;00m queue:\n",
      "\u001B[0;31mTypeError\u001B[0m: deque.append() takes exactly one argument (2 given)"
     ]
    }
   ],
   "source": [
    "from collections import deque\n",
    "\n",
    "# N, M 을 공백을 기분으로 구분하여 입력 받기\n",
    "n, m = map(int, input().split())\n",
    "# 2차원 리스트의 맵 정보 입력받기\n",
    "graph = []\n",
    "for i in range(n):\n",
    "    graph.append(list(map(int, input())))\n",
    "\n",
    "# 이동할 네 가지 방향 정의 (상, 하, 좌, 우)\n",
    "dx = [-1, 1, 0, 0]\n",
    "dy = [0, 0, -1, 1]\n",
    "\n",
    "# BFS 소스코드 구현\n",
    "def bfs(x, y):\n",
    "    # 큐 (QUEUE) 구현을 위해 deque 라이브러리 사용\n",
    "    queue = deque()\n",
    "    queue.append(x, y)\n",
    "    # 큐가 빌 때까지 반복하기\n",
    "    while queue:\n",
    "        x, y = queue.popleft()\n",
    "        # 현재 위치에서 4가지 방향으로의 위치 확인\n",
    "        for i in range(4):\n",
    "            nx = x + dx[i]\n",
    "            ny = y + dy[i]\n",
    "            # 미로 찾기 공간을 벗어난 경우 무시\n",
    "            if nx < 0 or nx >= n or ny < 0 or ny >= m:\n",
    "                continue\n",
    "            # 벽인 경우 무시\n",
    "            if graph[nx][ny] == 0:\n",
    "                continue\n",
    "            # 해당 노드를 처음 방문하는 경우에만 최단 거리 기록\n",
    "            if graph[nx][ny] == 1:\n",
    "                graph[nx][ny] = graph[x][y] + 1\n",
    "                queue.append((nx, ny))\n",
    "        # 가장 오른쪽 아래까지의 최단 거리 반환\n",
    "        return graph[n - 1][m - 1]\n",
    "    \n",
    "# BFS를 수행한 결과 출력\n",
    "print(bfs(0, 0))"
   ],
   "metadata": {
    "collapsed": false,
    "ExecuteTime": {
     "end_time": "2024-02-13T10:09:47.261052Z",
     "start_time": "2024-02-13T10:09:36.959340Z"
    }
   },
   "id": "95638c3dbd600cdd",
   "execution_count": 4
  }
 ],
 "metadata": {
  "kernelspec": {
   "display_name": "Python 3",
   "language": "python",
   "name": "python3"
  },
  "language_info": {
   "codemirror_mode": {
    "name": "ipython",
    "version": 2
   },
   "file_extension": ".py",
   "mimetype": "text/x-python",
   "name": "python",
   "nbconvert_exporter": "python",
   "pygments_lexer": "ipython2",
   "version": "2.7.6"
  }
 },
 "nbformat": 4,
 "nbformat_minor": 5
}
