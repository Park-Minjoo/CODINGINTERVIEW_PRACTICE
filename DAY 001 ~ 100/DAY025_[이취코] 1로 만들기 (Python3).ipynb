{
 "cells": [
  {
   "attachments": {},
   "cell_type": "markdown",
   "metadata": {},
   "source": [
    "# [이취코] 1로 만들기 (Python3)"
   ]
  },
  {
   "attachments": {},
   "cell_type": "markdown",
   "metadata": {},
   "source": [
    "## Problem: 다이나믹 프로그래밍 (Dynamic Programming)\n",
    "## Blog: "
   ]
  },
  {
   "cell_type": "markdown",
   "source": [
    "### 처음에 짠 코드"
   ],
   "metadata": {
    "collapsed": false
   }
  },
  {
   "cell_type": "code",
   "outputs": [],
   "source": [
    "n = int(input())\n",
    "count = 0\n",
    "\n",
    "if n == 1:\n",
    "    count = 0\n",
    "\n",
    "if n == 2:\n",
    "    count = 1\n",
    "    \n",
    "\n",
    "if n == 3:\n",
    "    count = 1\n",
    "\n",
    "if n == 5:\n",
    "    count = 1\n",
    "\n",
    "else:\n",
    "    while n != 1:\n",
    "        if n % 5 == 0:\n",
    "            n /= 5\n",
    "            count += 1\n",
    "        elif n % 3 == 0:\n",
    "            n /= 3\n",
    "            count += 1\n",
    "        elif n % 2 == 0:\n",
    "            n /= 2\n",
    "            count += 1\n",
    "        else:\n",
    "            n -= 1\n",
    "            count += 1\n",
    "\n",
    "print(count)\n"
   ],
   "metadata": {
    "collapsed": false
   }
  },
  {
   "cell_type": "markdown",
   "source": [],
   "metadata": {
    "collapsed": false
   }
  },
  {
   "cell_type": "markdown",
   "source": [
    "### DP를 적용한 코드"
   ],
   "metadata": {
    "collapsed": false
   }
  },
  {
   "cell_type": "code",
   "execution_count": null,
   "metadata": {},
   "outputs": [],
   "source": [
    "n = int(input())\n",
    "d = [0] * 30001\n",
    "\n",
    "for i in range(2, n + 1):\n",
    "    d[i] = d[i - 1] + 1\n",
    "\n",
    "    if i % 2 == 0:\n",
    "        d[i] = min(d[i], d[i // 2] + 1)\n",
    "    if i % 3 == 0:\n",
    "        d[i] = min(d[i], d[i // 3] + 1)\n",
    "    if i % 5 == 0:\n",
    "        d[i] = min(d[i], d[i // 5] + 1)\n",
    "\n",
    "\n",
    "\n",
    "print(d[n])\n"
   ]
  },
  {
   "cell_type": "markdown",
   "source": [],
   "metadata": {
    "collapsed": false
   }
  }
 ],
 "metadata": {
  "language_info": {
   "name": "python"
  },
  "orig_nbformat": 4,
  "kernelspec": {
   "name": "python3",
   "language": "python",
   "display_name": "Python 3 (ipykernel)"
  }
 },
 "nbformat": 4,
 "nbformat_minor": 2
}
