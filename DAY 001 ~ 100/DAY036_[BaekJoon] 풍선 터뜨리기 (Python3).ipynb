{
 "cells": [
  {
   "cell_type": "markdown",
   "source": [
    "# [BeakJoon] 풍선 터뜨리기 (Python3) - Silver III"
   ],
   "metadata": {
    "collapsed": false
   }
  },
  {
   "attachments": {},
   "cell_type": "markdown",
   "metadata": {},
   "source": [
    "## Problem:https://www.acmicpc.net/problem/2346\n",
    "## Blog: "
   ]
  },
  {
   "cell_type": "markdown",
   "source": [
    "### 처음에 짠 코드"
   ],
   "metadata": {
    "collapsed": false
   }
  },
  {
   "cell_type": "code",
   "outputs": [],
   "source": [
    "n = int(input())\n",
    "balloons = list(map(int, input().split()))\n",
    "\n",
    "answer = 1\n",
    "result = [1]\n",
    "\n",
    "for i in range(n):\n",
    "    answer += balloons[answer-1]\n",
    "    print(answer)\n",
    "    for i in result:\n",
    "        if answer == i:\n",
    "            result.append(balloons[answer])\n",
    "            continue\n",
    "    result.append(answer)\n",
    "print(result)\n"
   ],
   "metadata": {
    "collapsed": false
   }
  },
  {
   "cell_type": "markdown",
   "source": [
    "* 리스트로 처리하려고 했는데, 그러면 이미 터진 풍선이 있을 때 음수일 때 좌로 양수일 때 우로 움직여야 해서 또 다시 조건문을 걸어야 하므로 코드가 복잡해짐. \n",
    "* Deque를 사용해보자!\n",
    "    * 참고: https://velog.io/@hygge/Python-%EB%B0%B1%EC%A4%80-2346-%ED%92%8D%EC%84%A0-%ED%84%B0%EB%9C%A8%EB%A6%AC%EA%B8%B0-deque  "
   ],
   "metadata": {
    "collapsed": false
   }
  },
  {
   "cell_type": "markdown",
   "source": [],
   "metadata": {
    "collapsed": false
   }
  },
  {
   "cell_type": "markdown",
   "source": [
    "### deque를 적용한 코드"
   ],
   "metadata": {
    "collapsed": false
   }
  },
  {
   "cell_type": "code",
   "execution_count": null,
   "metadata": {},
   "outputs": [],
   "source": [
    "import sys\n",
    "input = sys.stdin.readline\n",
    "from collections import deque\n",
    "\n",
    "n = int(input())\n",
    "q = deque(enumerate(map(int, input().split())))\n",
    "ans = []\n",
    "\n",
    "while q:\n",
    "    idx, paper = q.popleft()\n",
    "    ans.append(idx + 1)\n",
    "    \n",
    "    if paper > 0:\n",
    "        q.rotate(-(paper-1))\n",
    "    else:\n",
    "        q.rotate(-paper)\n",
    "print(' '.join(map(str, ans)))  \n",
    "\n",
    "'''\n",
    "Input\n",
    "5\n",
    "3 2 1 -3 -1\n",
    "\n",
    "Output\n",
    "1 4 5 3 2\n",
    "'''"
   ]
  },
  {
   "cell_type": "markdown",
   "source": [
    "* enumerate를 사용함으로서 인덱스와 종이 값이 하나의 튜플로 저장"
   ],
   "metadata": {
    "collapsed": false
   }
  },
  {
   "cell_type": "markdown",
   "source": [],
   "metadata": {
    "collapsed": false
   }
  }
 ],
 "metadata": {
  "language_info": {
   "name": "python"
  },
  "orig_nbformat": 4,
  "kernelspec": {
   "name": "python3",
   "language": "python",
   "display_name": "Python 3 (ipykernel)"
  }
 },
 "nbformat": 4,
 "nbformat_minor": 2
}
