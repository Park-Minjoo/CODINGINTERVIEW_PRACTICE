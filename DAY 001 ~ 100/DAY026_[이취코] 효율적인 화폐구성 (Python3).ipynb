{
 "cells": [
  {
   "attachments": {},
   "cell_type": "markdown",
   "metadata": {},
   "source": [
    "# [이취코] 효율적인 화폐 구성 (Python3)"
   ]
  },
  {
   "attachments": {},
   "cell_type": "markdown",
   "metadata": {},
   "source": [
    "## Problem: 다이나믹 프로그래밍 (Dynamic Programming)\n",
    "## Blog: https://mandy5g.tistory.com/92"
   ]
  },
  {
   "cell_type": "markdown",
   "source": [
    "### 처음에 짠 코드"
   ],
   "metadata": {
    "collapsed": false
   }
  },
  {
   "cell_type": "code",
   "outputs": [],
   "source": [
    "n, m = map(int, input().split())\n",
    "costs = [int(input()) for _ in range(n)]\n",
    "count = -1\n",
    "d = [0] * 10000\n",
    "\n",
    "for cost in costs:\n",
    "    if m % cost == 0:\n",
    "        count = m // cost\n",
    "    else:\n",
    "        count = -1\n",
    "\n",
    "print(count)"
   ],
   "metadata": {
    "collapsed": false
   }
  },
  {
   "cell_type": "markdown",
   "source": [],
   "metadata": {
    "collapsed": false
   }
  },
  {
   "cell_type": "markdown",
   "source": [
    "### DP를 적용한 코드"
   ],
   "metadata": {
    "collapsed": false
   }
  },
  {
   "cell_type": "code",
   "execution_count": null,
   "metadata": {},
   "outputs": [],
   "source": [
    "n, m = map(int, input().split())\n",
    "cost = [int(input()) for _ in range(n)]\n",
    "\n",
    "d = [10001] * (m+1)\n",
    "d[0] = 0\n",
    "for i in range(n): # 3\n",
    "    for j in range(cost[i], m+1): # cost ~ 7\n",
    "        if d[j - cost[i]] != 10001:\n",
    "            d[j] = min(d[j], d[j - cost[i]] + 1)\n",
    "\n",
    "if d[m] == 10001:\n",
    "    print(-1)\n",
    "else:\n",
    "    print(d[m])\n",
    "\n",
    "\n",
    "'''\n",
    "3 7\n",
    "2\n",
    "3\n",
    "5\n",
    "\n",
    "2 13\n",
    "2\n",
    "3\n",
    "'''"
   ]
  },
  {
   "cell_type": "markdown",
   "source": [],
   "metadata": {
    "collapsed": false
   }
  }
 ],
 "metadata": {
  "language_info": {
   "name": "python"
  },
  "orig_nbformat": 4,
  "kernelspec": {
   "name": "python3",
   "language": "python",
   "display_name": "Python 3 (ipykernel)"
  }
 },
 "nbformat": 4,
 "nbformat_minor": 2
}
