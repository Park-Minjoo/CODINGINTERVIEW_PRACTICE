{
 "cells": [
  {
   "attachments": {},
   "cell_type": "markdown",
   "metadata": {},
   "source": [
    "# [HackerRank] Mini-Max Sum"
   ]
  },
  {
   "attachments": {},
   "cell_type": "markdown",
   "metadata": {},
   "source": [
    "## Question: https://www.hackerrank.com/challenges/mini-max-sum/problem?isFullScreen=true\n",
    "## Blog: https://mandy5g.tistory.com/39"
   ]
  },
  {
   "attachments": {},
   "cell_type": "markdown",
   "metadata": {},
   "source": [
    "#### Given five positive integers, find the minimum and maximum values that can be calculated by summing exactly four of the five integers. Then print the respective minimum and maximum values as a single line of two space-separated long integers.\n",
    "\n",
    "* 5개의 element를 가진 array를 받아서 그 중에서 4개를 더하는 데 그 더한 값 중 가장 큰 값과 가장 작은 값을 구하면 된다. \n",
    "    * 나는 Sort를 한 다음에, 가장 앞의 값 (가장 작은 값) 을 빼고 더해서 -> Max\n",
    "    * 가장 뒤에 값 (가장 큰 값)을 빼고 더해서 -> Min을 구했다. "
   ]
  },
  {
   "attachments": {},
   "cell_type": "markdown",
   "metadata": {},
   "source": [
    "비교적 쉽게 풀렸던 문제. \n",
    "python에는 다양한 내장 함수들이 있어서 코딩할 때 참 편하다 ㅎㅎ"
   ]
  },
  {
   "cell_type": "code",
   "execution_count": null,
   "metadata": {},
   "outputs": [],
   "source": [
    "# Solution 1\n",
    "\n",
    "#!/bin/python3\n",
    "\n",
    "import math\n",
    "import os\n",
    "import random\n",
    "import re\n",
    "import sys\n",
    "\n",
    "#\n",
    "# Complete the 'miniMaxSum' function below.\n",
    "#\n",
    "# The function accepts INTEGER_ARRAY arr as parameter.\n",
    "#\n",
    "\n",
    "def miniMaxSum(arr):\n",
    "    # Write your code here\n",
    "    arr = sorted(arr)\n",
    "    min = 0\n",
    "    max = 0\n",
    "    for i in arr[1:]:\n",
    "        max+=i\n",
    "    for i in arr[:-1]:\n",
    "        min+=i\n",
    "    print(min, max)\n",
    "    return min, max\n",
    "\n",
    "if __name__ == '__main__':\n",
    "\n",
    "    arr = list(map(int, input().rstrip().split()))\n",
    "\n",
    "    miniMaxSum(arr)\n"
   ]
  }
 ],
 "metadata": {
  "kernelspec": {
   "display_name": "Python 3",
   "language": "python",
   "name": "python3"
  },
  "language_info": {
   "name": "python",
   "version": "3.10.6 (main, Aug 11 2022, 13:49:25) [Clang 13.1.6 (clang-1316.0.21.2.5)]"
  },
  "orig_nbformat": 4,
  "vscode": {
   "interpreter": {
    "hash": "aee8b7b246df8f9039afb4144a1f6fd8d2ca17a180786b69acc140d282b71a49"
   }
  }
 },
 "nbformat": 4,
 "nbformat_minor": 2
}
