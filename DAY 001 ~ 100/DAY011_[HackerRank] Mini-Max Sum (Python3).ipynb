{
 "cells": [
  {
   "attachments": {},
   "cell_type": "markdown",
   "metadata": {},
   "source": [
    "# [HackerRank] Mini-Max Sum"
   ]
  },
  {
   "attachments": {},
   "cell_type": "markdown",
   "metadata": {},
   "source": [
    "## Question: https://www.hackerrank.com/challenges/mini-max-sum/problem?isFullScreen=true\n",
    "## Blog: "
   ]
  },
  {
   "attachments": {},
   "cell_type": "markdown",
   "metadata": {},
   "source": [
    "비교적 쉽게 풀렸던 문제. \n",
    "python에는 다양한 내장 함수들이 있어서 코딩할 때 참 편하다 ㅎㅎ"
   ]
  },
  {
   "cell_type": "code",
   "execution_count": null,
   "metadata": {},
   "outputs": [],
   "source": [
    "# Solution 1\n",
    "\n",
    "#!/bin/python3\n",
    "\n",
    "import math\n",
    "import os\n",
    "import random\n",
    "import re\n",
    "import sys\n",
    "\n",
    "#\n",
    "# Complete the 'miniMaxSum' function below.\n",
    "#\n",
    "# The function accepts INTEGER_ARRAY arr as parameter.\n",
    "#\n",
    "\n",
    "def miniMaxSum(arr):\n",
    "    # Write your code here\n",
    "    arr = sorted(arr)\n",
    "    min = 0\n",
    "    max = 0\n",
    "    for i in arr[1:]:\n",
    "        max+=i\n",
    "    for i in arr[:-1]:\n",
    "        min+=i\n",
    "    print(min, max)\n",
    "    return min, max\n",
    "\n",
    "if __name__ == '__main__':\n",
    "\n",
    "    arr = list(map(int, input().rstrip().split()))\n",
    "\n",
    "    miniMaxSum(arr)\n"
   ]
  }
 ],
 "metadata": {
  "language_info": {
   "name": "python"
  },
  "orig_nbformat": 4
 },
 "nbformat": 4,
 "nbformat_minor": 2
}
