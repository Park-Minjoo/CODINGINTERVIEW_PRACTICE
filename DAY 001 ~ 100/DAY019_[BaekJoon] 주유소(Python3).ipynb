{
 "cells": [
  {
   "attachments": {},
   "cell_type": "markdown",
   "metadata": {},
   "source": [
    "# [BaekJoon] 주유소 - 실버3(Python3)"
   ]
  },
  {
   "attachments": {},
   "cell_type": "markdown",
   "metadata": {},
   "source": [
    "## Problem: https://www.acmicpc.net/problem/13305\n",
    "## Blog: https://mandy5g.tistory.com/85"
   ]
  },
  {
   "attachments": {},
   "cell_type": "markdown",
   "metadata": {},
   "source": [
    "* 모든 주유소의 가격이 똑같다면? \n",
    "* 처음에는 sort로 접근했는데 그럴 필요없이 \n",
    "* 마지막 if i == n-2일 때, min이랑 거리를 곱해주면 된다. \n",
    "* 아직은 계속 생각해내는게 쉽진 않지만, 조금씩 성장하는 중이다!"
   ]
  },
  {
   "cell_type": "code",
   "execution_count": null,
   "metadata": {},
   "outputs": [],
   "source": [
    "n = int(input())\n",
    "len = list(map(int, input().split()))\n",
    "costs = list(map(int, input().split()))\n",
    "total = costs[0] * len[0] # 처음은 무조건 가야하므로.\n",
    "min = costs[0] # 최솟값은 초기값으로 세팅\n",
    "dist = 0 # 가야할 거리 계산\n",
    "\n",
    "for i in range(1, n-1):\n",
    "    if costs[i] < min: # 비용이 최솟값보다 작을 때\n",
    "        total += min * dist # 그 전 최솟값과 길이를 곱해줌\n",
    "        dist = len[i] # i번째 길이로 초기화\n",
    "        min = costs[i] # 최솟값으로 교체\n",
    "    else:\n",
    "        dist += len[i] # 최솟값일때, dist에 거리 더해줌\n",
    "    if i == n-2:\n",
    "        total += min * dist # 계속 최솟값일때 거리 곱해주기\n",
    "\n",
    "print(total)"
   ]
  },
  {
   "cell_type": "markdown",
   "source": [
    "주유소\n",
    "1. 도시개수 N \n",
    "2. 도로길이 N - 1 (len[i]) [2, 3, 1] = 6 \n",
    "3. 기름가격 N (cost[I]\n",
    "\t[5, 2, 4, 1]\n",
    "\n",
    "\n",
    "1. 6 * 5 = 30\n",
    "2. (2 * 5) + (3 * 2) + (1 * 4) = 20\n",
    "3. (2 * 5) + (4 * 1) = 18\n",
    "최소 비용\n",
    "\n",
    "\n",
    "가격이 가장 작은 것을 많이 곱해야 함. \n",
    "도시를 갈 때 최소한의 리터가 있어야 함. \n",
    "\n",
    "If, 모든 가격을 다 비교해서 cost[0]가 가장 작으면 cost[0]에 거리를 다 곱함\n",
    "Else (cost[0]보다 작은 게 있는 경우)\n",
    "\tif, cost[I]랑 cost[I+1]을 비교해서 cost[I]가 크면 len[I]만큼만 곱함: \n",
    "\t\tcost[I] * len[I]\n",
    "\t\telse 그 다음것까지 곱함 \n",
    "\t\t\tcost[I] * (len[I] + len[i+1])\n",
    "\t\t\t\n"
   ],
   "metadata": {
    "collapsed": false
   }
  }
 ],
 "metadata": {
  "language_info": {
   "name": "python"
  },
  "orig_nbformat": 4,
  "kernelspec": {
   "name": "python3",
   "language": "python",
   "display_name": "Python 3 (ipykernel)"
  }
 },
 "nbformat": 4,
 "nbformat_minor": 2
}
