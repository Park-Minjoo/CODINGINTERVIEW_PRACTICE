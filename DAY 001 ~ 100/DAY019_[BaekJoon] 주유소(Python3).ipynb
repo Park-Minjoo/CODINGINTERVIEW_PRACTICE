{
 "cells": [
  {
   "attachments": {},
   "cell_type": "markdown",
   "metadata": {},
   "source": [
    "# [BaekJoon] 주유소 (Python3)"
   ]
  },
  {
   "attachments": {},
   "cell_type": "markdown",
   "metadata": {},
   "source": [
    "## Problem: 주유소 - 실버3\n",
    "https://www.acmicpc.net/problem/13305\n",
    "## Blog: https://mandy5g.tistory.com/85"
   ]
  },
  {
   "attachments": {},
   "cell_type": "markdown",
   "metadata": {},
   "source": [
    "* 모든 주유소의 가격이 똑같다면? \n",
    "* 처음에는 sort로 접근했는데 그럴 필요없이 \n",
    "* 마지막 if i == n-2일 때, min이랑 거리를 곱해주면 된다. \n",
    "* 아직은 계속 생각해내는게 쉽진 않지만, 조금씩 성장하는 중이다!"
   ]
  },
  {
   "cell_type": "code",
   "execution_count": null,
   "metadata": {},
   "outputs": [],
   "source": [
    "n = int(input())\n",
    "len = list(map(int, input().split()))\n",
    "costs = list(map(int, input().split()))\n",
    "total = costs[0] * len[0] # 처음은 무조건 가야하므로.\n",
    "min = costs[0] # 최솟값은 초기값으로 세팅\n",
    "dist = 0 # 가야할 거리 계산\n",
    "\n",
    "for i in range(1, n-1):\n",
    "    if costs[i] < min: # 비용이 최솟값보다 작을 때\n",
    "        total += min * dist # 그 전 최솟값과 길이를 곱해줌\n",
    "        dist = len[i] # i번째 길이로 초기화\n",
    "        min = costs[i] # 최솟값으로 교체\n",
    "    else:\n",
    "        dist += len[i] # 최솟값일때, dist에 거리 더해줌\n",
    "    if i == n-2:\n",
    "        total += min * dist # 계속 최솟값일때 거리 곱해주기\n",
    "\n",
    "print(total)"
   ]
  }
 ],
 "metadata": {
  "language_info": {
   "name": "python"
  },
  "orig_nbformat": 4,
  "kernelspec": {
   "name": "python3",
   "language": "python",
   "display_name": "Python 3 (ipykernel)"
  }
 },
 "nbformat": 4,
 "nbformat_minor": 2
}
