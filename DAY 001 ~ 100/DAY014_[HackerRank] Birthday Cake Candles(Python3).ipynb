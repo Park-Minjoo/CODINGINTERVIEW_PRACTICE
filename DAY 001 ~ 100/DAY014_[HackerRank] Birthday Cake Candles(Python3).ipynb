{
 "cells": [
  {
   "attachments": {},
   "cell_type": "markdown",
   "metadata": {},
   "source": [
    "# [HackerRank] Birthday Cake Candles (Python3)"
   ]
  },
  {
   "attachments": {},
   "cell_type": "markdown",
   "metadata": {},
   "source": [
    "## Problem: hackerrank.com/challenges/birthday-cake-candles/problem?isFullScreen=true\n",
    "## Blog: "
   ]
  },
  {
   "attachments": {},
   "cell_type": "markdown",
   "metadata": {},
   "source": [
    "* 안녕하세요. 오랜만에 돌아왔습니다. \n",
    "* 그 동안 물갈이에다 장염이 걸려서 참 오랫동안 누워있었고... (거의 일주일간 ㅠㅠ )\n",
    "* 이제야 정신을 차렸네요. \n",
    "* 오늘은 HackerRank에 있는 문제를 가져왔구요. \n",
    "* 푸는 건 빠르게 풀었는데 이렇게 푸는게 맞나? 싶긴 합니다.. "
   ]
  },
  {
   "cell_type": "code",
   "execution_count": null,
   "metadata": {},
   "outputs": [],
   "source": [
    "#!/bin/python3\n",
    "\n",
    "import math\n",
    "import os\n",
    "import random\n",
    "import re\n",
    "import sys\n",
    "\n",
    "#\n",
    "# Complete the 'birthdayCakeCandles' function below.\n",
    "#\n",
    "# The function is expected to return an INTEGER.\n",
    "# The function accepts INTEGER_ARRAY candles as parameter.\n",
    "#\n",
    "\n",
    "def birthdayCakeCandles(candles):\n",
    "    largest = 0\n",
    "    count = 0\n",
    "    for n in candles:\n",
    "        # print(n) # 3 2 1 3\n",
    "        if n > largest: \n",
    "            largest = n\n",
    "    for n in candles:\n",
    "        if n == largest:\n",
    "            count+=1\n",
    "    return count\n",
    "\n",
    "if __name__ == '__main__':\n",
    "    fptr = open(os.environ['OUTPUT_PATH'], 'w')\n",
    "\n",
    "    candles_count = int(input().strip())\n",
    "\n",
    "    candles = list(map(int, input().rstrip().split()))\n",
    "\n",
    "    result = birthdayCakeCandles(candles)\n",
    "\n",
    "    fptr.write(str(result) + '\\n')\n",
    "\n",
    "    fptr.close()\n"
   ]
  },
  {
   "attachments": {},
   "cell_type": "markdown",
   "metadata": {},
   "source": [
    "* 반복문을 두 번 돌려서\n",
    "1. 제일 큰 값을 찾아낸다\n",
    "2. 그 값과 같은 값의 개수를 센다\n",
    "* 이런 식으로 접근했는데, 훨씬 더 편하게 접근할 수 있는 방식이 있지 않나? 싶긴 합니다.."
   ]
  }
 ],
 "metadata": {
  "language_info": {
   "name": "python"
  },
  "orig_nbformat": 4
 },
 "nbformat": 4,
 "nbformat_minor": 2
}
