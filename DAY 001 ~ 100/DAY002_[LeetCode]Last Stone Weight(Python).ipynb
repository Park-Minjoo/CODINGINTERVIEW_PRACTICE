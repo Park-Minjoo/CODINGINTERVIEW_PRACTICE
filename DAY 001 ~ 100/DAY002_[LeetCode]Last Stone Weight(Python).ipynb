{
 "cells": [
  {
   "cell_type": "markdown",
   "metadata": {},
   "source": [
    "## 2022년 4월 8일 금요일\n",
    "### leetCode - Last Stone Weight\n",
    "### 문제 : https://leetcode.com/problems/last-stone-weight/,
    "### 블로그 : https://mandy5g.tistory.com/3"
   ]
  },
  {
   "cell_type": "code",
   "execution_count": 1,
   "metadata": {},
   "outputs": [],
   "source": [
    "class Solution(object):\n",
    "    def lastStoneWeight(self, stones):\n",
    "        '''\n",
    "        :type stones: List[int]\n",
    "        :rtype: int\n",
    "        '''\n",
    "\n",
    "        max_heap = [-x for x in stomes]\n",
    "        heapq.heapify(maxheap)\n",
    "        for i in xrange(len(stones)-1:\n",
    "            x,y = -heapq.heappop(max_heap), -heapq.heappop(max_heap)\n",
    "            heapq.heappush(max_heap, -abs(x-y))\n",
    "            return -max_heap[0]\n",
   ]
  }
 ],
 "metadata": {
  "kernelspec": {
   "display_name": "Python 3",
   "language": "python",
   "name": "python3"
  },
  "language_info": {
   "codemirror_mode": {
    "name": "ipython",
    "version": 3
   },
   "file_extension": ".py",
   "mimetype": "text/x-python",
   "name": "python",
   "nbconvert_exporter": "python",
   "pygments_lexer": "ipython3",
   "version": "3.7.3"
  }
 },
 "nbformat": 4,
 "nbformat_minor": 2
}
