class Solution:
    def romanToInt(self, s: str) -> int:
        romans = {'I':1, 'V':5, 'X':10, 'L':50, 'C':100, 'D':500, 'M':1000}
        ctr = 'I'
        num = 0
        
        for i in s[::-1]:
            if romans[i] < romans[ctr]:
                num = num - romans[i]
            else: 
                num = num + romans[i]
            ctr = i
        return num
