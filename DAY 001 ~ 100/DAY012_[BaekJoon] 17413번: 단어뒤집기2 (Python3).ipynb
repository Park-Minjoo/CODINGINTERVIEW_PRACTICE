{
 "cells": [
  {
   "attachments": {},
   "cell_type": "markdown",
   "metadata": {},
   "source": [
    "# [BaekJoon] 17413번: 단어뒤집기2 (Python)"
   ]
  },
  {
   "attachments": {},
   "cell_type": "markdown",
   "metadata": {},
   "source": [
    "## Problem: https://www.acmicpc.net/problem/17413\n",
    "## Blog: "
   ]
  },
  {
   "attachments": {},
   "cell_type": "markdown",
   "metadata": {},
   "source": [
    "### 문제 설명\n",
    "\n",
    "* 문자열 S가 주어졌을 때, 이 문자열에서 단어만 뒤집으려고 한다.\n",
    "\n",
    "* 먼저, 문자열 S는 아래와과 같은 규칙을 지킨다.\n",
    "\n",
    "1. 알파벳 소문자('a'-'z'), 숫자('0'-'9'), 공백(' '), 특수 문자('<', '>')로만 이루어져 있다.\n",
    "2. 문자열의 시작과 끝은 공백이 아니다.\n",
    "3. '<'와 '>'가 문자열에 있는 경우 번갈아가면서 등장하며, '<'이 먼저 등장한다. 또, 두 문자의 개수는 같다.\n",
    "\n",
    "    * 태그는 '<'로 시작해서 '>'로 끝나는 길이가 3 이상인 부분 문자열이고, '<'와 '>' 사이에는 알파벳 소문자와 공백만 있다. 단어는 알파벳 소문자와 숫자로 이루어진 부분 문자열이고, 연속하는 두 단어는 공백 하나로 구분한다. 태그는 단어가 아니며, 태그와 단어 사이에는 공백이 없다."
   ]
  },
  {
   "attachments": {},
   "cell_type": "markdown",
   "metadata": {},
   "source": [
    "일단, reverse를 사용해야 하는 것은 알겠는데.. 아직까지 파이썬으로 리스트를 만든다거나 배열을 사용하는 부분에 있어서 감이 잘 안온다. 따라하는 것에만 치우쳐져 있었던 것 같다. "
   ]
  },
  {
   "attachments": {},
   "cell_type": "markdown",
   "metadata": {},
   "source": [
    "밑의 코드는 다른 분들이 풀어놓으신 솔루션을 참고해서 작성했다. "
   ]
  },
  {
   "cell_type": "code",
   "execution_count": null,
   "metadata": {},
   "outputs": [],
   "source": [
    "# Solution 1\n",
    "\n",
    "import sys\n",
    "\n",
    "s = list(map(str, sys.stdin.readline().strip()))\n",
    "\n",
    "res = \"\"\n",
    "word = \"\"\n",
    "reverse = True\n",
    "\n",
    "for i in s:\n",
    "\n",
    "    if i == '<':\n",
    "        reverse = False\n",
    "        res += word\n",
    "        word = i\n",
    "\n",
    "    elif i == '>':\n",
    "        reverse = True\n",
    "        res += (word + '>')\n",
    "        word = \"\"\n",
    "\n",
    "    elif i == ' ':\n",
    "        res += word + i\n",
    "        word = \"\"\n",
    "\n",
    "    elif reverse:\n",
    "        word = i + word\n",
    "\n",
    "    else:\n",
    "        word += i\n",
    "\n",
    "res += word\n",
    "print(res)"
   ]
  },
  {
   "attachments": {},
   "cell_type": "markdown",
   "metadata": {},
   "source": [
    "> 우선 먼저 첫번째 부분을 살펴보자"
   ]
  },
  {
   "cell_type": "code",
   "execution_count": null,
   "metadata": {},
   "outputs": [],
   "source": [
    "import sys\n",
    "\n",
    "s = list(map(str, sys.stdin.readline().strip()))"
   ]
  },
  {
   "attachments": {},
   "cell_type": "markdown",
   "metadata": {},
   "source": [
    "> 여기서 s는 입력값들을 readline()으로 읽어서 map안에 하나씩 담기게 된다. \n",
    "\n",
    "> 공백도 동일하게 담긴다. "
   ]
  },
  {
   "cell_type": "code",
   "execution_count": null,
   "metadata": {},
   "outputs": [],
   "source": [
    "for i in s:\n",
    "\n",
    "    if i == '<':            # 괄호 < 를 만나면\n",
    "        reverse = False     # reverse 하지 않음\n",
    "        res += word         # res에 word를 추가\n",
    "        word = i            # word는 < 가 됨\n",
    "\n",
    "    elif i == '>':          # 괄호 > 를 만나면\n",
    "        reverse = True      # reverse는 true 상태가 됨\n",
    "        res += (word + '>') # res에는 word와 >이 들어감\n",
    "        word = \"\"           # word는 다시 공백\n",
    "\n",
    "    elif i == ' ':          # 띄어쓰기를 만나면\n",
    "        res += word + i     # res는 word와 띄어쓰기를 더한 값\n",
    "        word = \"\"           # word는 공백\n",
    "\n",
    "    elif reverse:           # reverse일 때 \n",
    "        word = i + word     # word는 reverse를 한 값\n",
    "\n",
    "    else:                   # 그 외의 경우 (문자나 숫자)\n",
    "        word += i           # word에 현재 값를 추가함"
   ]
  },
  {
   "attachments": {},
   "cell_type": "markdown",
   "metadata": {},
   "source": [
    "> 이런 식으로 적용해 볼 수 있는데, 직관적으로 이해한 바와 조금 다르다. \n",
    "\n",
    "> 나도 혼자서는 생각 못하고 계속 풀어봐야 감이 올 것 같다. "
   ]
  }
 ],
 "metadata": {
  "kernelspec": {
   "display_name": "Python 3",
   "language": "python",
   "name": "python3"
  },
  "language_info": {
   "codemirror_mode": {
    "name": "ipython",
    "version": 3
   },
   "file_extension": ".py",
   "mimetype": "text/x-python",
   "name": "python",
   "nbconvert_exporter": "python",
   "pygments_lexer": "ipython3",
   "version": "3.10.6"
  },
  "orig_nbformat": 4,
  "vscode": {
   "interpreter": {
    "hash": "aee8b7b246df8f9039afb4144a1f6fd8d2ca17a180786b69acc140d282b71a49"
   }
  }
 },
 "nbformat": 4,
 "nbformat_minor": 2
}
