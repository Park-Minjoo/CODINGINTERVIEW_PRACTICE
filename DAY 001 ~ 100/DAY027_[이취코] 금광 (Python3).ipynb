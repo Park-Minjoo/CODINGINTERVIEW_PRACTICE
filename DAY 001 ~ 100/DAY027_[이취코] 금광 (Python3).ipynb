{
 "cells": [
  {
   "attachments": {},
   "cell_type": "markdown",
   "metadata": {},
   "source": [
    "# [이취코] 금광 (Python3)"
   ]
  },
  {
   "attachments": {},
   "cell_type": "markdown",
   "metadata": {},
   "source": [
    "## Problem: 다이나믹 프로그래밍 (Dynamic Programming)\n",
    "## Blog: "
   ]
  },
  {
   "cell_type": "markdown",
   "source": [
    "### 처음에 짠 코드"
   ],
   "metadata": {
    "collapsed": false
   }
  },
  {
   "cell_type": "code",
   "outputs": [],
   "source": [
    "t = int(input())\n",
    "# n, m = []\n",
    "d = [0] * 10000\n",
    "for i in range(t):\n",
    "    n, m = map(int, input().split())\n",
    "    case = [list(map(int, input().split())) for _ in range(m)]\n",
    "    print(n, m)\n",
    "\n",
    "    d[i][0] = max(case[i])"
   ],
   "metadata": {
    "collapsed": false
   }
  },
  {
   "cell_type": "markdown",
   "source": [],
   "metadata": {
    "collapsed": false
   }
  },
  {
   "cell_type": "markdown",
   "source": [
    "### DP를 적용한 코드"
   ],
   "metadata": {
    "collapsed": false
   }
  },
  {
   "cell_type": "code",
   "execution_count": null,
   "metadata": {},
   "outputs": [],
   "source": [
    "for tc in range(int(input())):\n",
    "    n, m = map(int, input().split())\n",
    "    array = list(map(int, input().split()))\n",
    "    dp = []\n",
    "    index = 0\n",
    "\n",
    "    for i in range(n):\n",
    "        dp.append(array[index:index + m])\n",
    "        index += m\n",
    "    # print(dp)\n",
    "    for j in range(1, m):\n",
    "        for i in range(n):\n",
    "            if i == 0: left_up = 0\n",
    "            else: left_up = dp[i-1][j-1]\n",
    "            if i == n-1: left_down = 0\n",
    "            else: left_down = dp[i+1][j-1]\n",
    "            left = dp[i][j-1]\n",
    "            dp[i][j] = dp[i][j] + max(left_up, left_down, left)\n",
    "    result = 0\n",
    "    for i in range(n):\n",
    "        result = max(result, dp[i][m-1])\n",
    "    print(result)\n",
    "\n",
    "\n",
    "'''\n",
    "2\n",
    "3 4\n",
    "1 3 3 2 2 1 4 1 0 6 4 7\n",
    "4 4\n",
    "1 3 1 5 2 2 4 1 5 0 2 3 0 6 1 2\n",
    "'''"
   ]
  },
  {
   "cell_type": "markdown",
   "source": [],
   "metadata": {
    "collapsed": false
   }
  }
 ],
 "metadata": {
  "language_info": {
   "name": "python"
  },
  "orig_nbformat": 4,
  "kernelspec": {
   "name": "python3",
   "language": "python",
   "display_name": "Python 3 (ipykernel)"
  }
 },
 "nbformat": 4,
 "nbformat_minor": 2
}
