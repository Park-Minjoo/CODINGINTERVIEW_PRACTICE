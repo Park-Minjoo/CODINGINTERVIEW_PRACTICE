{
 "cells": [
  {
   "cell_type": "markdown",
   "metadata": {},
   "source": [
    "## 2022년 6월 15일 요일\n",
    "### 프로그래머스 완전탐색 : 모의고사\n",
    "### 문제 : https://programmers.co.kr/learn/courses/30/lessons/42840\n",
    "### 블로그 : https://mandy5g.tistory.com/20"
   ]
  },
  {
   "cell_type": "code",
   "execution_count": 35,
   "metadata": {},
   "outputs": [],
   "source": [
    "def solution(answers):\n",
    "    answer = []\n",
    "    \n",
    "    tester_1 = [1, 2, 3, 4, 5]\n",
    "    tester_2 = [2, 1, 2, 3, 2, 4, 2, 5]\n",
    "    tester_3 = [3, 3, 1, 1, 2, 2, 4, 4, 5, 5]    \n",
    "    \n",
    "    len_tester_1 = len(tester_1)\n",
    "    len_tester_2 = len(tester_2)\n",
    "    len_tester_3 = len(tester_3)\n",
    "    \n",
    "    check_1 = 0\n",
    "    check_2 = 0\n",
    "    check_3 = 0\n",
    "    \n",
    "    \n",
    "    for i in range(len(answers)):\n",
    "        if tester_1[i%len_tester_1] == answers[i]:\n",
    "            check_1 = check_1 + 1\n",
    "            \n",
    "            \n",
    "        if tester_2[i%len_tester_2] == answers[i]:\n",
    "            check_2 = check_2 + 1\n",
    "            \n",
    "            \n",
    "        if tester_3[i%len_tester_3] == answers[i]:\n",
    "            check_3 = check_3 + 1\n",
    "            \n",
    "            \n",
    "    max_right = max(check_1, check_2, check_3)\n",
    "        \n",
    "    if max_right == check_1:\n",
    "        answer.append(1)\n",
    "    if max_right == check_2:\n",
    "        answer.append(2)\n",
    "    if max_right == check_3:\n",
    "        answer.append(3)\n",
    "    \n",
    "    answer = sorted(answer)\n",
    "    \n",
    "    return answer"
   ]
  },
  {
   "cell_type": "code",
   "execution_count": 36,
   "metadata": {},
   "outputs": [
    {
     "data": {
      "text/plain": [
       "[2]"
      ]
     },
     "execution_count": 36,
     "metadata": {},
     "output_type": "execute_result"
    }
   ],
   "source": [
    "solution([1, 3, 2, 1, 2, 4, 5, 2, 3, 1, 4, 4,2, 1, 1, 3,2, 1, 1, 4])"
   ]
  }
 ],
 "metadata": {
  "kernelspec": {
   "display_name": "Python 3",
   "language": "python",
   "name": "python3"
  },
  "language_info": {
   "codemirror_mode": {
    "name": "ipython",
    "version": 3
   },
   "file_extension": ".py",
   "mimetype": "text/x-python",
   "name": "python",
   "nbconvert_exporter": "python",
   "pygments_lexer": "ipython3",
   "version": "3.7.3"
  }
 },
 "nbformat": 4,
 "nbformat_minor": 2
}
