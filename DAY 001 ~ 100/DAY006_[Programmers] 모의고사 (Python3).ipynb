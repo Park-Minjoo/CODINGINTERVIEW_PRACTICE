{
 "cells": [
  {
   "cell_type": "code",
   "execution_count": null,
   "id": "10ca46d2",
   "metadata": {},
   "outputs": [],
   "source": [
    "1 Day 1 Commit 챌린지\n",
    "\n",
    "그 동안 시험 공부한다는 핑계로 미뤄놨던 챌린지를 다시 이어가보도록 한다. "
   ]
  },
  {
   "cell_type": "code",
   "execution_count": null,
   "id": "ceb75211",
   "metadata": {
    "lines_to_next_cell": 2
   },
   "outputs": [],
   "source": [
    "def solution(answers):\n",
    "    answer = []\n",
    "    \n",
    "    tester_1 = [1,2,3,4,5]\n",
    "    tester_2 = [2,1,2,3,2,4,2,5]\n",
    "    tester_3 = [3,3,1,1,2,2,4,4,5,5]\n",
    "    \n",
    "    len_tester_1 = len(tester_1)\n",
    "    len_tester_2 = len(tester_2)\n",
    "    len_tester_3 = len(tester_3)\n",
    "    \n",
    "    check_1 = 0\n",
    "    check_2 = 0\n",
    "    check_3 = 0\n",
    "    \n",
    "    for i in range(len(answers)):\n",
    "        if tester_1[i%len_tester_1] == answers[i]:\n",
    "            check_1 = check_1 + 1\n",
    "        if tester_2[i%len_tester_2] == answers[i]:\n",
    "            check_2 = check_2 + 1\n",
    "        if tester_3[i%len_tester_3] == answers[i]:\n",
    "            check_3 = check_3 + 1\n",
    "            \n",
    "    max_right = max(check_1, check_2, check_3)\n",
    "    \n",
    "    if max_right == check_1: \n",
    "        answer.append(1)\n",
    "    if max_right == check_2: \n",
    "        answer.append(2)\n",
    "    if max_right == check_3: \n",
    "        answer.append(3)\n",
    "        \n",
    "    answer = sorted(answer)\n",
    "\n",
    "            \n",
    "    return answer"
   ]
  },
  {
   "cell_type": "code",
   "execution_count": null,
   "id": "c56cb98a",
   "metadata": {},
   "outputs": [],
   "source": [
    "\n",
    "막상 풀고 나면 이해하기는 어렵지 않은 코드. \n",
    "\n",
    "하지만 반복하여 답을 맞춰나가는 과정이 어려운 부분이었다. "
   ]
  }
 ],
 "metadata": {
  "jupytext": {
   "formats": "py:light",
   "text_representation": {
    "extension": ".py",
    "format_name": "light",
    "format_version": "1.5",
    "jupytext_version": "1.13.8"
   }
  },
  "kernelspec": {
   "display_name": "Python 3 (ipykernel)",
   "language": "python",
   "name": "python3"
  }
 },
 "nbformat": 4,
 "nbformat_minor": 5
}
