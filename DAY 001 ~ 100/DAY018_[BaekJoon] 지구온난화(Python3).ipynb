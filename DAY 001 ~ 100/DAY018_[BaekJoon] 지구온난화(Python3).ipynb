{
 "cells": [
  {
   "attachments": {},
   "cell_type": "markdown",
   "metadata": {},
   "source": [
    "# [BaekJoon] 지구온난화 (Python3)"
   ]
  },
  {
   "attachments": {},
   "cell_type": "markdown",
   "metadata": {},
   "source": [
    "## Problem: 지구온난화 - 실버2 https://www.acmicpc.net/problem/5212\n",
    "## Blog: https://mandy5g.tistory.com/84"
   ]
  },
  {
   "attachments": {},
   "cell_type": "markdown",
   "metadata": {},
   "source": [
    "* 코딩테스트 스터디를 시작하고 백준 문제를 풀어보고 있는 중\n",
    "* 다른 건 어찌어찌 해결했는데, 마지막에 출력할 때 y축이 너~무 어려웠다. \n",
    "* 방향벡터도 손에 좀 익긴 해야 할 듯..."
   ]
  },
  {
   "cell_type": "code",
   "execution_count": null,
   "metadata": {},
   "outputs": [],
   "source": [
    "row, col = map(int, input().split())\n",
    "arr = [list(input()) for _ in range(row)] # input\n",
    "new = [] # new array\n",
    "\n",
    "# 방항 벡터\n",
    "dx = [-1, 1, 0, 0]\n",
    "dy = [0, 0, -1, 1]\n",
    "\n",
    "for i in range(row):\n",
    "    for j in range(col):\n",
    "        if arr[i][j] == 'X': # 땅이면 인접한 세 칸이상이 바다인지 확인\n",
    "            count = 0 # 카운트는 X를 만날 때마다 초기화 되어야 함\n",
    "            for k in range(4): # 4개 다 확인하기\n",
    "                nx = i + dx[k]\n",
    "                ny = j + dy[k]\n",
    "                if 0 <= nx < row and 0 <= ny < col:\n",
    "                    if arr[nx][ny] == '.':\n",
    "                        count += 1\n",
    "                else:\n",
    "                    count += 1 # 범위를 벗어날 때\n",
    "                    continue\n",
    "            if count >= 3:\n",
    "                new.append((i, j))\n",
    "\n",
    "# . 으로 바꾸기\n",
    "if len(new) > 0:\n",
    "    for x, y in new:\n",
    "        arr[x][y] = '.'\n",
    "\n",
    "x1 = 0\n",
    "y1 = col - 1\n",
    "x2 = 0\n",
    "y2 = 0\n",
    "\n",
    "# 지도 범위 구하기\n",
    "\n",
    "# x의 시작값\n",
    "for i in range(row):\n",
    "    if 'X' in arr[i]:\n",
    "        x1 = i\n",
    "        break\n",
    "\n",
    "# x의 마지막 값\n",
    "for i in range(row-1, -1, -1):\n",
    "    if 'X' in arr[i]:\n",
    "        x2 = i\n",
    "        break\n",
    "\n",
    "# y값 ----> ***이게 너무 어려움\n",
    "for i in range(x1, x2 + 1): # 1 -> .X.\n",
    "    for j in range(col): # 3\n",
    "        if arr[i][j] == 'X': # arr[2][1]\n",
    "            y1 = min(y1, j) # min(2, 1) = 1\n",
    "            y2 = max(y2, j) # max(0, 1) = 1\n",
    "\n",
    "# 정답 출력하기\n",
    "for i in range(x1, x2+1):\n",
    "    for j in range(y1, y2+1):\n",
    "        print(arr[i][j], end='')\n",
    "    print()"
   ]
  }
 ],
 "metadata": {
  "language_info": {
   "name": "python"
  },
  "orig_nbformat": 4,
  "kernelspec": {
   "name": "python3",
   "language": "python",
   "display_name": "Python 3 (ipykernel)"
  }
 },
 "nbformat": 4,
 "nbformat_minor": 2
}
