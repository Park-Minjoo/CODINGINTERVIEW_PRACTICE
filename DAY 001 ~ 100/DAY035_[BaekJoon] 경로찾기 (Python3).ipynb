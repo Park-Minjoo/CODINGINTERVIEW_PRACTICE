{
 "cells": [
  {
   "attachments": {},
   "cell_type": "markdown",
   "metadata": {},
   "source": [
    "# [BaekJoon] 경로찾기 (Python3) - Silver I"
   ]
  },
  {
   "attachments": {},
   "cell_type": "markdown",
   "metadata": {},
   "source": [
    "## Problem: https://www.acmicpc.net/problem/11403\n",
    "## Blog: "
   ]
  },
  {
   "cell_type": "markdown",
   "source": [
    "### 성능 요약\n",
    "\n",
    "메모리: 31120 KB, 시간: 212 ms\n",
    "\n",
    "### 분류\n",
    "\n",
    "플로이드–워셜, 그래프 이론, 그래프 탐색, 최단 경로\n",
    "\n",
    "### 제출 일자\n",
    "\n",
    "2024년 3월 6일 14:37:30\n",
    "\n",
    "### 문제 설명\n",
    "\n",
    "<p>가중치 없는 방향 그래프 G가 주어졌을 때, 모든 정점 (i, j)에 대해서, i에서 j로 가는 길이가 양수인 경로가 있는지 없는지 구하는 프로그램을 작성하시오.</p>\n",
    "\n",
    "### 입력 \n",
    "\n",
    " <p>첫째 줄에 정점의 개수 N (1 ≤ N ≤ 100)이 주어진다. 둘째 줄부터 N개 줄에는 그래프의 인접 행렬이 주어진다. i번째 줄의 j번째 숫자가 1인 경우에는 i에서 j로 가는 간선이 존재한다는 뜻이고, 0인 경우는 없다는 뜻이다. i번째 줄의 i번째 숫자는 항상 0이다.</p>\n",
    "\n",
    "### 출력 \n",
    "\n",
    " <p>총 N개의 줄에 걸쳐서 문제의 정답을 인접행렬 형식으로 출력한다. 정점 i에서 j로 가는 길이가 양수인 경로가 있으면 i번째 줄의 j번째 숫자를 1로, 없으면 0으로 출력해야 한다.</p>\n",
    "\n"
   ],
   "metadata": {
    "collapsed": false
   }
  },
  {
   "cell_type": "code",
   "execution_count": null,
   "metadata": {},
   "outputs": [],
   "source": [
    "n = int(input())\n",
    "graph = [list(map(int, input().split())) for _ in range(n)]\n",
    "\n",
    "for i in range(n):\n",
    "    for j in range(n):\n",
    "        for k in range(n):\n",
    "            # print(\"(\", j, i, \"), (\", i, k, \")\")\n",
    "            # print(graph[j][i], graph[i][k])\n",
    "            if graph[j][i] and graph[i][k]:\n",
    "                # print(\"check, (\", j, k, \")\")\n",
    "                graph[j][k] = 1\n",
    "\n",
    "\n",
    "for g in graph:\n",
    "    print(*g)"
   ]
  },
  {
   "cell_type": "markdown",
   "source": [],
   "metadata": {
    "collapsed": false
   }
  },
  {
   "cell_type": "markdown",
   "source": [
    "### BFS"
   ],
   "metadata": {
    "collapsed": false
   }
  },
  {
   "cell_type": "code",
   "outputs": [],
   "source": [
    "from collections import deque\n",
    "n = int(input())\n",
    "graph = [list(map(int, input().split())) for _ in range(n)]\n",
    "visited = [[0] * n for _ in range(n)]\n",
    "\n",
    "def bfs(x):\n",
    "    queue = deque()\n",
    "    queue.append(x)\n",
    "    check = [0 for _ in range(n)]\n",
    "\n",
    "    while queue:\n",
    "        q = queue.popleft()\n",
    "\n",
    "    for i in range(n):\n",
    "        if check[i] == 0 and graph[q][i] == 0:\n",
    "            q.append(i)\n",
    "            check[i] = 1\n",
    "            visited[x][i] = 1\n",
    "\n",
    "for i in range(0, n):\n",
    "    bfs(i)\n",
    "\n",
    "for i in visited:\n",
    "    print(*i)"
   ],
   "metadata": {
    "collapsed": false
   }
  },
  {
   "cell_type": "markdown",
   "source": [
    "### DFS"
   ],
   "metadata": {
    "collapsed": false
   }
  },
  {
   "cell_type": "code",
   "outputs": [],
   "source": [
    "n = int(input())\n",
    "graph = [list(map(int, input().split())) for _ in range(n)]\n",
    "visited = [[0] * n for _ in range(n)]\n",
    "\n",
    "def dfs(x):\n",
    "    for i in range(n):\n",
    "        if graph[x][i] == 1 and visited[i] == 0:\n",
    "            visited[i] = 1\n",
    "            dfs(i)\n",
    "\n",
    "visited = [0 for _ in range(n)]\n",
    "\n",
    "for i in range(n):\n",
    "    dfs(i)\n",
    "    for j in range(n):\n",
    "        if visited[j] == 1:\n",
    "            print(1, end=' ')\n",
    "        else:\n",
    "            print(0, end=' ')\n",
    "    print()\n",
    "    visited = [0 for _ in range(n)]"
   ],
   "metadata": {
    "collapsed": false
   }
  }
 ],
 "metadata": {
  "language_info": {
   "name": "python"
  },
  "orig_nbformat": 4,
  "kernelspec": {
   "name": "python3",
   "language": "python",
   "display_name": "Python 3 (ipykernel)"
  }
 },
 "nbformat": 4,
 "nbformat_minor": 2
}
