{
 "cells": [
  {
   "cell_type": "markdown",
   "source": [
    "# [이취코] 떡볶이 떡 만들기 (Python3)"
   ],
   "metadata": {
    "collapsed": false
   }
  },
  {
   "attachments": {},
   "cell_type": "markdown",
   "metadata": {},
   "source": [
    "## Blog: https://mandy5g.tistory.com/89"
   ]
  },
  {
   "cell_type": "markdown",
   "source": [
    "### 처음에 짠 코드"
   ],
   "metadata": {
    "collapsed": false
   }
  },
  {
   "cell_type": "code",
   "outputs": [],
   "source": [
    "import sys\n",
    "n, m = map(int, sys.stdin.readline().split())\n",
    "arr = list(map(int, sys.stdin.readline().split()))\n",
    "\n",
    "sorted_arr = sorted(arr)\n",
    "end = sorted_arr[n-1] # 19\n",
    "start = sorted_arr[0]\n",
    "\n",
    "\n",
    "for i in range(end - 1, start, -1):\n",
    "    count = 0\n",
    "    for j in range(len(sorted_arr)):\n",
    "        if sorted_arr[j] - i >= 0:\n",
    "            count += sorted_arr[j] - i\n",
    "    if count == m:\n",
    "        break\n",
    "print(i)"
   ],
   "metadata": {
    "collapsed": false
   }
  },
  {
   "cell_type": "markdown",
   "source": [],
   "metadata": {
    "collapsed": false
   }
  },
  {
   "cell_type": "markdown",
   "source": [
    "### BS를 적용한 코드"
   ],
   "metadata": {
    "collapsed": false
   }
  },
  {
   "cell_type": "code",
   "execution_count": null,
   "metadata": {},
   "outputs": [],
   "source": [
    "n, m = list(map(int, input().split(' ')))\n",
    "arr = list(map(int, input().split()))\n",
    "\n",
    "end = max(arr) # 19\n",
    "start = 0 # 10\n",
    "\n",
    "\n",
    "result = 0\n",
    "while start <= end:\n",
    "    count = 0\n",
    "    mid = (end + start) // 2\n",
    "\n",
    "    for i in arr:\n",
    "        if i > mid:\n",
    "            count += i - mid\n",
    "    if count < m:\n",
    "        end = mid - 1\n",
    "    else:\n",
    "        result = mid\n",
    "        start = mid + 1\n",
    "\n",
    "print(result)"
   ]
  },
  {
   "cell_type": "markdown",
   "source": [],
   "metadata": {
    "collapsed": false
   }
  }
 ],
 "metadata": {
  "language_info": {
   "name": "python"
  },
  "orig_nbformat": 4,
  "kernelspec": {
   "name": "python3",
   "language": "python",
   "display_name": "Python 3 (ipykernel)"
  }
 },
 "nbformat": 4,
 "nbformat_minor": 2
}
