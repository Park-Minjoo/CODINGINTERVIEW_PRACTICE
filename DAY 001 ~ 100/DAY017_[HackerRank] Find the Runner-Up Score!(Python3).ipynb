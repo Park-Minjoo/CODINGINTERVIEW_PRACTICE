{
 "cells": [
  {
   "attachments": {},
   "cell_type": "markdown",
   "metadata": {},
   "source": [
    "# [HackerRank] Find the Runner-Up Score! (Python3)"
   ]
  },
  {
   "attachments": {},
   "cell_type": "markdown",
   "metadata": {},
   "source": [
    "## Problem: https://www.hackerrank.com/challenges/find-second-maximum-number-in-a-list/problem?isFullScreen=true\n",
    "## Blog: "
   ]
  },
  {
   "attachments": {},
   "cell_type": "markdown",
   "metadata": {},
   "source": [
    "* 안녕하세요. 오랜만입니다. \n",
    "* 오랜만이라는 얘기를 몇 번째 하는 건지.. \n",
    "* 방학 때라도 코딩 공부를 열심히 했었어야 하는데 ㅠ\n",
    "* 토플이니, 수업 준비니, 대학 행정 잡무 등등.. 많이 바쁘긴했습니다 (변명 아닌 변명.. 꾸벅)\n",
    "* 사실 오늘도 이걸 하려고 들어온 건  아니긴 한데, 학생들 코딩 문제 좀  내볼까~? 하다가 제가 먼저 풀고 있네욤ㅋㅋ\n",
    "* 오늘 문제는 쉬운데, 오랜만에 하려니 python map() 이 기억이 안나 애를 좀 먹었습니다 .. ㅎㅎㅎ"
   ]
  },
  {
   "cell_type": "code",
   "execution_count": null,
   "metadata": {},
   "outputs": [],
   "source": [
    "if __name__ == '__main__':\n",
    "    n = int(input())\n",
    "    arr = map(int, input().split())\n",
    "    alist = list(arr)\n",
    "    alist.sort()\n",
    "    print(alist[2])"
   ]
  },
  {
   "attachments": {},
   "cell_type": "markdown",
   "metadata": {},
   "source": [
    "* 막상 풀고보니 엄청 엄청 간단했던 문제..\n",
    "* 얘들아, 너네두 할 수 있어"
   ]
  }
 ],
 "metadata": {
  "language_info": {
   "name": "python"
  },
  "orig_nbformat": 4
 },
 "nbformat": 4,
 "nbformat_minor": 2
}
