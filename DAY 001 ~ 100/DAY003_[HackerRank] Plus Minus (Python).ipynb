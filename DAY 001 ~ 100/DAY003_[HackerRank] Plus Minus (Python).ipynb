{
 "cells": [
  {
   "cell_type": "markdown",
   "metadata": {},
   "source": [
    "## 2022년 4월 9일 토요일\n",
    "### HackerRank - Plus Minus\n",
    "### 문제 : https://www.hackerrank.com/challenges/plus-minus/problem\n",
    "### 블로그 : https://mandy5g.tistory.com/4"
   ]
  },
  {
   "cell_type": "markdown",
   "metadata": {},
   "source": [
    "### 세 번째 시도"
   ]
  },
  {
   "cell_type": "code",
   "execution_count": 3,
   "metadata": {},
   "outputs": [],
   "source": [
    "#!/bin/python3\n",
    "\n",
    "import math\n",
    "import os\n",
    "import random\n",
    "import re\n",
    "import sys\n",
    "\n",
    "# Complete the plusMinus function below.\n",
    "def plusMinus(arr):\n",
    "    plus = 0\n",
    "    minus = 0\n",
    "    zero = 0\n",
    "    for i in range(len(arr)):\n",
    "        if arr[i] > 0: plus += 1\n",
    "        if arr[i] == 0: zero += 1\n",
    "        if arr[i] < 0: minus += 1\n",
    "\n",
    "    len_arr = len(arr)\n",
    "    minus_fraction = float(minus)/float(len_arr)\n",
    "    plus_fraction = float(plus) / float(len_arr)\n",
    "    zero_fraction = float(zero) / float(len_arr)\n",
    "    print(<q>{:.5f}<q>.format(plus_fraction))\n",
    "    print('{:.5f}'.format(minus_fraction))\n",
    "    print('{:.5f}'.format(minus_fraction))\n"
   ]
  }
 ],
 "metadata": {
  "kernelspec": {
   "display_name": "Python 3",
   "language": "python",
   "name": "python3"
  },
  "language_info": {
   "codemirror_mode": {
    "name": "ipython",
    "version": 3
   },
   "file_extension": ".py",
   "mimetype": "text/x-python",
   "name": "python",
   "nbconvert_exporter": "python",
   "pygments_lexer": "ipython3",
   "version": "3.7.3"
  }
 },
 "nbformat": 4,
 "nbformat_minor": 2
}
