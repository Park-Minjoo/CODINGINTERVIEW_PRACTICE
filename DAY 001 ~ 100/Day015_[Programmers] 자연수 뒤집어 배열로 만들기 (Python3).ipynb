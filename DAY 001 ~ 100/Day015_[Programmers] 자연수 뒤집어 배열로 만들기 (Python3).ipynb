{
 "cells": [
  {
   "attachments": {},
   "cell_type": "markdown",
   "metadata": {},
   "source": [
    "# [Programmers] 자연수 뒤집어 배열로 만들기"
   ]
  },
  {
   "attachments": {},
   "cell_type": "markdown",
   "metadata": {},
   "source": [
    "## Problem: https://school.programmers.co.kr/learn/courses/30/lessons/12932?language=python3\n",
    "## Blog: "
   ]
  },
  {
   "attachments": {},
   "cell_type": "markdown",
   "metadata": {},
   "source": [
    "* 오늘은 오랜만에 프로그래머스!\n",
    "* 프로그래머스 문제는 좋은데 다양한 언어를 지원 가능하다. \n",
    "* (아까보니까 swift도 있더라니 ..~~)"
   ]
  },
  {
   "attachments": {},
   "cell_type": "markdown",
   "metadata": {},
   "source": [
    "------\n",
    "* 오늘 간단한 문제이다. \n",
    "* 정수로 입력받은 숫자를 리스트로 바꾸면 되는 간단한 문제. \n",
    "* 어려운 문제를 풀까 하다가 이렇게 간단한 문제들을 탄탄히 다져야 나중에 뒤로 갔을 때 편할 것 같아서, 시간이 오래걸려도 조금씩 나아가고 있다. \n",
    "* 그래도 다음에는 어려운 문제도 도전해봐야지!"
   ]
  },
  {
   "cell_type": "code",
   "execution_count": null,
   "metadata": {},
   "outputs": [],
   "source": [
    "def solution(n):\n",
    "    answer = []\n",
    "    answer = list(map(int, str(n)))\n",
    "    answer.reverse()\n",
    "    return answer"
   ]
  },
  {
   "attachments": {},
   "cell_type": "markdown",
   "metadata": {},
   "source": [
    "* 이것은 내 풀이이고 밑에는 다른 분들이 올려놓으신 풀이이다. \n",
    "* 단순히 뒤집어야 한다고 해서 map, list를 사용하고 reverse()를 사용하였는데, map안에 reversed라는 것도 있더라~ 참고!"
   ]
  },
  {
   "cell_type": "code",
   "execution_count": null,
   "metadata": {},
   "outputs": [],
   "source": [
    "def digit_reverse(n):\n",
    "    return list(map(int, reversed(str(n))))"
   ]
  }
 ],
 "metadata": {
  "kernelspec": {
   "display_name": "Python 3",
   "language": "python",
   "name": "python3"
  },
  "language_info": {
   "name": "python",
   "version": "3.10.6"
  },
  "orig_nbformat": 4,
  "vscode": {
   "interpreter": {
    "hash": "aee8b7b246df8f9039afb4144a1f6fd8d2ca17a180786b69acc140d282b71a49"
   }
  }
 },
 "nbformat": 4,
 "nbformat_minor": 2
}
