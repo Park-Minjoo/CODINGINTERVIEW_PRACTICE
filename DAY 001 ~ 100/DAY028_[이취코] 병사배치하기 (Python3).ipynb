{
 "cells": [
  {
   "attachments": {},
   "cell_type": "markdown",
   "metadata": {},
   "source": [
    "# [이취코] 병사 배치하기 (Python3)"
   ]
  },
  {
   "attachments": {},
   "cell_type": "markdown",
   "metadata": {},
   "source": [
    "## Problem: 다이나믹 프로그래밍 (Dynamic Programming)\n",
    "## Blog: https://mandy5g.tistory.com/94"
   ]
  },
  {
   "cell_type": "markdown",
   "source": [
    "### DP를 적용한 코드"
   ],
   "metadata": {
    "collapsed": false
   }
  },
  {
   "cell_type": "code",
   "execution_count": null,
   "metadata": {},
   "outputs": [],
   "source": [
    "n = int(input())\n",
    "arr = list(map(int, input().split()))\n",
    "arr.reverse()\n",
    "d = [1] * n\n",
    "\n",
    "for i in range(1, n):\n",
    "    for j in range(0, i):\n",
    "        if arr[j] < arr[i]:\n",
    "            d[i] = max(d[i], d[j] + 1)\n",
    "# print(d)\n",
    "print(n - max(d))\n",
    "\n",
    "'''\n",
    "7\n",
    "15 11 4 8 5 2 4\n",
    "\n",
    "reverse()\n",
    "4 2 5 8 4 11 15\n",
    "'''"
   ]
  },
  {
   "cell_type": "markdown",
   "source": [],
   "metadata": {
    "collapsed": false
   }
  }
 ],
 "metadata": {
  "language_info": {
   "name": "python"
  },
  "orig_nbformat": 4,
  "kernelspec": {
   "name": "python3",
   "language": "python",
   "display_name": "Python 3 (ipykernel)"
  }
 },
 "nbformat": 4,
 "nbformat_minor": 2
}
