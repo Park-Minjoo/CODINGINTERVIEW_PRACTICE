{
 "cells": [
  {
   "attachments": {},
   "cell_type": "markdown",
   "metadata": {},
   "source": [
    "# [BaekJoon] 달팽이 (Python3)"
   ]
  },
  {
   "attachments": {},
   "cell_type": "markdown",
   "metadata": {},
   "source": [
    "## Problem: https://www.acmicpc.net/problem/1913\n",
    "## Blog: https://mandy5g.tistory.com/87"
   ]
  },
  {
   "cell_type": "markdown",
   "source": [
    "* 이해는 되는데 내가 직접 짜려고 하니까 어렵다..\n",
    "* 반복 또 반복이 답이다 !!!"
   ],
   "metadata": {
    "collapsed": false
   }
  },
  {
   "attachments": {},
   "cell_type": "markdown",
   "metadata": {},
   "source": []
  },
  {
   "cell_type": "code",
   "execution_count": null,
   "metadata": {},
   "outputs": [],
   "source": [
    "import sys\n",
    "input = sys.stdin.readline\n",
    "\n",
    "n = int(input())\n",
    "k = int(input())\n",
    "\n",
    "dx = [-1, 0, 1, 0]\n",
    "dy = [0, 1, 0, -1]\n",
    "graph = [[0]*n for _ in range(n)]\n",
    "\n",
    "x, y = n//2, n//2\n",
    "graph[x][y] = 1\n",
    "repeat = 1\n",
    "i = 0\n",
    "num = 2\n",
    "ans = [x+1, y+1]\n",
    "\n",
    "while x != 0 or y != 0:\n",
    "    flag = 0\n",
    "    for _ in range(2): # 2번 반복\n",
    "        for _ in range(repeat): \n",
    "            x += dx[i]\n",
    "            y += dy[i]\n",
    "            graph[x][y] = num # 2\n",
    "            if num == k: # 찾는 숫자면 저장\n",
    "                ans = [x+1, y+1]\n",
    "            if x == 0 and y == 0: # 마지막을 만나면\n",
    "                flag = 1\n",
    "                break\n",
    "            num += 1 # 숫자 증가\n",
    "        if flag == 1: break\n",
    "        i = (i+1)%4 # 0 1 2 3 반복\n",
    "    repeat += 1 # 반복 횟수 증가\n",
    "\n",
    "for i in graph:\n",
    "    print(*i, sep=' ')\n",
    "\n",
    "print(*ans)\n",
    "\n"
   ]
  },
  {
   "cell_type": "markdown",
   "source": [],
   "metadata": {
    "collapsed": false
   }
  }
 ],
 "metadata": {
  "language_info": {
   "name": "python"
  },
  "orig_nbformat": 4,
  "kernelspec": {
   "name": "python3",
   "language": "python",
   "display_name": "Python 3 (ipykernel)"
  }
 },
 "nbformat": 4,
 "nbformat_minor": 2
}
