{
 "cells": [
  {
   "attachments": {},
   "cell_type": "markdown",
   "metadata": {},
   "source": [
    "# [BaekJoon] 달팽이 (Python3)"
   ]
  },
  {
   "attachments": {},
   "cell_type": "markdown",
   "metadata": {},
   "source": [
    "## Problem: https://www.acmicpc.net/problem/1913\n",
    "## Blog: https://mandy5g.tistory.com/87"
   ]
  },
  {
   "cell_type": "markdown",
   "source": [
    "* 이해는 되는데 내가 직접 짜려고 하니까 어렵다..\n",
    "* 반복 또 반복이 답이다 !!!"
   ],
   "metadata": {
    "collapsed": false
   }
  },
  {
   "cell_type": "markdown",
   "source": [
    "### 성능 요약\n",
    "\n",
    "메모리: 70036 KB, 시간: 812 ms\n",
    "\n",
    "### 분류\n",
    "\n",
    "구현\n",
    "\n",
    "### 제출 일자\n",
    "\n",
    "2024년 3월 5일 17:45:49\n",
    "\n",
    "### 문제 설명\n",
    "\n",
    "<p>홀수인 자연수 N이 주어지면, 다음과 같이 1부터 N<sup>2</sup>까지의 자연수를 달팽이 모양으로 N×N의 표에 채울 수 있다.</p>\n",
    "\n",
    "<table class=\"table table-bordered td-center\" style=\"width:9%\">\n",
    "\t<tbody>\n",
    "\t\t<tr>\n",
    "\t\t\t<td style=\"width:3%\">9</td>\n",
    "\t\t\t<td style=\"width:3%\">2</td>\n",
    "\t\t\t<td style=\"width:3%\">3</td>\n",
    "\t\t</tr>\n",
    "\t\t<tr>\n",
    "\t\t\t<td>8</td>\n",
    "\t\t\t<td>1</td>\n",
    "\t\t\t<td>4</td>\n",
    "\t\t</tr>\n",
    "\t\t<tr>\n",
    "\t\t\t<td>7</td>\n",
    "\t\t\t<td>6</td>\n",
    "\t\t\t<td>5</td>\n",
    "\t\t</tr>\n",
    "\t</tbody>\n",
    "</table>\n",
    "\n",
    "<table class=\"table table-bordered td-center\" style=\"width:15%\">\n",
    "\t<tbody>\n",
    "\t\t<tr>\n",
    "\t\t\t<td style=\"width:3%\">25</td>\n",
    "\t\t\t<td style=\"width:3%\">10</td>\n",
    "\t\t\t<td style=\"width:3%\">11</td>\n",
    "\t\t\t<td style=\"width:3%\">12</td>\n",
    "\t\t\t<td style=\"width:3%\">13</td>\n",
    "\t\t</tr>\n",
    "\t\t<tr>\n",
    "\t\t\t<td>24</td>\n",
    "\t\t\t<td>9</td>\n",
    "\t\t\t<td>2</td>\n",
    "\t\t\t<td>3</td>\n",
    "\t\t\t<td>14</td>\n",
    "\t\t</tr>\n",
    "\t\t<tr>\n",
    "\t\t\t<td>23</td>\n",
    "\t\t\t<td>8</td>\n",
    "\t\t\t<td>1</td>\n",
    "\t\t\t<td>4</td>\n",
    "\t\t\t<td>15</td>\n",
    "\t\t</tr>\n",
    "\t\t<tr>\n",
    "\t\t\t<td>22</td>\n",
    "\t\t\t<td>7</td>\n",
    "\t\t\t<td>6</td>\n",
    "\t\t\t<td>5</td>\n",
    "\t\t\t<td>16</td>\n",
    "\t\t</tr>\n",
    "\t\t<tr>\n",
    "\t\t\t<td>21</td>\n",
    "\t\t\t<td>20</td>\n",
    "\t\t\t<td>19</td>\n",
    "\t\t\t<td>18</td>\n",
    "\t\t\t<td>17</td>\n",
    "\t\t</tr>\n",
    "\t</tbody>\n",
    "</table>\n",
    "\n",
    "<p>N이 주어졌을 때, 이러한 표를 출력하는 프로그램을 작성하시오. 또한 N<sup>2</sup> 이하의 자연수가 하나 주어졌을 때, 그 좌표도 함께 출력하시오. 예를 들어 N=5인 경우 6의 좌표는 (4,3)이다.</p>\n",
    "\n",
    "### 입력 \n",
    "\n",
    " <p>첫째 줄에 홀수인 자연수 N(3 ≤ N ≤ 999)이 주어진다. 둘째 줄에는 위치를 찾고자 하는 N<sup>2</sup> 이하의 자연수가 하나 주어진다.</p>\n",
    "\n",
    "### 출력 \n",
    "\n",
    " <p>N개의 줄에 걸쳐 표를 출력한다. 각 줄에 N개의 자연수를 한 칸씩 띄어서 출력하면 되며, 자릿수를 맞출 필요가 없다. N+1번째 줄에는 입력받은 자연수의 좌표를 나타내는 두 정수를 한 칸 띄어서 출력한다.</p>\n",
    "\n"
   ],
   "metadata": {
    "collapsed": false
   }
  },
  {
   "attachments": {},
   "cell_type": "markdown",
   "metadata": {},
   "source": []
  },
  {
   "cell_type": "code",
   "execution_count": null,
   "metadata": {},
   "outputs": [],
   "source": [
    "import sys\n",
    "input = sys.stdin.readline\n",
    "\n",
    "n = int(input())\n",
    "k = int(input())\n",
    "\n",
    "dx = [-1, 0, 1, 0]\n",
    "dy = [0, 1, 0, -1]\n",
    "graph = [[0]*n for _ in range(n)]\n",
    "\n",
    "x, y = n//2, n//2\n",
    "graph[x][y] = 1\n",
    "repeat = 1\n",
    "i = 0\n",
    "num = 2\n",
    "ans = [x+1, y+1]\n",
    "\n",
    "while x != 0 or y != 0:\n",
    "    flag = 0\n",
    "    for _ in range(2): # 2번 반복\n",
    "        for _ in range(repeat): \n",
    "            x += dx[i]\n",
    "            y += dy[i]\n",
    "            graph[x][y] = num # 2\n",
    "            if num == k: # 찾는 숫자면 저장\n",
    "                ans = [x+1, y+1]\n",
    "            if x == 0 and y == 0: # 마지막을 만나면\n",
    "                flag = 1\n",
    "                break\n",
    "            num += 1 # 숫자 증가\n",
    "        if flag == 1: break\n",
    "        i = (i+1)%4 # 0 1 2 3 반복\n",
    "    repeat += 1 # 반복 횟수 증가\n",
    "\n",
    "for i in graph:\n",
    "    print(*i, sep=' ')\n",
    "\n",
    "print(*ans)\n",
    "\n"
   ]
  },
  {
   "cell_type": "markdown",
   "source": [],
   "metadata": {
    "collapsed": false
   }
  }
 ],
 "metadata": {
  "language_info": {
   "name": "python"
  },
  "orig_nbformat": 4,
  "kernelspec": {
   "name": "python3",
   "language": "python",
   "display_name": "Python 3 (ipykernel)"
  }
 },
 "nbformat": 4,
 "nbformat_minor": 2
}
