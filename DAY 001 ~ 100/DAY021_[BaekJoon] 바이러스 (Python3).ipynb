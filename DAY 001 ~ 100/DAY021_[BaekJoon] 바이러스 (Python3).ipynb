{
 "cells": [
  {
   "attachments": {},
   "cell_type": "markdown",
   "metadata": {},
   "source": [
    "# [BaekJoon] 바이러스 (Python3)"
   ]
  },
  {
   "attachments": {},
   "cell_type": "markdown",
   "metadata": {},
   "source": [
    "## Problem: https://www.acmicpc.net/problem/2606\n",
    "## Blog: https://mandy5g.tistory.com/88"
   ]
  },
  {
   "attachments": {},
   "cell_type": "markdown",
   "metadata": {},
   "source": [
    "* dfs와 bfs문제는 아직도 좀 어렵다!!\n",
    "* 두 가지 방법으로 풀어본 문제"
   ]
  },
  {
   "cell_type": "markdown",
   "source": [
    "### DFS"
   ],
   "metadata": {
    "collapsed": false
   }
  },
  {
   "cell_type": "code",
   "execution_count": null,
   "metadata": {},
   "outputs": [],
   "source": [
    "n = int(input())\n",
    "v = int(input())\n",
    "graph = [[] for i in range(n+1)]\n",
    "visited = [0] * (n+1)\n",
    "for i in range(v):\n",
    "    a, b = map(int, input().split())\n",
    "    graph[a] += [b]\n",
    "    graph[b] += [a]\n",
    "\n",
    "def dfs(v):\n",
    "    visited[v] = 1\n",
    "    for nx in graph[v]:\n",
    "        if visited[nx] == 0:\n",
    "            dfs(nx)\n",
    "dfs(1)\n",
    "print(sum(visited)-1)"
   ]
  },
  {
   "cell_type": "markdown",
   "source": [],
   "metadata": {
    "collapsed": false
   }
  },
  {
   "cell_type": "markdown",
   "source": [
    "### BFS"
   ],
   "metadata": {
    "collapsed": false
   }
  },
  {
   "cell_type": "code",
   "outputs": [],
   "source": [
    "from collections import deque\n",
    "\n",
    "n = int(input()) # 컴퓨터 개수\n",
    "v = int(input()) # 연결선 개수\n",
    "graph = [[] for i in range(n+1)] # 그래프 초기화, n+1만큼 빈 리스트 생성 (1번 컴퓨터: 1번 인덱스)\n",
    "visited = [0] * (n+1) # 방문한 노드인가? (0: 미방문, 1:방문)\n",
    "for i in range(v):\n",
    "    a, b = map(int, input().split())\n",
    "    graph[a] += [b] # a에 b 연결\n",
    "    graph[b] += [a] # b에 a 연결\n",
    "print(graph)\n",
    "visited[1] = 1 # 첫 번째 컴퓨터\n",
    "Q = deque([1]) # 첫 번째 컴퓨터에 대한 덱\n",
    "\n",
    "while Q: # Q에 값이 있는 동안\n",
    "    print(Q)\n",
    "    c = Q.popleft() # Q에서 맨 왼쪽에 있는 값이 들어감.\n",
    "    # print(c, Q)\n",
    "    for nx in graph[c]: # c번째 컴퓨터와 연결된 리스를 nx로 반복\n",
    "        if visited[nx] == 0: # nx가 방문하지 않은 컴퓨터\n",
    "            Q.append(nx) # Q에 추가\n",
    "            visited[nx] = 1 # 방문 표시\n",
    "print(sum(visited)-1) # 1번 컴퓨터를 제외하고 출력"
   ],
   "metadata": {
    "collapsed": false
   }
  }
 ],
 "metadata": {
  "language_info": {
   "name": "python"
  },
  "orig_nbformat": 4,
  "kernelspec": {
   "name": "python3",
   "language": "python",
   "display_name": "Python 3 (ipykernel)"
  }
 },
 "nbformat": 4,
 "nbformat_minor": 2
}
