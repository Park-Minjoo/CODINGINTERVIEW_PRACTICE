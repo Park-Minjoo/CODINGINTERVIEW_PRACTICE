{
 "cells": [
  {
   "attachments": {},
   "cell_type": "markdown",
   "metadata": {},
   "source": [
    "# [BaekJoon] 바이러스 (Python3) - Silver III"
   ]
  },
  {
   "attachments": {},
   "cell_type": "markdown",
   "metadata": {},
   "source": [
    "## Problem: https://www.acmicpc.net/problem/2606\n",
    "## Blog: https://mandy5g.tistory.com/88"
   ]
  },
  {
   "attachments": {},
   "cell_type": "markdown",
   "metadata": {},
   "source": [
    "* dfs와 bfs문제는 아직도 좀 어렵다!!\n",
    "* 두 가지 방법으로 풀어본 문제"
   ]
  },
  {
   "cell_type": "markdown",
   "source": [
    "### 성능 요약\n",
    "\n",
    "메모리: 31120 KB, 시간: 48 ms\n",
    "\n",
    "### 분류\n",
    "\n",
    "그래프 이론, 그래프 탐색, 너비 우선 탐색, 깊이 우선 탐색\n",
    "\n",
    "### 제출 일자\n",
    "\n",
    "2024년 3월 5일 17:44:13\n",
    "\n",
    "### 문제 설명\n",
    "\n",
    "<p>신종 바이러스인 웜 바이러스는 네트워크를 통해 전파된다. 한 컴퓨터가 웜 바이러스에 걸리면 그 컴퓨터와 네트워크 상에서 연결되어 있는 모든 컴퓨터는 웜 바이러스에 걸리게 된다.</p>\n",
    "\n",
    "<p>예를 들어 7대의 컴퓨터가 <그림 1>과 같이 네트워크 상에서 연결되어 있다고 하자. 1번 컴퓨터가 웜 바이러스에 걸리면 웜 바이러스는 2번과 5번 컴퓨터를 거쳐 3번과 6번 컴퓨터까지 전파되어 2, 3, 5, 6 네 대의 컴퓨터는 웜 바이러스에 걸리게 된다. 하지만 4번과 7번 컴퓨터는 1번 컴퓨터와 네트워크상에서 연결되어 있지 않기 때문에 영향을 받지 않는다.</p>\n",
    "\n",
    "<p><img alt=\"\" src=\"https://www.acmicpc.net/upload/images/zmMEZZ8ioN6rhCdHmcIT4a7.png\" style=\"width: 239px; height: 157px; \"></p>\n",
    "\n",
    "<p>어느 날 1번 컴퓨터가 웜 바이러스에 걸렸다. 컴퓨터의 수와 네트워크 상에서 서로 연결되어 있는 정보가 주어질 때, 1번 컴퓨터를 통해 웜 바이러스에 걸리게 되는 컴퓨터의 수를 출력하는 프로그램을 작성하시오.</p>\n",
    "\n",
    "### 입력 \n",
    "\n",
    " <p>첫째 줄에는 컴퓨터의 수가 주어진다. 컴퓨터의 수는 100 이하인 양의 정수이고 각 컴퓨터에는 1번 부터 차례대로 번호가 매겨진다. 둘째 줄에는 네트워크 상에서 직접 연결되어 있는 컴퓨터 쌍의 수가 주어진다. 이어서 그 수만큼 한 줄에 한 쌍씩 네트워크 상에서 직접 연결되어 있는 컴퓨터의 번호 쌍이 주어진다.</p>\n",
    "\n",
    "### 출력 \n",
    "\n",
    " <p>1번 컴퓨터가 웜 바이러스에 걸렸을 때, 1번 컴퓨터를 통해 웜 바이러스에 걸리게 되는 컴퓨터의 수를 첫째 줄에 출력한다.</p>\n",
    "\n"
   ],
   "metadata": {
    "collapsed": false
   }
  },
  {
   "cell_type": "markdown",
   "source": [
    "### DFS"
   ],
   "metadata": {
    "collapsed": false
   }
  },
  {
   "cell_type": "code",
   "execution_count": null,
   "metadata": {},
   "outputs": [],
   "source": [
    "n = int(input())\n",
    "v = int(input())\n",
    "graph = [[] for i in range(n+1)]\n",
    "visited = [0] * (n+1)\n",
    "for i in range(v):\n",
    "    a, b = map(int, input().split())\n",
    "    graph[a] += [b]\n",
    "    graph[b] += [a]\n",
    "\n",
    "def dfs(v):\n",
    "    visited[v] = 1\n",
    "    for nx in graph[v]:\n",
    "        if visited[nx] == 0:\n",
    "            dfs(nx)\n",
    "dfs(1)\n",
    "print(sum(visited)-1)"
   ]
  },
  {
   "cell_type": "markdown",
   "source": [],
   "metadata": {
    "collapsed": false
   }
  },
  {
   "cell_type": "markdown",
   "source": [
    "### BFS"
   ],
   "metadata": {
    "collapsed": false
   }
  },
  {
   "cell_type": "code",
   "outputs": [],
   "source": [
    "from collections import deque\n",
    "\n",
    "n = int(input()) # 컴퓨터 개수\n",
    "v = int(input()) # 연결선 개수\n",
    "graph = [[] for i in range(n+1)] # 그래프 초기화, n+1만큼 빈 리스트 생성 (1번 컴퓨터: 1번 인덱스)\n",
    "visited = [0] * (n+1) # 방문한 노드인가? (0: 미방문, 1:방문)\n",
    "for i in range(v):\n",
    "    a, b = map(int, input().split())\n",
    "    graph[a] += [b] # a에 b 연결\n",
    "    graph[b] += [a] # b에 a 연결\n",
    "print(graph)\n",
    "visited[1] = 1 # 첫 번째 컴퓨터\n",
    "Q = deque([1]) # 첫 번째 컴퓨터에 대한 덱\n",
    "\n",
    "while Q: # Q에 값이 있는 동안\n",
    "    print(Q)\n",
    "    c = Q.popleft() # Q에서 맨 왼쪽에 있는 값이 들어감.\n",
    "    # print(c, Q)\n",
    "    for nx in graph[c]: # c번째 컴퓨터와 연결된 리스를 nx로 반복\n",
    "        if visited[nx] == 0: # nx가 방문하지 않은 컴퓨터\n",
    "            Q.append(nx) # Q에 추가\n",
    "            visited[nx] = 1 # 방문 표시\n",
    "print(sum(visited)-1) # 1번 컴퓨터를 제외하고 출력"
   ],
   "metadata": {
    "collapsed": false
   }
  }
 ],
 "metadata": {
  "language_info": {
   "name": "python"
  },
  "orig_nbformat": 4,
  "kernelspec": {
   "name": "python3",
   "language": "python",
   "display_name": "Python 3 (ipykernel)"
  }
 },
 "nbformat": 4,
 "nbformat_minor": 2
}
