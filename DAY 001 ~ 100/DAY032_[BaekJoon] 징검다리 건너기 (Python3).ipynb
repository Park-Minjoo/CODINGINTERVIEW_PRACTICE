{
 "cells": [
  {
   "attachments": {},
   "cell_type": "markdown",
   "metadata": {},
   "source": [
    "# [BaekJoon] 징검다리 건너기 (Python3) - Silver I"
   ]
  },
  {
   "attachments": {},
   "cell_type": "markdown",
   "metadata": {},
   "source": [
    "## Problem: https://www.acmicpc.net/problem/21317\n",
    "## Blog: "
   ]
  },
  {
   "cell_type": "markdown",
   "source": [
    "### 성능 요약\n",
    "\n",
    "메모리: 31120 KB, 시간: 40 ms\n",
    "\n",
    "### 분류\n",
    "\n",
    "다이나믹 프로그래밍\n",
    "\n",
    "### 제출 일자\n",
    "\n",
    "2024년 3월 5일 18:14:11\n",
    "\n",
    "### 문제 설명\n",
    "\n",
    "<p>심마니 영재는 산삼을 찾아다닌다.</p>\n",
    "\n",
    "<p>산삼을 찾던 영재는 <em>N</em>개의 돌이 일렬로 나열되어 있는 강가를 발견했고, 마지막 돌 틈 사이에 산삼이 있다는 사실을 알게 되었다.</p>\n",
    "\n",
    "<p>마지막 돌 틈 사이에 있는 산삼을 캐기 위해 영재는 돌과 돌 사이를 점프하면서 이동하며 점프의 종류는 3가지가 있다.</p>\n",
    "\n",
    "<p>점프의 종류에는 현재 위치에서 다음 돌로 이동하는 작은 점프, 1개의 돌을 건너뛰어 이동하는 큰 점프, 2개의 돌을 건너뛰어 이동하는 매우 큰 점프가 있다.</p>\n",
    "\n",
    "<p>각 점프를 할 때는 에너지를 소비하는데, 이 때 작은 점프와 큰 점프시 소비되는 에너지는 점프를 하는 돌의 번호마다 다르다.</p>\n",
    "\n",
    "<p>매우 큰 점프는 단 한 번의 기회가 주어지는데, 이때는 점프를 하는 돌의 번호와 상관없이 <em>k</em>만큼의 에너지를 소비한다.</p>\n",
    "\n",
    "<p>에너지를 최대한 아껴야 하는 영재가 산삼을 얻기 위해 필요한 에너지의 최솟값을 구하여라.</p>\n",
    "\n",
    "<p>영재는 첫 번째 돌에서부터 출발한다.</p>\n",
    "\n",
    "### 입력 \n",
    "\n",
    " <p>첫 번째 줄에는 돌의 개수 <em>N</em>이 주어진다.</p>\n",
    "\n",
    "<p><em>N </em>- 1개의 줄에 걸쳐서, 1번 돌부터 <em>N </em>- 1번 돌 까지의 작은 점프를 하기 위해 필요한 에너지, 큰 점프를 하기 위해 필요한 에너지가 주어진다.</p>\n",
    "\n",
    "<p>마지막 줄에는 <em>K</em>가 주어진다.</p>\n",
    "\n",
    "### 출력 \n",
    "\n",
    " <p>산삼을 얻기 위해 필요한 영재의 최소 에너지를 출력한다.</p>\n",
    "\n"
   ],
   "metadata": {
    "collapsed": false
   }
  },
  {
   "cell_type": "code",
   "execution_count": null,
   "metadata": {},
   "outputs": [],
   "source": [
    "n = int(input())\n",
    "energy = [list(map(int, input().split())) for _ in range(n-1)]\n",
    "k = int(input())\n",
    "if n == 1:\n",
    "    print(0)\n",
    "    exit()\n",
    "elif n == 2:\n",
    "    print(energy[0][0])\n",
    "    exit()\n",
    "\n",
    "dp = [0] * n\n",
    "dp[1] = energy[0][0]\n",
    "dp[2] = min(energy[0][0] + energy[1][0], energy[0][1])\n",
    "for i in range(3, n):\n",
    "    dp[i] = min(energy[i-1][0]+dp[i-1], energy[i-2][1] + dp[i-2])\n",
    "\n",
    "result = dp[-1]\n",
    "dp2 = dp[:]\n",
    "\n",
    "# 기회 1번 사용\n",
    "for i in range(0, n-3):\n",
    "    if dp[i] + k < dp[i+3]:\n",
    "        dp2[i+3] = dp[i] + k\n",
    "    for j in range(i+4, n):\n",
    "        dp2[j] = min(dp[j], dp2[j-1] + energy[j-1][0], dp2[j-2] + energy[j-2][1])\n",
    "    if dp2[-1] < result:\n",
    "        result = dp2[-1]\n",
    "print(result)"
   ]
  },
  {
   "cell_type": "markdown",
   "source": [],
   "metadata": {
    "collapsed": false
   }
  }
 ],
 "metadata": {
  "language_info": {
   "name": "python"
  },
  "orig_nbformat": 4,
  "kernelspec": {
   "name": "python3",
   "language": "python",
   "display_name": "Python 3 (ipykernel)"
  }
 },
 "nbformat": 4,
 "nbformat_minor": 2
}
