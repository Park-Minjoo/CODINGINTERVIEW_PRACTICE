{
 "cells": [
  {
   "cell_type": "code",
   "execution_count": null,
   "id": "df2cbbe9",
   "metadata": {},
   "outputs": [],
   "source": [
    "2023년을 맞아 새롭게 시작하는 1 Day 1 Commit Challenge!\n",
    "2022년 한 해 동안 6개 밖에 하지 않아서 조금 부끄럽다... \n",
    "인도네시아에서 학생들을 가르치면서 하루에 하나씩 알고리즘을 정복해보자. "
   ]
  },
  {
   "cell_type": "code",
   "execution_count": null,
   "id": "dee1e842",
   "metadata": {},
   "outputs": [],
   "source": [
    "오늘은 조금 쉬운 Hackers의 prepare/algorithm에서 문제를 가져왔다. "
   ]
  },
  {
   "cell_type": "code",
   "execution_count": null,
   "id": "9c97d175",
   "metadata": {},
   "outputs": [],
   "source": [
    "#!/bin/python3\n",
    "\n",
    "import math\n",
    "import os\n",
    "import random\n",
    "import re\n",
    "import sys\n",
    "\n",
    "#\n",
    "# Complete the 'diagonalDifference' function below.\n",
    "#\n",
    "# The function is expected to return an INTEGER.\n",
    "# The function accepts 2D_INTEGER_ARRAY arr as parameter.\n",
    "#\n",
    "\n",
    "def diagonalDifference(arr):\n",
    "    # Write your code here\n",
    "    left = 0\n",
    "    right = 0\n",
    "    \n",
    "    for i in range(len(arr)): # 3\n",
    "        print(\"i\", i)\n",
    "        left += arr[i][i] # 0 0 / 1 1 / 2 2 \n",
    "        right += arr[i][len(arr)-i-1] # 0 2 / 1 1 / 2 0\n",
    "        # print(\"l\", left)\n",
    "        # print(\"r\", right)\n",
    "    return abs(left - right)\n",
    "        \n",
    "        \n",
    "\n",
    "if __name__ == '__main__':\n",
    "    fptr = open(os.environ['OUTPUT_PATH'], 'w')\n",
    "\n",
    "    n = int(input().strip())\n",
    "    # print(\"n\", n)\n",
    "    arr = []\n",
    "   \n",
    "\n",
    "    for _ in range(n):\n",
    "        arr.append(list(map(int, input().rstrip().split())))\n",
    "    # print(arr)\n",
    "    result = diagonalDifference(arr)\n",
    "\n",
    "    fptr.write(str(result) + '\\n')\n",
    "\n",
    "    fptr.close()\n"
   ]
  },
  {
   "cell_type": "code",
   "execution_count": null,
   "id": "9e60c284",
   "metadata": {},
   "outputs": [],
   "source": [
    "단순히 diagonal difference를 구하면 되는 문제. \n",
    "diagonal은 머신러닝할 때 계속 나왔던 부분이다. 행렬에도 많이 등장하는 개념.\n",
    "대각선 방향으로 더해주고 더해주고 abs함수 써서 부호에 상관없이 그 차이만 구하면 된다. "
   ]
  }
 ],
 "metadata": {
  "kernelspec": {
   "display_name": "Python 3 (ipykernel)",
   "language": "python",
   "name": "python3"
  },
  "language_info": {
   "codemirror_mode": {
    "name": "ipython",
    "version": 3
   },
   "file_extension": ".py",
   "mimetype": "text/x-python",
   "name": "python",
   "nbconvert_exporter": "python",
   "pygments_lexer": "ipython3",
   "version": "3.9.13"
  }
 },
 "nbformat": 4,
 "nbformat_minor": 5
}
