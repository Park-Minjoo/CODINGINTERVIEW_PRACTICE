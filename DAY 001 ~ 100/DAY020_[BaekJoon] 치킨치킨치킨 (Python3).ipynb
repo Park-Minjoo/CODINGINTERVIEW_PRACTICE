{
 "cells": [
  {
   "attachments": {},
   "cell_type": "markdown",
   "metadata": {},
   "source": [
    "# [BaekJoon] 치킨치킨치킨 - 실버4 (Python3)"
   ]
  },
  {
   "attachments": {},
   "cell_type": "markdown",
   "metadata": {},
   "source": [
    "## Problem: https://www.acmicpc.net/problem/16439\n",
    "## Blog: "
   ]
  },
  {
   "attachments": {},
   "cell_type": "markdown",
   "metadata": {},
   "source": [
    "* combination을 써서 쉽게 풀었다. \n",
    "* 조합을 생각해야 하는 문제. \n",
    "* 처음에는 단순히 세로줄을 더해서 큰 거를 하면 되는 거 아닌가? 했는데 \n",
    "* 모든 경우의 수를 따져봐야 하는 문제. "
   ]
  },
  {
   "cell_type": "code",
   "execution_count": null,
   "metadata": {},
   "outputs": [],
   "source": [
    "import sys\n",
    "from itertools import combinations\n",
    "input = sys.stdin.readline\n",
    "\n",
    "n, m = map(int, input().split())\n",
    "arr = [list(map(int, input().split())) for _ in range(n)]\n",
    "\n",
    "max_cost = 0\n",
    "\n",
    "for a, b, c in combinations(range(m), 3): #012 013 014 123 124 234\n",
    "    temp_cost = 0\n",
    "    for i in range(n): # 3\n",
    "        temp_cost += max(arr[i][a], arr[i][b], arr[i][c]) #00, 01, 02 -> 11, 12, 13 ...\n",
    "    max_cost = max(max_cost, temp_cost)\n",
    "print(max_cost)"
   ]
  },
  {
   "cell_type": "markdown",
   "source": [],
   "metadata": {
    "collapsed": false
   }
  }
 ],
 "metadata": {
  "language_info": {
   "name": "python"
  },
  "orig_nbformat": 4,
  "kernelspec": {
   "name": "python3",
   "language": "python",
   "display_name": "Python 3 (ipykernel)"
  }
 },
 "nbformat": 4,
 "nbformat_minor": 2
}
