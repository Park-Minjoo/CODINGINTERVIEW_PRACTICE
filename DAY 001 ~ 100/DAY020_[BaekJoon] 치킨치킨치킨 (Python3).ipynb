{
 "cells": [
  {
   "attachments": {},
   "cell_type": "markdown",
   "metadata": {},
   "source": [
    "# [BaekJoon] 치킨치킨치킨 - 실버4 (Python3)"
   ]
  },
  {
   "attachments": {},
   "cell_type": "markdown",
   "metadata": {},
   "source": [
    "## Problem: https://www.acmicpc.net/problem/16439\n",
    "## Blog: https://mandy5g.tistory.com/86"
   ]
  },
  {
   "cell_type": "markdown",
   "source": [
    "### 성능 요약\n",
    "\n",
    "메모리: 31120 KB, 시간: 68 ms\n",
    "\n",
    "### 분류\n",
    "\n",
    "브루트포스 알고리즘\n",
    "\n",
    "### 제출 일자\n",
    "\n",
    "2024년 2월 16일 14:49:24\n",
    "\n",
    "### 문제 설명\n",
    "\n",
    "<p><em>N</em>명의 고리 회원들은 치킨을 주문하고자 합니다.</p>\n",
    "\n",
    "<p>치킨은 총 <em>M</em>가지 종류가 있고 회원마다 특정 치킨의 선호도가 있습니다. 한 사람의 만족도는 시킨 치킨 중에서 선호도가 가장 큰 값으로 결정됩니다. 진수는 회원들의 만족도의 합이 최대가 되도록 치킨을 주문하고자 합니다.</p>\n",
    "\n",
    "<p>시키는 치킨의 종류가 많아질수록 치킨을 튀기는 데에 걸리는 시간도 길어지기 때문에 최대 세 가지 종류의 치킨만 시키고자 합니다.</p>\n",
    "\n",
    "<p>진수를 도와 가능한 만족도의 합의 최댓값을 구해주세요.</p>\n",
    "\n",
    "### 입력 \n",
    "\n",
    " <p>첫 번째 줄에 고리 회원의 수 <em>N</em> (1 ≤ <em>N</em> ≤ 30) 과 치킨 종류의 수 <em>M</em> (3 ≤ <em>M</em> ≤ 30) 이 주어집니다.</p>\n",
    "\n",
    "<p>두 번째 줄부터 <em>N</em>개의 줄에 각 회원의 치킨 선호도가 주어집니다.</p>\n",
    "\n",
    "<p><em>i</em>+1번째 줄에는 <em>i</em>번째 회원의 선호도 <em>a<sub>i,1</sub></em>, <em>a<sub>i,2</sub></em>, ..., <em>a</em><sub><em>i,M</em> </sub>(1 ≤ <em>a<sub>i,j</sub></em> ≤ 9) 가 주어집니다.</p>\n",
    "\n",
    "### 출력 \n",
    "\n",
    " <p>첫 번째 줄에 고리 회원들의 만족도의 합의 최댓값을 출력합니다.</p>\n",
    "\n"
   ],
   "metadata": {
    "collapsed": false
   }
  },
  {
   "attachments": {},
   "cell_type": "markdown",
   "metadata": {},
   "source": [
    "* combination을 써서 쉽게 풀었다. \n",
    "* 조합을 생각해야 하는 문제. \n",
    "* 처음에는 단순히 세로줄을 더해서 큰 거를 하면 되는 거 아닌가? 했는데 \n",
    "* 모든 경우의 수를 따져봐야 하는 문제. "
   ]
  },
  {
   "cell_type": "code",
   "execution_count": null,
   "metadata": {},
   "outputs": [],
   "source": [
    "import sys\n",
    "from itertools import combinations\n",
    "input = sys.stdin.readline\n",
    "\n",
    "n, m = map(int, input().split())\n",
    "arr = [list(map(int, input().split())) for _ in range(n)]\n",
    "\n",
    "max_cost = 0\n",
    "\n",
    "for a, b, c in combinations(range(m), 3): #012 013 014 123 124 234\n",
    "    temp_cost = 0\n",
    "    for i in range(n): # 3\n",
    "        temp_cost += max(arr[i][a], arr[i][b], arr[i][c]) #00, 01, 02 -> 11, 12, 13 ...\n",
    "    max_cost = max(max_cost, temp_cost)\n",
    "print(max_cost)"
   ]
  },
  {
   "cell_type": "markdown",
   "source": [],
   "metadata": {
    "collapsed": false
   }
  }
 ],
 "metadata": {
  "language_info": {
   "name": "python"
  },
  "orig_nbformat": 4,
  "kernelspec": {
   "name": "python3",
   "language": "python",
   "display_name": "Python 3 (ipykernel)"
  }
 },
 "nbformat": 4,
 "nbformat_minor": 2
}
