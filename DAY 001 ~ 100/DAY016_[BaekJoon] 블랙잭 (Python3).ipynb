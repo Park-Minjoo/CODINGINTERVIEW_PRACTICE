{
 "cells": [
  {
   "attachments": {},
   "cell_type": "markdown",
   "metadata": {},
   "source": [
    "# [BaekJoon] 블랙잭"
   ]
  },
  {
   "attachments": {},
   "cell_type": "markdown",
   "metadata": {},
   "source": [
    "## Problem: https://www.acmicpc.net/problem/2798\n",
    "## Blog: "
   ]
  },
  {
   "attachments": {},
   "cell_type": "markdown",
   "metadata": {},
   "source": [
    "* 그 동안 학과 수업에 바빠서, 자바에 빠져 허우적 대던 차에 파이썬 1 day 1 commit을 지키지 못했다..\n",
    "* 모든 것은 핑계일 뿐, 내 자신 반성해 ㅠ \n",
    "* 그래도 오랜만에 돌아왔으니 조금은 어려운 문제로 돌아왔다. "
   ]
  },
  {
   "attachments": {},
   "cell_type": "markdown",
   "metadata": {},
   "source": [
    "------\n",
    "* 문제 자체는 어려운 것이 없다. \n",
    "* 주어진 배열로 처리한 숫자들중에 가장 큰 합은 구하는데, 이것이 주어진 숫자보다 작아야 한다는 점. \n",
    "* 알고리즘을 잘 생각하면 풀 수 있을 것도 같은데....?"
   ]
  },
  {
   "attachments": {},
   "cell_type": "markdown",
   "metadata": {},
   "source": [
    "* 첫 시도는 무참히 런타임 에러.. 다른 분의 코드를 참고하여 답안을 작성하였다."
   ]
  },
  {
   "cell_type": "code",
   "execution_count": null,
   "metadata": {},
   "outputs": [],
   "source": [
    "from itertools import combinations\n",
    "\n",
    "card_num, target_num = map(int, input().split())\n",
    "card_list = list(map(int, input().split()))\n",
    "biggest_num = 0\n",
    "\n",
    "for cards in combinations(card_list, 3):\n",
    "    temp_sum = sum(cards)\n",
    "    if biggest_num < temp_sum <= target_num:\n",
    "        biggest_num = temp_sum\n",
    "print(biggest_num)"
   ]
  },
  {
   "attachments": {},
   "cell_type": "markdown",
   "metadata": {},
   "source": [
    "* combination을 import하여 식을 훨씬 간단하게 만들었다. \n",
    "1. 처음에 list형태로 입력값들을 받아준다. \n",
    "2. combinationd으로 3개를 뽑는다. (이 경우 모든 경우를 포함한다.)\n",
    "3. 세 개의 가장 큰 합이 주어진 숫자보다 작은 경우에 해당 식이 성립한다. \n",
    "* 처음에 반복문을 세 개를 돌려야 한다고 생각했는데, 그럴 필요없이 파이썬의 내장 라이브러리 함수를 사용하여 쉽게 만들 수 있었다. (역시 파이썬이 짱!)"
   ]
  }
 ],
 "metadata": {
  "kernelspec": {
   "display_name": "Python 3",
   "language": "python",
   "name": "python3"
  },
  "language_info": {
   "codemirror_mode": {
    "name": "ipython",
    "version": 3
   },
   "file_extension": ".py",
   "mimetype": "text/x-python",
   "name": "python",
   "nbconvert_exporter": "python",
   "pygments_lexer": "ipython3",
   "version": "3.11.2"
  },
  "orig_nbformat": 4,
  "vscode": {
   "interpreter": {
    "hash": "aee8b7b246df8f9039afb4144a1f6fd8d2ca17a180786b69acc140d282b71a49"
   }
  }
 },
 "nbformat": 4,
 "nbformat_minor": 2
}
