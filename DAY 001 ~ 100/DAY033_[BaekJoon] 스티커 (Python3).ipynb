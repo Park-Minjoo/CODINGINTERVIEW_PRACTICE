{
 "cells": [
  {
   "attachments": {},
   "cell_type": "markdown",
   "metadata": {},
   "source": [
    "# [BaekJoon] 스티커 (Python3) - Silver I"
   ]
  },
  {
   "attachments": {},
   "cell_type": "markdown",
   "metadata": {},
   "source": [
    "## Problem: https://www.acmicpc.net/problem/9465\n",
    "## Blog: "
   ]
  },
  {
   "cell_type": "markdown",
   "source": [
    "### 성능 요약\n",
    "\n",
    "메모리: 47368 KB, 시간: 776 ms\n",
    "\n",
    "### 분류\n",
    "\n",
    "다이나믹 프로그래밍\n",
    "\n",
    "### 제출 일자\n",
    "\n",
    "2024년 3월 6일 15:52:44\n",
    "\n",
    "### 문제 설명\n",
    "\n",
    "<p>상근이의 여동생 상냥이는 문방구에서 스티커 2n개를 구매했다. 스티커는 그림 (a)와 같이 2행 n열로 배치되어 있다. 상냥이는 스티커를 이용해 책상을 꾸미려고 한다.</p>\n",
    "\n",
    "<p>상냥이가 구매한 스티커의 품질은 매우 좋지 않다. 스티커 한 장을 떼면, 그 스티커와 변을 공유하는 스티커는 모두 찢어져서 사용할 수 없게 된다. 즉, 뗀 스티커의 왼쪽, 오른쪽, 위, 아래에 있는 스티커는 사용할 수 없게 된다.</p>\n",
    "\n",
    "<p><img alt=\"\" src=\"https://www.acmicpc.net/upload/images/sticker.png\" style=\"height:150px; width:575px\"></p>\n",
    "\n",
    "<p>모든 스티커를 붙일 수 없게된 상냥이는 각 스티커에 점수를 매기고, 점수의 합이 최대가 되게 스티커를 떼어내려고 한다. 먼저, 그림 (b)와 같이 각 스티커에 점수를 매겼다. 상냥이가 뗄 수 있는 스티커의 점수의 최댓값을 구하는 프로그램을 작성하시오. 즉, 2n개의 스티커 중에서 점수의 합이 최대가 되면서 서로 변을 공유 하지 않는 스티커 집합을 구해야 한다.</p>\n",
    "\n",
    "<p>위의 그림의 경우에 점수가 50, 50, 100, 60인 스티커를 고르면, 점수는 260이 되고 이 것이 최대 점수이다. 가장 높은 점수를 가지는 두 스티커 (100과 70)은 변을 공유하기 때문에, 동시에 뗄 수 없다.</p>\n",
    "\n",
    "### 입력 \n",
    "\n",
    " <p>첫째 줄에 테스트 케이스의 개수 T가 주어진다. 각 테스트 케이스의 첫째 줄에는 n (1 ≤ n ≤ 100,000)이 주어진다. 다음 두 줄에는 n개의 정수가 주어지며, 각 정수는 그 위치에 해당하는 스티커의 점수이다. 연속하는 두 정수 사이에는 빈 칸이 하나 있다. 점수는 0보다 크거나 같고, 100보다 작거나 같은 정수이다. </p>\n",
    "\n",
    "### 출력 \n",
    "\n",
    " <p>각 테스트 케이스 마다, 2n개의 스티커 중에서 두 변을 공유하지 않는 스티커 점수의 최댓값을 출력한다.</p>\n",
    "\n"
   ],
   "metadata": {
    "collapsed": false
   }
  },
  {
   "cell_type": "code",
   "execution_count": null,
   "metadata": {},
   "outputs": [],
   "source": [
    "tc = int(input())\n",
    "for _ in range(tc):\n",
    "    n = int(input())\n",
    "    dp = [list(map(int, input().split())) for _ in range(2)]\n",
    "\n",
    "    if n == 1:\n",
    "        print(max(dp[0][0], dp[1][0]))\n",
    "        continue\n",
    "    elif n > 1:\n",
    "        dp[0][1] += dp[1][0]\n",
    "        dp[1][1] += dp[0][0]\n",
    "\n",
    "    for i in range(2, n):\n",
    "        dp[0][i] += max(dp[1][i-1], dp[1][i-2])\n",
    "        dp[1][i] += max(dp[0][i-1], dp[0][i-2])\n",
    "\n",
    "    print(max(dp[0][n-1], dp[1][n-1]))"
   ]
  },
  {
   "cell_type": "markdown",
   "source": [],
   "metadata": {
    "collapsed": false
   }
  }
 ],
 "metadata": {
  "language_info": {
   "name": "python"
  },
  "orig_nbformat": 4,
  "kernelspec": {
   "name": "python3",
   "language": "python",
   "display_name": "Python 3 (ipykernel)"
  }
 },
 "nbformat": 4,
 "nbformat_minor": 2
}
