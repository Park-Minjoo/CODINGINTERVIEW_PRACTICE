{
 "cells": [
  {
   "attachments": {},
   "cell_type": "markdown",
   "metadata": {},
   "source": [
    "# [LeetCode] Add Two Numbers (Python3)"
   ]
  },
  {
   "attachments": {},
   "cell_type": "markdown",
   "metadata": {},
   "source": [
    "## Question: https://leetcode.com/problems/add-two-numbers/\n",
    "## Blog: "
   ]
  },
  {
   "attachments": {},
   "cell_type": "markdown",
   "metadata": {},
   "source": [
    "* 생각보다 어려운 문제에 당황..\n",
    "* 결국 solution을 그대로 보고 풀었는데 그래도 이해가 안가서 2차 당황.."
   ]
  },
  {
   "cell_type": "code",
   "execution_count": null,
   "metadata": {},
   "outputs": [],
   "source": [
    "# Definition for singly-linked list.\n",
    "# class ListNode:\n",
    "#     def __init__(self, val=0, next=None):\n",
    "#         self.val = val\n",
    "#         self.next = next\n",
    "class Solution:\n",
    "    def addTwoNumbers(self, l1: Optional[ListNode], l2: Optional[ListNode]) -> Optional[ListNode]:\n",
    "        dummyHead = ListNode(0)\n",
    "        curr = dummyHead\n",
    "        carry = 0\n",
    "        while l1 != None or l2 != None or carry != 0:\n",
    "            l1Val = l1.val if l1 else 0\n",
    "            l2Val = l2.val if l2 else 0\n",
    "            columnSum = l1Val + l2Val + carry # 7 10 8\n",
    "            carry = columnSum // 10 # 0 1 0\n",
    "            # print(columnSum, carry)\n",
    "            newNode = ListNode(columnSum % 10) #ListNode{val: 7, next: None} ListNode{val: 0, next: None} ListNode{val: 8, next: None}\n",
    "            # print(newNode) \n",
    "            curr.next = newNode # None None None\n",
    "            curr = newNode # ListNode{val: 7, next: None} ListNode{val: 0, next: None} ListNode{val: 8, next: None}\n",
    "            # print(curr.next, curr)\n",
    "            l1 = l1.next if l1 else None\n",
    "            # print(l1)\n",
    "            l2 = l2.next if l2 else None\n",
    "            # print(l2)\n",
    "        return dummyHead.next"
   ]
  },
  {
   "attachments": {},
   "cell_type": "markdown",
   "metadata": {},
   "source": [
    "아직까지 고민한 흔적들이 보인다. \n",
    "아무래도 파이썬으로 알고리즘 공부를 좀 해야 할까? ㅠ "
   ]
  }
 ],
 "metadata": {
  "kernelspec": {
   "display_name": "Python 3",
   "language": "python",
   "name": "python3"
  },
  "language_info": {
   "name": "python",
   "version": "3.10.6 (main, Aug 11 2022, 13:49:25) [Clang 13.1.6 (clang-1316.0.21.2.5)]"
  },
  "orig_nbformat": 4,
  "vscode": {
   "interpreter": {
    "hash": "aee8b7b246df8f9039afb4144a1f6fd8d2ca17a180786b69acc140d282b71a49"
   }
  }
 },
 "nbformat": 4,
 "nbformat_minor": 2
}
