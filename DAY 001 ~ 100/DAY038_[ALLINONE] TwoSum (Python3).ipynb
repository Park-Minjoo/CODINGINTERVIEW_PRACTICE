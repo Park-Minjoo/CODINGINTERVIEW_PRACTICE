{
 "cells": [
  {
   "cell_type": "markdown",
   "source": [
    "# [ALLINONE] TwoSum (Python3) "
   ],
   "metadata": {
    "collapsed": false
   }
  },
  {
   "cell_type": "markdown",
   "source": [
    "### 처음에 짠 코드 (오답)"
   ],
   "metadata": {
    "collapsed": false
   }
  },
  {
   "cell_type": "code",
   "outputs": [],
   "source": [
    "import sys\n",
    "input = sys.stdin.readline\n",
    "\n",
    "def twoSum(nums, target):\n",
    "    n = len(nums)\n",
    "    l = 0\n",
    "    r = n-1\n",
    "    \n",
    "    if l != r:\n",
    "        if nums[l] + nums[r] == target:\n",
    "            return True\n",
    "        l += 1\n",
    "        r -= 1\n",
    "        return False\n",
    "        \n",
    "print(twoSum(nums=[2, 1, 5, 7], target = 3))"
   ],
   "metadata": {
    "collapsed": false
   },
   "execution_count": null
  },
  {
   "cell_type": "markdown",
   "source": [
    "### 정답 코드"
   ],
   "metadata": {
    "collapsed": false
   }
  },
  {
   "cell_type": "markdown",
   "source": [
    "* 처음에 짠 코드\n",
    "* 어딘가 이상하고, 답이 맞지 않는다.\n",
    "* 왜 코딩테스트는 공부할수록 뒤로 후퇴하는 기분이지? (ㅠㅠ)"
   ],
   "metadata": {
    "collapsed": false
   }
  },
  {
   "cell_type": "code",
   "outputs": [],
   "source": [
    "import sys\n",
    "input = sys.stdin.readline\n",
    "\n",
    "def twoSum(nums, target):\n",
    "    l, r = 0, len(nums) - 1\n",
    "    \n",
    "    while l<r:\n",
    "        if nums[l] + nums[r] > target:\n",
    "            r -= 1\n",
    "        elif nums[l] + nums[r] < target:\n",
    "            l += 1\n",
    "            \n",
    "        elif nums[l] + nums[r] == target:\n",
    "            return True\n",
    "    return False\n",
    "        \n",
    "print(twoSum(nums=[2, 1, 5, 7], target = 4))"
   ],
   "metadata": {
    "collapsed": false
   },
   "execution_count": null
  },
  {
   "cell_type": "markdown",
   "source": [
    "* 일단 조건을 3가지로 나눴어야 했는데 그 부분을 선언하지 않고 한꺼번에 l, r를 움직였으니 제대로 될리가 없다!\n",
    "* "
   ],
   "metadata": {
    "collapsed": false
   }
  }
 ],
 "metadata": {
  "language_info": {
   "name": "python"
  },
  "orig_nbformat": 4,
  "kernelspec": {
   "name": "python3",
   "language": "python",
   "display_name": "Python 3 (ipykernel)"
  }
 },
 "nbformat": 4,
 "nbformat_minor": 2
}
