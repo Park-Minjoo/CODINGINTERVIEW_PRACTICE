{
 "cells": [
  {
   "attachments": {},
   "cell_type": "markdown",
   "metadata": {},
   "source": [
    "프로그래머스에 나온 level.0의 쉬운 문제.\n",
    "쉬운 문제부터 정복해보자 하는 생각에 풀어보았다. "
   ]
  },
  {
   "attachments": {},
   "cell_type": "markdown",
   "metadata": {},
   "source": [
    "머쓱이는 추운 날에도 아이스 아메리카노만 마십니다. 아이스 아메리카노는 한잔에 5,500원입니다. 머쓱이가 가지고 있는 돈 money가 매개변수로 주어질 때, 머쓱이가 최대로 마실 수 있는 아메리카노의 잔 수와 남는 돈을 순서대로 담은 배열을 return 하도록 solution 함수를 완성해보세요.\n",
    "\n",
    "#### 제한사항\n",
    "        0 < money ≤ 1,000,000\n",
    "#### 입출력 예\n",
    "        money\tresult\n",
    "        5,500\t[1, 0]\n",
    "        15,000\t[2, 4000]\n",
    "\n",
    "#### 입출력 예 #1\n",
    "> 5,500원은 아이스 아메리카노 한 잔을 살 수 있고 잔돈은 0원입니다.\n",
    "#### 입출력 예 #2\n",
    "> 15,000원은 아이스 아메리카노 두 잔을 살 수 있고 잔돈은 4,000원입니다."
   ]
  },
  {
   "cell_type": "code",
   "execution_count": 1,
   "metadata": {},
   "outputs": [],
   "source": [
    "\n",
    "def solution(money):\n",
    "    coffee = 0\n",
    "    while(money >= 5500): # 15000 9500\n",
    "        coffee += 1 # 1 2\n",
    "        money -= 5500 # 9500 4000\n",
    "    answer = [coffee, money]\n",
    "    return answer"
   ]
  },
  {
   "attachments": {},
   "cell_type": "markdown",
   "metadata": {},
   "source": [
    "반복문 돌려서 하나씩 더하고 돈을 빼는 식으로 계산했다. "
   ]
  },
  {
   "cell_type": "code",
   "execution_count": null,
   "metadata": {},
   "outputs": [],
   "source": [
    "def solution(money):\n",
    "    answer = [money // 5500, money % 5500]\n",
    "    return answer"
   ]
  },
  {
   "attachments": {},
   "cell_type": "markdown",
   "metadata": {},
   "source": [
    "그런데 생각해보니 이렇게 간단하게 한 줄로 끝나는 문장이었다. \n",
    "요새 자바를 해서 그런가... 파이썬 문법을 많이 까먹었다. "
   ]
  },
  {
   "cell_type": "code",
   "execution_count": null,
   "metadata": {},
   "outputs": [],
   "source": [
    "Blog: https://mandy5g.tistory.com/33"
   ]
  }
 ],
 "metadata": {
  "kernelspec": {
   "display_name": "Python 3",
   "language": "python",
   "name": "python3"
  },
  "language_info": {
   "codemirror_mode": {
    "name": "ipython",
    "version": 3
   },
   "file_extension": ".py",
   "mimetype": "text/x-python",
   "name": "python",
   "nbconvert_exporter": "python",
   "pygments_lexer": "ipython3",
   "version": "3.9.6"
  },
  "orig_nbformat": 4,
  "vscode": {
   "interpreter": {
    "hash": "31f2aee4e71d21fbe5cf8b01ff0e069b9275f58929596ceb00d14d90e3e16cd6"
   }
  }
 },
 "nbformat": 4,
 "nbformat_minor": 2
}
