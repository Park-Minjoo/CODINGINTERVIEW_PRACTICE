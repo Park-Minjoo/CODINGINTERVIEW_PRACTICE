{
 "cells": [
  {
   "attachments": {},
   "cell_type": "markdown",
   "metadata": {},
   "source": [
    "# [Programmers] 피자나눠먹기 (1)"
   ]
  },
  {
   "attachments": {},
   "cell_type": "markdown",
   "metadata": {},
   "source": [
    "## Problem: https://school.programmers.co.kr/learn/courses/30/lessons/120814\n",
    "## Blog: https://mandy5g.tistory.com/37"
   ]
  },
  {
   "attachments": {},
   "cell_type": "markdown",
   "metadata": {},
   "source": [
    "머쓱이네 피자가게는 피자를 일곱 조각으로 잘라 줍니다. 피자를 나눠먹을 사람의 수 n이 주어질 때, 모든 사람이 피자를 한 조각 이상 먹기 위해 필요한 피자의 수를 return 하는 solution 함수를 완성해보세요.\n",
    "\n",
    "#### 제한사항\n",
    "> 1 ≤ n ≤ 100\n",
    "\n",
    "#### 입출력 예\n",
    "    n\tresult\n",
    "    7\t1\n",
    "    1\t1\n",
    "    15\t3\n",
    "#### 입출력 예 설명\n",
    ">   입출력 예 #1\n",
    "\n",
    "    7명이 최소 한 조각씩 먹기 위해서 최소 1판이 필요합니다.\n",
    "\n",
    ">   입출력 예 #2\n",
    "\n",
    "    1명은 최소 한 조각을 먹기 위해 1판이 필요합니다.\n",
    "\n",
    ">   입출력 예 #3\n",
    "\n",
    "\n",
    "    15명이 최소 한 조각씩 먹기 위해서 최소 3판이 필요합니다."
   ]
  },
  {
   "attachments": {},
   "cell_type": "markdown",
   "metadata": {},
   "source": [
    "프로그래머스 기초 문제들은 간단한 개념들을 하나씩 학습하기에 좋은 것 같다. \n",
    "아직 level.0에 머무르면서 간단한 문제들을 하나씩 풀고 있는 중이다. "
   ]
  },
  {
   "cell_type": "code",
   "execution_count": null,
   "metadata": {},
   "outputs": [],
   "source": [
    "# Solution 1\n",
    "\n",
    "import math\n",
    "\n",
    "def solution(n):\n",
    "    answer = math.ceil(n / 7)\n",
    "    return answer"
   ]
  },
  {
   "attachments": {},
   "cell_type": "markdown",
   "metadata": {},
   "source": [
    "나는 이런식으로 올림을 해줘서 구했다.\n",
    "처음에 피자가 8조각인 줄 알고 고생을 좀 했다..ㅋㅋ \n",
    " 다른 분들의 코드 중 괜찮은 것을 골라와봤다. "
   ]
  },
  {
   "cell_type": "code",
   "execution_count": null,
   "metadata": {},
   "outputs": [],
   "source": [
    "# Solution 2\n",
    "\n",
    "def solution(n):\n",
    "    return (n - 1) // 7 + 1"
   ]
  },
  {
   "attachments": {},
   "cell_type": "markdown",
   "metadata": {},
   "source": [
    "이렇게 간단하게 풀이할 수 있는 방법이 있었다. \n",
    "하지만 보기에 간단해보인다고 생각해내기가 간단하지는 않은 코드..\n",
    "\n",
    "* 잠깐 // 의 용법을 살펴보자면 이렇다.\n",
    "    * 밑의 코드에서 보이다 싶이 몫을 출력해주는 연산자라고 생각해주면 된다. \n",
    "    * Solution 2에서는 n-1을 해줬는데 그 이유는 7판이라고 해서 2판이 되는 것이 아니라 7판까지 1판이어야 되기 때문이다. \n",
    "    * n // 6 을 해주는 것보다는 (n - 1) // 7 을 하는 것이 훨씬 더 직관적이라는 것을 알 수 있다. \n",
    "    * 여기에 1을 더해주면 된다. "
   ]
  },
  {
   "cell_type": "code",
   "execution_count": null,
   "metadata": {},
   "outputs": [],
   "source": [
    "def dashdash(n):\n",
    "    return n // 3\n",
    "\n",
    "dashdash(1) # 0\n",
    "dashdash(2) # 0 \n",
    "dashdash(3) # 1"
   ]
  }
 ],
 "metadata": {
  "kernelspec": {
   "display_name": "Python 3",
   "language": "python",
   "name": "python3"
  },
  "language_info": {
   "name": "python",
   "version": "3.10.6 (main, Aug 11 2022, 13:49:25) [Clang 13.1.6 (clang-1316.0.21.2.5)]"
  },
  "orig_nbformat": 4,
  "vscode": {
   "interpreter": {
    "hash": "aee8b7b246df8f9039afb4144a1f6fd8d2ca17a180786b69acc140d282b71a49"
   }
  }
 },
 "nbformat": 4,
 "nbformat_minor": 2
}
