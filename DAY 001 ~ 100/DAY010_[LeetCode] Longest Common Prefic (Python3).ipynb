{
 "cells": [
  {
   "attachments": {},
   "cell_type": "markdown",
   "metadata": {},
   "source": [
    "# [LeetCode] Longest Common Prefix"
   ]
  },
  {
   "attachments": {},
   "cell_type": "markdown",
   "metadata": {},
   "source": [
    "## Problem: https://leetcode.com/problems/longest-common-prefix/description/\n",
    "## Blog: https://mandy5g.tistory.com/38"
   ]
  },
  {
   "attachments": {},
   "cell_type": "markdown",
   "metadata": {},
   "source": [
    "#### Write a function to find the longest common prefix string amongst an array of strings.\n",
    "\n",
    "If there is no common prefix, return an empty string \"\".\n",
    "\n",
    " \n",
    "\n",
    "> Example 1:\n",
    "\n",
    "        Input: strs = [\"flower\",\"flow\",\"flight\"]\n",
    "        Output: \"fl\"\n",
    "\n",
    "> Example 2:\n",
    "\n",
    "        Input: strs = [\"dog\",\"racecar\",\"car\"]\n",
    "        Output: \"\"\n",
    "        Explanation: There is no common prefix among the input strings.\n",
    " \n",
    "\n",
    "> Constraints:\n",
    "\n",
    "        1 <= strs.length <= 200\n",
    "        0 <= strs[i].length <= 200\n",
    "        strs[i] consists of only lowercase English letters."
   ]
  },
  {
   "attachments": {},
   "cell_type": "markdown",
   "metadata": {},
   "source": [
    "사실 처음에 고민을 많이 했지만,,, 풀지 못했고 다른 분들이 leetcode에 올려두신 solution을 참고했다. "
   ]
  },
  {
   "cell_type": "code",
   "execution_count": null,
   "metadata": {},
   "outputs": [],
   "source": [
    "class Solution:\n",
    "    def longestCommonPrefix(self, strs: List[str]) -> str:\n",
    "        # get str\n",
    "        # print(strs)\n",
    "        \n",
    "        res = \"\"\n",
    "        # loop statement for the number of input str\n",
    "        for a in zip(*strs):\n",
    "            print(set(a))\n",
    "            if len(set(a)) == 1:\n",
    "                res += a[0]\n",
    "            else :\n",
    "                return res\n",
    "        return res"
   ]
  },
  {
   "attachments": {},
   "cell_type": "markdown",
   "metadata": {},
   "source": [
    "* 아직 python 문법에 대해 모르는 부분이 많다. \n",
    "* 파이썬의 경우 주먹구구식으로 프로젝트부터 진행했던 터라 체계적으로 어떻게 돌아가는 지도 잘 알지 못하고, 다른 언어와 달리 파이썬은 제공해주는 기본 함수들이 굉장히 많은데 이런 부분들을 잘 알지 못하고 있다. \n",
    "* 그런 면에 있어서 오늘은 'zip' 함수와 'set'함수에 대해서 나오는 데 이를 한 번 살펴보자. "
   ]
  },
  {
   "attachments": {},
   "cell_type": "markdown",
   "metadata": {},
   "source": [
    "### zip() Function\n",
    "The zip() function returns a zip object, which is an iterator of tuples where the first item in each passed iterator is paired together, and then the second item in each passed iterator are paired together etc.\n",
    "\n",
    "* 그러니까 이게 무슨 말인가 하면, 각각의 tuple의 짝을 이뤄준다는 뜻이다. \n",
    "* 그래서 지퍼를 올리는 것 처럼 짝을 맞춰주는 것인데 밑에 예제를 돌려보면 (('John', 'Jenny'), ('Charles', 'Christy'), ('Mike', 'Monica')) 이런 식으로 짝을 이룬다. "
   ]
  },
  {
   "cell_type": "code",
   "execution_count": 4,
   "metadata": {},
   "outputs": [
    {
     "name": "stdout",
     "output_type": "stream",
     "text": [
      "(('John', 'Jenny'), ('Charles', 'Christy'), ('Mike', 'Monica'))\n"
     ]
    }
   ],
   "source": [
    "a = (\"John\", \"Charles\", \"Mike\")\n",
    "b = (\"Jenny\", \"Christy\", \"Monica\")\n",
    "\n",
    "x = zip(a, b)\n",
    "print(tuple(x))\n",
    "\n",
    "# Source: https://www.w3schools.com/python/ref_func_zip.asp"
   ]
  },
  {
   "attachments": {},
   "cell_type": "markdown",
   "metadata": {},
   "source": [
    "### set() Function\n",
    "Sets are used to store multiple items in a single variable.\n",
    "Set items are unordered, unchangeable, and do not allow duplicate values.\n",
    "\n",
    "* Set은 수학에서 처럼 교집합으로 생각하면 편하다. \n",
    "* 순서가 없다는 특징이 있고, 변하지 않으며 중복을 허용하지 않는다. \n",
    "    * 따라서 답안에서 set의 길이가 1이라고 하면, 중복된 값이 없다는 뜻이므로 같은 문자를 뜻하는 것을 알 수 있다. "
   ]
  }
 ],
 "metadata": {
  "kernelspec": {
   "display_name": "Python 3",
   "language": "python",
   "name": "python3"
  },
  "language_info": {
   "codemirror_mode": {
    "name": "ipython",
    "version": 3
   },
   "file_extension": ".py",
   "mimetype": "text/x-python",
   "name": "python",
   "nbconvert_exporter": "python",
   "pygments_lexer": "ipython3",
   "version": "3.10.6"
  },
  "orig_nbformat": 4,
  "vscode": {
   "interpreter": {
    "hash": "aee8b7b246df8f9039afb4144a1f6fd8d2ca17a180786b69acc140d282b71a49"
   }
  }
 },
 "nbformat": 4,
 "nbformat_minor": 2
}
