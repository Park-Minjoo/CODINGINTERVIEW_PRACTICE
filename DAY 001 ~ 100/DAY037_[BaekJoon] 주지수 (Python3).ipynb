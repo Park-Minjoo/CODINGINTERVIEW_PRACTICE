{
 "cells": [
  {
   "cell_type": "markdown",
   "source": [
    "# [BeakJoon] 주지수 (Python3) - Silver I"
   ],
   "metadata": {
    "collapsed": false
   }
  },
  {
   "attachments": {},
   "cell_type": "markdown",
   "metadata": {},
   "source": [
    "## Problem: https://www.acmicpc.net/status?user_id=alswn9030&problem_id=15724&from_mine=1\n",
    "## Blog: "
   ]
  },
  {
   "cell_type": "markdown",
   "source": [
    "### 처음에 짠 코드 (시간초과)"
   ],
   "metadata": {
    "collapsed": false
   }
  },
  {
   "cell_type": "code",
   "outputs": [],
   "source": [
    "import sys\n",
    "input = sys.stdin.readline\n",
    "\n",
    "n, m = map(int, input().split())\n",
    "people = [list(map(int, input().split())) for _ in range(n)]\n",
    "k = int(input())\n",
    "\n",
    "for _ in range(k):\n",
    "    x1, y1, x2, y2 = map(int, input().split())\n",
    "    res = 0\n",
    "    # print(people[x1-1][y1-1], people[x2-1][y2-1])\n",
    "    for i in range(x2 - x1 + 1):\n",
    "        for j in range(y2 - y1 + 1):\n",
    "            res += people[i][j]\n",
    "    print(res)\n",
    "\n",
    "\n",
    "'''\n",
    "Input\n",
    "4 4\n",
    "9 14 29 7\n",
    "1 31 6 13\n",
    "21 26 40 16\n",
    "8 38 11 23\n",
    "3\n",
    "1 1 3 2\n",
    "1 1 1 4\n",
    "1 1 4 4\n",
    "\n",
    "Output\n",
    "102\n",
    "59\n",
    "293\n",
    "'''"
   ],
   "metadata": {
    "collapsed": false
   }
  },
  {
   "cell_type": "markdown",
   "source": [
    "* 답이 나오긴 하는데 이런식으로 냅다 이중 for 문으로 돌리면 시간복잡도가 O(n*m*k)가 나와서 시간초과!\n",
    "* 누적합을 구해야 하는 문제"
   ],
   "metadata": {
    "collapsed": false
   }
  },
  {
   "cell_type": "markdown",
   "source": [
    "### 누적합 적용"
   ],
   "metadata": {
    "collapsed": false
   }
  },
  {
   "cell_type": "code",
   "execution_count": null,
   "metadata": {},
   "outputs": [],
   "source": [
    "import sys\n",
    "input = sys.stdin.readline\n",
    "\n",
    "n, m = map(int, input().split())\n",
    "people = [list(map(int, input().split())) for _ in range(n)]\n",
    "\n",
    "dp = [[0] * (m+1) for _ in range(n+1)]\n",
    "for i in range(1, n+1):\n",
    "    for j in range(1, m+1):\n",
    "        dp[i][j] = people[i-1][j-1] + dp[i-1][j] + dp[i][j-1] - dp[i-1][j-1]\n",
    "\n",
    "for _ in range(int(input())):\n",
    "    x, y, i, j = map(int, input().split())\n",
    "    print(dp[i][j] - dp[x-1][j] - dp[i][y-1] + dp[x-1][y-1])"
   ]
  },
  {
   "cell_type": "markdown",
   "source": [
    "* 훨씬 간결해진 코드\n",
    "* dp를 선언해서 누적합을 구하고, 거기에서 포함된 부부을 제거하는 식으로 구간합을 구한다!"
   ],
   "metadata": {
    "collapsed": false
   }
  },
  {
   "cell_type": "markdown",
   "source": [],
   "metadata": {
    "collapsed": false
   }
  }
 ],
 "metadata": {
  "language_info": {
   "name": "python"
  },
  "orig_nbformat": 4,
  "kernelspec": {
   "name": "python3",
   "language": "python",
   "display_name": "Python 3 (ipykernel)"
  }
 },
 "nbformat": 4,
 "nbformat_minor": 2
}
